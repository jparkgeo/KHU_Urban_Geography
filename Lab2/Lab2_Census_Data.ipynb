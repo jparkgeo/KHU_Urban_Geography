{
 "cells": [
  {
   "cell_type": "code",
   "execution_count": null,
   "metadata": {},
   "outputs": [],
   "source": [
    "# Mounting Google Drive \n",
    "from google.colab import drive\n",
    "drive.mount('/content/drive')"
   ]
  },
  {
   "cell_type": "code",
   "execution_count": null,
   "metadata": {},
   "outputs": [],
   "source": [
    "# Change the current working directory to the mounted Google Drive\n",
    "%cd /content/drive/MyDrive/Colab Notebooks/KHU_Urban_Geography/Lab2"
   ]
  },
  {
   "cell_type": "code",
   "execution_count": null,
   "metadata": {},
   "outputs": [],
   "source": [
    "# This code should provide \"/content/drive/MyDrive/Colab Notebooks/KHU_Urban_Geography/Lab2\"\n",
    "!pwd"
   ]
  },
  {
   "cell_type": "code",
   "execution_count": null,
   "metadata": {},
   "outputs": [],
   "source": [
    "# Installing a package for choropleth mapping (Not available in Colab)\n",
    "!pip install -U mapclassify"
   ]
  },
  {
   "cell_type": "markdown",
   "metadata": {},
   "source": [
    "# Urban Hierarchies of the United States using population and Gross Domestic Product (GDP) data\n",
    "\n",
    "This Jupyter notebook analyzes the urban hierarchy of the United States using population and Gross Domestic Income (GDP) data. For the analysis, this notebook utilizes varous Python packages: Pandas (https://pandas.pydata.org/), GeoPandas (https://geopandas.org/en/stable/#), Matplotlib (https://matplotlib.org/) and Scipy (https://scipy.org/). \n",
    "\n",
    "### Data: \n",
    "- County Geometry: https://www.census.gov/geographies/mapping-files/time-series/geo/tiger-line-file.html \n",
    "- County-level Population (American Community Survey): https://www.census.gov/programs-surveys/acs/data.html \n",
    "- County-level GDP (Bureau of Economic Analysis): https://www.bea.gov/data/gdp/gdp-county-metro-and-other-areas\n",
    "\n",
    "### Steps: \n",
    "1. Read the shapefile using GeoPandas (County Geometry) <br>\n",
    "2. Selecting rows (records) based on a condition <br>\n",
    "3. Load Excel File with Pandas (GDP data) <br>\n",
    "4. Join (Merge) county geometry and GDP data <br>\n",
    "5. Make a choropleth map of GDP data <br>\n",
    "6. Correlation Analysis between Population and GDP <br>"
   ]
  },
  {
   "cell_type": "markdown",
   "metadata": {},
   "source": [
    "# Import Packages\n",
    "A Python package is a way of organizing related Python modules into a single directory hierarchy. It provides a mechanism for grouping Python code files, resources, and configuration settings in a structured manner, making it easier to manage and distribute code. They also facilitate code reuse and distribution by allowing developers to bundle related functionality together and share it with others.\n",
    "\n",
    "We will be using the following packages in this notebook: <br>\n",
    "`pandas` is a Python package providing fast, flexible, and expressive data structures designed to make working with “relational” or “labeled” data both easy and intuitive. <br>\n",
    "source: https://pandas.pydata.org/docs/getting_started/overview.html\n",
    "\n",
    "`geopandas` is the geographic expansion of `pandas`, allowing to have geometry and working with vector data. <br>\n",
    "source: https://geopandas.org/en/stable/getting_started/introduction.html\n",
    "\n",
    "`matplotlib` provides a collection of functions that make plots and maps. Each pyplot function makes some change to a figure: e.g., creates a figure, creates a plotting area in a figure, plots some lines in a plotting area, decorates the plot with labels, etc. <br>\n",
    "source: https://matplotlib.org/stable/users/getting_started/"
   ]
  },
  {
   "cell_type": "code",
   "execution_count": null,
   "metadata": {},
   "outputs": [],
   "source": [
    "import geopandas as gpd\n",
    "import pandas as pd\n",
    "import matplotlib.pyplot as plt"
   ]
  },
  {
   "cell_type": "code",
   "execution_count": null,
   "metadata": {},
   "outputs": [],
   "source": [
    "# Load County Shapefile\n",
    "county_gdf = gpd.read_file('./data/county_cleaned.shp')\n",
    "\n",
    "# Load GDP Data\n",
    "gdp_df = pd.read_excel('./data/GDP_data_cleaned.xlsx', dtype={'GEOID': str})\n",
    "\n",
    "# Merge (Join) GDP Data with County Shapefile\n",
    "gdp_gdf = county_gdf.merge(gdp_df, on='GEOID', how='left')\n",
    "\n",
    "# Visualize GDP Data\n",
    "# Create an empty figure and axis (canvas)\n",
    "fig, ax = plt.subplots(1, 1, figsize=(10,10))  \n",
    "\n",
    "gdp_gdf.plot(column='GDP',            # Column to visualize\n",
    "             cmap='Blues',            # Color map\n",
    "             scheme='NaturalBreaks',  # Classification scheme\n",
    "             legend=True,             # Show legend\n",
    "             legend_kwds={'loc': 'lower left', 'fontsize': 8.1}, # Legend settings\n",
    "             k=7,                     # Number of classes\n",
    "             ax=ax                    # Axis to plot on\n",
    "             )\n",
    "\n",
    "# Load state shapefile (Plotting purposes)\n",
    "state_gdf = gpd.read_file('./data/states.shp') \n",
    "\n",
    "# Add state boundaries\n",
    "state_gdf.boundary.plot(ax=ax, color='grey', linewidth=0.5) \n",
    "\n",
    "# Set title\n",
    "ax.set_title('County-level Gross Domestic Product (GDP)', fontsize=16) \n",
    "\n",
    "# Remove axis\n",
    "ax.axis('off') \n",
    "\n",
    "plt.show() # Show the plot\n"
   ]
  },
  {
   "cell_type": "markdown",
   "metadata": {},
   "source": [
    "# 1. Read the shapefile using GeoPandas (County Geometry)"
   ]
  },
  {
   "cell_type": "code",
   "execution_count": null,
   "metadata": {},
   "outputs": [],
   "source": [
    "# .read_file() method is used to read various spatial data formats (shapefile, GeoJSON, etc.)\n",
    "county_gdf = gpd.read_file('./data/county_cleaned.shp')\n",
    "county_gdf"
   ]
  },
  {
   "cell_type": "code",
   "execution_count": null,
   "metadata": {},
   "outputs": [],
   "source": [
    "# Cheking the data types of the columns (object = string, int64 = integer, float64 = float)\n",
    "county_gdf.dtypes"
   ]
  },
  {
   "cell_type": "code",
   "execution_count": null,
   "metadata": {},
   "outputs": [],
   "source": [
    "# When you import a spatial data, the type of the object is a GeoDataFrame\n",
    "type(county_gdf)"
   ]
  },
  {
   "cell_type": "code",
   "execution_count": null,
   "metadata": {},
   "outputs": [],
   "source": [
    "# Checking the columns of the GeoDataFrame\n",
    "county_gdf.columns"
   ]
  },
  {
   "cell_type": "code",
   "execution_count": null,
   "metadata": {},
   "outputs": [],
   "source": [
    "# Checking the contents of a column (e.g., GEOID) in the GeoDataFrame\n",
    "county_gdf['GEOID']"
   ]
  },
  {
   "cell_type": "code",
   "execution_count": null,
   "metadata": {},
   "outputs": [],
   "source": [
    "# You can use .plot() method to plot the GeoDataFrame. \n",
    "# If there is no 'geometry' column, it will plot a numerical values.\n",
    "county_gdf.plot()"
   ]
  },
  {
   "cell_type": "markdown",
   "metadata": {},
   "source": [
    "The code cell below shows how to check the Coordinate Reference System (CRS) of a GeoDataFrame. It is represented based on the EPSG code (https://epsg.io/)."
   ]
  },
  {
   "cell_type": "code",
   "execution_count": null,
   "metadata": {},
   "outputs": [],
   "source": [
    "# Checking the Coordinate Reference System (CRS) of the GeoDataFrame\n",
    "county_gdf.crs"
   ]
  },
  {
   "cell_type": "markdown",
   "metadata": {},
   "source": [
    "# 2. Selecting rows (records) based on a condition\n",
    "\n",
    "GeoPandas provides a method called `loc` to select rows based on a condition. \n",
    "The syntax is as shown below. \n",
    "\n",
    "```python\n",
    "gdf.loc[`row condition`, `column condition`] \n",
    "```\n",
    "\n",
    "For example, the code below demonstrates how to select rows based on a condition, selecting only the counties in the State of Alabama. \n",
    "\n",
    "```python\n",
    "county_gdf.loc[county_gdf['StateName'] == 'Alabama']\n",
    "```\n",
    "\n",
    "If you leave the column condition empty, it will select all columns. "
   ]
  },
  {
   "cell_type": "code",
   "execution_count": null,
   "metadata": {},
   "outputs": [],
   "source": [
    "# It is possible to compare the value within the Series (i.e., a column) to a list of values or a single value. \n",
    "# The result is a boolean Series.\n",
    "county_gdf['StateName'] == 'Alabama'"
   ]
  },
  {
   "cell_type": "code",
   "execution_count": null,
   "metadata": {},
   "outputs": [],
   "source": [
    "# .loc method is used to access a group of rows and columns by label(s) or a boolean array.\n",
    "county_gdf.loc[county_gdf['StateName'] == 'Alabama']"
   ]
  },
  {
   "cell_type": "code",
   "execution_count": null,
   "metadata": {},
   "outputs": [],
   "source": [
    "# You can assign the result to a new variable\n",
    "alabama_gdf = county_gdf.loc[county_gdf['StateName'] == 'Alabama']\n",
    "alabama_gdf"
   ]
  },
  {
   "cell_type": "code",
   "execution_count": null,
   "metadata": {},
   "outputs": [],
   "source": [
    "# Again, you can plot the GeoDataFrame using .plot() method\n",
    "alabama_gdf.plot()"
   ]
  },
  {
   "cell_type": "markdown",
   "metadata": {},
   "source": [
    "---\n",
    "### *Exercise*\n",
    "1. (6 points) The following in the syntax for the `loc` function in Pandas/GeoPandas. Select rows for New York State and assign it to a new variable called `ny_gdf`. <br><br>\n",
    "Note: Replace 'COLUMN NAME' with the actual column name and 'VALUE' with the actual value indicating New York. \n",
    "<br><br>\n",
    "StateCode: 36, StateName: New York <br>\n",
    "\n",
    "    ```python\n",
    "    ny_gdf = county_gdf.loc[county_gdf['COLUMN NAME'] == 'VALUE']\n",
    "    ```\n",
    "\n",
    "---"
   ]
  },
  {
   "cell_type": "code",
   "execution_count": null,
   "metadata": {},
   "outputs": [],
   "source": [
    "# Your code here\n",
    "ny_gdf = county_gdf.loc[county_gdf['COLUMN NAME'] == 'VALUE']\n",
    "ny_gdf"
   ]
  },
  {
   "cell_type": "code",
   "execution_count": null,
   "metadata": {},
   "outputs": [],
   "source": [
    "\"\"\" Test code for the previous function. \n",
    "This cell should NOT give any errors when it is run.\"\"\"\n",
    "\n",
    "assert ny_gdf['StateCode'].unique() == '36'\n",
    "assert ny_gdf['StateName'].unique() == 'New York'\n",
    "assert ny_gdf.shape[0] == 62\n",
    "\n",
    "print(\"Success!\")"
   ]
  },
  {
   "cell_type": "markdown",
   "metadata": {},
   "source": [
    "# 3. Load Excel File with Pandas (GDP data)"
   ]
  },
  {
   "cell_type": "code",
   "execution_count": null,
   "metadata": {},
   "outputs": [],
   "source": [
    "# To read a Excel file, you can use `pandas` package and .read_excel() method.\n",
    "# You can also use .read_csv() method to read a CSV file.\n",
    "# the output of .read_excel() and .read_csv() method is a DataFrame\n",
    "gdp_df = pd.read_excel('data/GDP_data_cleaned.xlsx', dtype={'GEOID': str})\n",
    "gdp_df"
   ]
  },
  {
   "cell_type": "code",
   "execution_count": null,
   "metadata": {},
   "outputs": [],
   "source": [
    "# Checking the type of the object\n",
    "type(gdp_df)"
   ]
  },
  {
   "cell_type": "code",
   "execution_count": null,
   "metadata": {},
   "outputs": [],
   "source": [
    "# Checking the data types of the columns (object = string, int64 = integer, float64 = float)\n",
    "gdp_df.dtypes"
   ]
  },
  {
   "cell_type": "markdown",
   "metadata": {},
   "source": [
    "---\n",
    "### *Exercise*\n",
    "2. (6 points) Investigate the data folder to find out the name of an Excel file that contains population data for the United States. <br> \n",
    "Then, load the Excel file using the `read_excel` function in Pandas and assign it to a new variable called `pop_df`. <br>\n",
    "\n",
    "    ```python\n",
    "    pop_df = pd.read_excel('./data/file_name.xlsx', dtype={'GEOID': str})\n",
    "    ```\n",
    "\n",
    "---"
   ]
  },
  {
   "cell_type": "code",
   "execution_count": null,
   "metadata": {},
   "outputs": [],
   "source": [
    "# Your code here\n",
    "\n",
    "pop_df = pd.read_excel('./data/file_name.xlsx', dtype={'GEOID': str})\n",
    "pop_df"
   ]
  },
  {
   "cell_type": "code",
   "execution_count": null,
   "metadata": {},
   "outputs": [],
   "source": [
    "# Your code here\n",
    "\n",
    "pop_df = pd.read_excel('./data/population_data_cleaned.xlsx', dtype={'GEOID': str})\n",
    "pop_df"
   ]
  },
  {
   "cell_type": "code",
   "execution_count": null,
   "metadata": {},
   "outputs": [],
   "source": [
    "\"\"\" Test code for the previous function. \n",
    "This cell should NOT give any errors when it is run.\"\"\"\n",
    "\n",
    "assert 'Pop' in pop_df.columns\n",
    "assert pop_df.shape == (3221, 3)\n",
    "assert pop_df['GEOID'].dtype == 'object'\n",
    "\n",
    "print(\"Success!\")"
   ]
  },
  {
   "cell_type": "markdown",
   "metadata": {},
   "source": [
    "# 4. Join (Merge) county geometry and GDP data\n",
    "\n",
    "Currently, `county_gdf` has geometry data and `gdp_df` has GDP data. We need to join (merge) these two datasets to make a choropleth map.\n",
    "\n",
    "### Join\n",
    "a join refers to the process of linking two sets of data based on a common attribute or field.\n",
    "\n",
    "![](https://desktop.arcgis.com/en/arcmap/latest/tools/data-management-toolbox/GUID-C441B51F-B581-4743-A975-3EB04087838C-web.gif)\n",
    "\n",
    "<br>\n",
    "Merge (join) method syntax is as shown below. \n",
    "    \n",
    "```python\n",
    "join_gdf = df1.merge(df2, on='COLUMN NAME')\n",
    "```\n",
    "\n",
    "resource: https://pandas.pydata.org/docs/reference/api/pandas.DataFrame.merge.html"
   ]
  },
  {
   "cell_type": "code",
   "execution_count": null,
   "metadata": {},
   "outputs": [],
   "source": [
    "# Checking `count_gdf`\n",
    "county_gdf"
   ]
  },
  {
   "cell_type": "code",
   "execution_count": null,
   "metadata": {},
   "outputs": [],
   "source": [
    "# Checking `gdp_df`\n",
    "gdp_df"
   ]
  },
  {
   "cell_type": "markdown",
   "metadata": {},
   "source": [
    "Both `county_gdf` and `gdp_df` have the column of `GEOID`, so that it can be used for the join. "
   ]
  },
  {
   "cell_type": "code",
   "execution_count": null,
   "metadata": {},
   "outputs": [],
   "source": [
    "# It is also recommend to check the data type of the column(s) that you want to merge.\n",
    "gdp_df.dtypes"
   ]
  },
  {
   "cell_type": "code",
   "execution_count": null,
   "metadata": {},
   "outputs": [],
   "source": [
    "county_gdf.dtypes"
   ]
  },
  {
   "cell_type": "markdown",
   "metadata": {},
   "source": [
    "Merge (join) method syntax is `df1.merge(df2, on='COLUMN NAME')`. <br>\n",
    "\n",
    "resource: https://pandas.pydata.org/docs/reference/api/pandas.DataFrame.merge.html"
   ]
  },
  {
   "cell_type": "code",
   "execution_count": null,
   "metadata": {},
   "outputs": [],
   "source": [
    "gdp_gdf = county_gdf.merge(gdp_df, on='GEOID', how='left')\n",
    "gdp_gdf"
   ]
  },
  {
   "cell_type": "code",
   "execution_count": null,
   "metadata": {},
   "outputs": [],
   "source": [
    "# Since we did the left-join, there are some missing values in the GDP column.\n",
    "# The following code is to select the rows that have missing values (NULL/NaN value) in the GDP column.\n",
    "gdp_gdf.loc[gdp_gdf['GDP'].isna()]"
   ]
  },
  {
   "cell_type": "code",
   "execution_count": 37,
   "metadata": {},
   "outputs": [],
   "source": [
    "# We can simply replace the NaN values with 0, using .fillna() method.\n",
    "gdp_gdf['GDP'] = gdp_gdf['GDP'].fillna(0)"
   ]
  },
  {
   "cell_type": "code",
   "execution_count": null,
   "metadata": {},
   "outputs": [],
   "source": [
    "# NaN values are gone!\n",
    "gdp_gdf.loc[gdp_gdf['GDP'].isna()]"
   ]
  },
  {
   "cell_type": "code",
   "execution_count": null,
   "metadata": {},
   "outputs": [],
   "source": [
    "gdp_gdf"
   ]
  },
  {
   "cell_type": "markdown",
   "metadata": {},
   "source": [
    "---\n",
    "### *Exercise*\n",
    "3. (6 points) Join `county_gdf` and `pop_df` using the `.merge()` method. You want you merge `pop_df` into `county_gdf` based on the `GEOID` column, and assigned the result into a new GeoDataFrame with the name of `pop_gdf`. <br><br>\n",
    "resource: https://pandas.pydata.org/docs/reference/api/pandas.DataFrame.merge.html\n",
    "\n",
    "\n",
    "Merge method syntax is as shown below. \n",
    "\n",
    "```python\n",
    "    pop_gdf = df1.merge(df2, on='COLUMN NAME', how='left')\n",
    "```\n",
    "\n",
    "Expected results are as follows: <br>\n",
    "![](https://github.com/jparkgeo/KHU_Urban_Geography/blob/main/Lab2/images/q3.jpg?raw=true)\n",
    "\n",
    "---\n",
    "\n"
   ]
  },
  {
   "cell_type": "code",
   "execution_count": null,
   "metadata": {},
   "outputs": [],
   "source": [
    "# Your code here\n",
    "\n",
    "pop_gdf = df1.merge(df2, on='COLUMN NAME', how='left')\n",
    "pop_gdf"
   ]
  },
  {
   "cell_type": "code",
   "execution_count": null,
   "metadata": {},
   "outputs": [],
   "source": [
    "pop_gdf = county_gdf.merge(pop_df, on='GEOID', how='left')\n",
    "pop_gdf"
   ]
  },
  {
   "cell_type": "code",
   "execution_count": null,
   "metadata": {},
   "outputs": [],
   "source": [
    "\"\"\" Test code for the previous function. \n",
    "This cell should NOT give any errors when it is run.\"\"\"\n",
    "\n",
    "assert 'GEOID' in pop_gdf.columns.to_list()\n",
    "assert 'geometry' in pop_gdf.columns.to_list()\n",
    "assert 'Pop' in pop_gdf.columns.to_list()\n",
    "assert pop_gdf.shape == (3108, 7)\n",
    "\n",
    "print(\"Success!\")"
   ]
  },
  {
   "cell_type": "markdown",
   "metadata": {},
   "source": [
    "# 5. Make a choropleth map of GDP data \n",
    "\n",
    "GeoDataFrame has a built-in function called `plot` to make a choropleth map. <br>\n",
    "\n",
    "Syntax: `GeoDataFrame.plot(column='COLUMN NAME', cmap='COLOR MAP NAME', legend=True, figsize=(WIDTH, HEIGHT))`"
   ]
  },
  {
   "cell_type": "code",
   "execution_count": null,
   "metadata": {},
   "outputs": [],
   "source": [
    "gdp_gdf.plot(column='GDP', figsize=(10,5), legend=True)"
   ]
  },
  {
   "cell_type": "markdown",
   "metadata": {},
   "source": [
    "`camp` attribute is used to change the color map. <br>\n",
    "various color maps: https://matplotlib.org/stable/users/explain/colors/colormaps.html"
   ]
  },
  {
   "cell_type": "code",
   "execution_count": null,
   "metadata": {},
   "outputs": [],
   "source": [
    "gdp_gdf.plot(column='GDP', cmap='Blues', figsize=(10,5), legend=True)"
   ]
  },
  {
   "cell_type": "markdown",
   "metadata": {},
   "source": [
    "`scheme` attribute is used to change the classification method. <br>\n",
    "various classification methods: https://pysal.org/mapclassify/api.html"
   ]
  },
  {
   "cell_type": "code",
   "execution_count": null,
   "metadata": {},
   "outputs": [],
   "source": [
    "gdp_gdf.plot(column='GDP', cmap='Blues', scheme='NaturalBreaks', figsize=(10,5), legend=True)"
   ]
  },
  {
   "cell_type": "code",
   "execution_count": null,
   "metadata": {},
   "outputs": [],
   "source": [
    "gdp_gdf.plot(column='GDP', cmap='Blues', scheme='NaturalBreaks', figsize=(10,5), legend=True, k=7)"
   ]
  },
  {
   "cell_type": "markdown",
   "metadata": {},
   "source": [
    "The current map is missing the state boundary, making the interpretation of the map difficult. <br>\n",
    "In Python, it is also possible to overlay multiple layers on a map. But, just to keep the lab simple, the following code shows the examples of overlaying the state boundary and the choropleth map of GDP. <br>\n"
   ]
  },
  {
   "cell_type": "code",
   "execution_count": null,
   "metadata": {},
   "outputs": [],
   "source": [
    "# Get another layer of the state boundaries\n",
    "state_gdf = gpd.read_file('./data/states.shp')\n",
    "\n",
    "fig, ax = plt.subplots(figsize=(10,10))\n",
    "\n",
    "gdp_gdf.plot(column='GDP', cmap='Blues', scheme='NaturalBreaks', figsize=(10,10), legend=True, k=7, ax=ax, legend_kwds={'loc': 'lower left'})\n",
    "state_gdf.boundary.plot(ax=ax, color='black', linewidth=0.5, alpha=0.5)\n",
    "plt.show()"
   ]
  },
  {
   "cell_type": "markdown",
   "metadata": {},
   "source": [
    "---\n",
    "### *Exercise*\n",
    "4. (7 points) Create a choropleth map of population for the conterminous United States. <br>\n",
    "    - Consult using the code below and fill in a proper information for the attributes below <br>\n",
    "    - `column`: column with the population information <br>\n",
    "    - `cmap` : Green color map (resource: https://matplotlib.org/stable/users/explain/colors/colormaps.html) <br>\n",
    "    - `scheme`: Natural Break classification method <br>\n",
    "    - `legend`: True (to show the legend) <br>\n",
    "    - `k`: 7 (number of classes) <br>\n",
    "\n",
    "    ```python\n",
    "    fig, ax = plt.subplots(figsize=(10,5)) # Define the canvas for the map\n",
    "\n",
    "    # Plot the population data\n",
    "    pop_gdf.plot(column=`COLUMN NAME`, cmap=`COLOR MAP NAME`, scheme=`CLASSIFICATION METHOD`, legend=True, k=`NUMBER OF CLASSES`, ax=ax)\n",
    "\n",
    "    # Plot the state boundary\n",
    "    state_gdf.boundary.plot(ax=ax, color='black', linewidth=0.5, alpha=0.5)\n",
    "\n",
    "    # Show the map\n",
    "    plt.show()\n",
    "    ```\n",
    "\n",
    "Expected results are as follows: <br>\n",
    "![](https://github.com/jparkgeo/KHU_Urban_Geography/blob/main/Lab2/images/q4.jpg?raw=true)\n",
    "\n",
    "---\n"
   ]
  },
  {
   "cell_type": "code",
   "execution_count": null,
   "metadata": {},
   "outputs": [],
   "source": [
    "# Your code here\n",
    "fig, ax = plt.subplots(figsize=(10,5)) # Define the canvas for the map\n",
    "\n",
    "# Plot the population data\n",
    "pop_gdf.plot(column=`COLUMN NAME`, cmap=`COLOR MAP NAME`, scheme=`CLASSIFICATION METHOD`, legend=True, k=`NUMBER OF CLASSES`, ax=ax)\n",
    "\n",
    "# Plot the state boundary\n",
    "state_gdf.boundary.plot(ax=ax, color='black', linewidth=0.5, alpha=0.5)\n",
    "\n",
    "# Show the map\n",
    "plt.show()"
   ]
  },
  {
   "cell_type": "code",
   "execution_count": null,
   "metadata": {},
   "outputs": [],
   "source": [
    "# Your code here\n",
    "fig, ax = plt.subplots(figsize=(10,10)) # Define the canvas for the map\n",
    "\n",
    "# Plot the population data\n",
    "pop_gdf.plot(column='Pop', cmap='Greens', scheme='NaturalBreaks', legend=True, k=7, ax=ax)\n",
    "\n",
    "# Plot the state boundary\n",
    "state_gdf.boundary.plot(ax=ax, color='black', linewidth=0.5, alpha=0.5)\n",
    "\n",
    "# Show the map\n",
    "plt.show()"
   ]
  },
  {
   "cell_type": "markdown",
   "metadata": {},
   "source": [
    "# Summary\n",
    "\n",
    "the following is the backbone of the code for the analysis. <br>"
   ]
  },
  {
   "cell_type": "code",
   "execution_count": null,
   "metadata": {},
   "outputs": [],
   "source": [
    "import geopandas as gpd\n",
    "import pandas as pd\n",
    "import matplotlib.pyplot as plt\n",
    "\n",
    "\n",
    "# Load County Shapefile\n",
    "county_gdf = gpd.read_file('./data/county_cleaned.shp')\n",
    "\n",
    "# Load GDP Data\n",
    "gdp_df = pd.read_excel('./data/GDP_data_cleaned.xlsx', dtype={'GEOID': str})\n",
    "\n",
    "# Merge (Join) GDP Data with County Shapefile\n",
    "gdp_gdf = county_gdf.merge(gdp_df, on='GEOID', how='left')\n",
    "\n",
    "# Visualize GDP Data\n",
    "# Create an empty figure and axis (canvas)\n",
    "fig, ax = plt.subplots(1, 1, figsize=(10,10))  \n",
    "\n",
    "gdp_gdf.plot(column='GDP',            # Column to visualize\n",
    "             cmap='Blues',            # Color map\n",
    "             scheme='NaturalBreaks',  # Classification scheme\n",
    "             legend=True,             # Show legend\n",
    "             legend_kwds={'loc': 'lower left', 'fontsize': 8.1}, # Legend settings\n",
    "             k=7,                     # Number of classes\n",
    "             ax=ax                    # Axis to plot on\n",
    "             )\n",
    "\n",
    "# Load state shapefile (Plotting purposes)\n",
    "state_gdf = gpd.read_file('./data/states.shp') \n",
    "\n",
    "# Add state boundaries\n",
    "state_gdf.boundary.plot(ax=ax, color='grey', linewidth=0.5) \n",
    "\n",
    "# Set title\n",
    "ax.set_title('County-level Gross Domestic Product (GDP)', fontsize=16) \n",
    "\n",
    "# Remove axis\n",
    "ax.axis('off') \n",
    "\n",
    "plt.show() # Show the plot\n"
   ]
  },
  {
   "cell_type": "markdown",
   "metadata": {},
   "source": [
    "# 6. Correlation Analysis between Population and GDP\n",
    "\n",
    "Pearson's r is a statistical test that measures the strength and direction of the relationship between two continuous variables. <br><br> It ranges from -1 to +1. A correlation of -1 indicates a perfect negative correlation, +1 indicates a perfect positive correlation, and 0 indicates no correlation.\n",
    "\n",
    "![](https://www.biologyforlife.com/uploads/2/2/3/9/22392738/correlation_1.jpg?688)"
   ]
  },
  {
   "cell_type": "code",
   "execution_count": null,
   "metadata": {},
   "outputs": [],
   "source": [
    "# Visually comparing GDP and Population Data \n",
    "fig, axes = plt.subplots(1, 2, figsize=(20,10))\n",
    "\n",
    "gdp_gdf.plot(column='GDP', cmap='Blues', scheme='NaturalBreaks', k=7, ax=axes[0])\n",
    "state_gdf.boundary.plot(ax=axes[0], color='black', linewidth=0.5, alpha=0.5)\n",
    "axes[0].set_title('Gross Domestic Product (GDP)', fontsize=16)\n",
    "\n",
    "pop_gdf.plot(column='Pop', cmap='Greens', scheme='NaturalBreaks',  k=7, ax=axes[1])\n",
    "state_gdf.boundary.plot(ax=axes[1], color='black', linewidth=0.5, alpha=0.5)\n",
    "axes[1].set_title('Population', fontsize=16)\n",
    "plt.show()"
   ]
  },
  {
   "cell_type": "code",
   "execution_count": null,
   "metadata": {},
   "outputs": [],
   "source": [
    "import scipy\n",
    "\n",
    "# Combining GDP and Population Data into a single DataFrame\n",
    "corr_df = gdp_gdf[['GEOID', 'GDP']].copy()\n",
    "corr_df = corr_df.merge(pop_gdf[['GEOID', 'Pop']], on='GEOID', how='left')\n",
    "corr_df = corr_df.dropna()\n",
    "corr_df"
   ]
  },
  {
   "cell_type": "code",
   "execution_count": null,
   "metadata": {},
   "outputs": [],
   "source": [
    "# Conducting Pearson Correlation\n",
    "corr_result = scipy.stats.pearsonr(corr_df['GDP'], corr_df['Pop'])\n",
    "corr_result"
   ]
  },
  {
   "cell_type": "code",
   "execution_count": null,
   "metadata": {},
   "outputs": [],
   "source": [
    "import seaborn as sns\n",
    "sns.lmplot(data=corr_df, x='Pop', y='GDP')\n",
    "plt.show()"
   ]
  },
  {
   "cell_type": "markdown",
   "metadata": {},
   "source": [
    "# Done"
   ]
  }
 ],
 "metadata": {
  "kernelspec": {
   "display_name": "Python 3",
   "language": "python",
   "name": "python3"
  },
  "language_info": {
   "codemirror_mode": {
    "name": "ipython",
    "version": 3
   },
   "file_extension": ".py",
   "mimetype": "text/x-python",
   "name": "python",
   "nbconvert_exporter": "python",
   "pygments_lexer": "ipython3",
   "version": "3.11.5"
  }
 },
 "nbformat": 4,
 "nbformat_minor": 4
}
