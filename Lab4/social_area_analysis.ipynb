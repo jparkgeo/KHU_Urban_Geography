{
 "cells": [
  {
   "cell_type": "code",
   "execution_count": null,
   "metadata": {},
   "outputs": [],
   "source": [
    "# Run the following two cells if you are using Google Colab\n",
    "# Install Colab Anaconda (takes around 20 seconds)\n",
    "!pip install -q condacolab\n",
    "import condacolab\n",
    "condacolab.install()"
   ]
  },
  {
   "cell_type": "code",
   "execution_count": null,
   "metadata": {},
   "outputs": [],
   "source": [
    "# Install esda(Exploratory Spatial Data Analysis) & libpysal (takes around 3 minutes)\n",
    "!conda install --channel conda-forge esda --y"
   ]
  },
  {
   "cell_type": "code",
   "execution_count": null,
   "metadata": {},
   "outputs": [],
   "source": [
    "# Google Drive Mount\n",
    "from google.colab import drive\n",
    "drive.mount('/content/drive')"
   ]
  },
  {
   "cell_type": "code",
   "execution_count": null,
   "metadata": {},
   "outputs": [],
   "source": [
    "%cd /content/drive/MyDrive/Colab Notebooks/KHU_Urban_Geography/Lab4"
   ]
  },
  {
   "cell_type": "markdown",
   "metadata": {},
   "source": [
    "## Social Area Analysis: calculating Moran's I and LISA with census data\n",
    "\n",
    "This notebook demonstrates how to calculate Moran's I and Local Indicator of Spatial Association (LISA; aka Local Moran's I) based on census data. To be specific, it employs socioeconomic, ethnic, and age data, focusing on census tract-level data in Chicago, Illinois. \n",
    "\n",
    "### Data: \n",
    "* Census Tracts: https://www.census.gov/geographies/mapping-files/time-series/geo/tiger-line-file.html <br>\n",
    "* Social Vulnerability Index (SVI): https://www.atsdr.cdc.gov/place-health/media/pdfs/2024/10/SVI2022Documentation.pdf\n",
    "\n",
    "<div>\n",
    "<img src=\"https://www.atsdr.cdc.gov/placeandhealth/svi/documentation/SVI-Variables.png?_=02699\" width=\"500\"/>\n",
    "</div>\n",
    "\n",
    "### Steps:\n",
    "1. Load census data and geometry data\n",
    "2. Preprocessing data \n",
    "    * Merge (join) data \n",
    "    * Rename columns \n",
    "3. Analyze the spatial correlation of census data \n",
    "    * Calculate contiguity-baseed spatial weights\n",
    "    * Calculate Moran's I\n",
    "    * Calculate LISA\n",
    "4. Visualize the results"
   ]
  },
  {
   "cell_type": "markdown",
   "metadata": {},
   "source": [
    "## Import Packages\n",
    "\n",
    "A Python package is a way of organizing related Python modules into a single directory hierarchy. It provides a mechanism for grouping Python code files, resources, and configuration settings in a structured manner, making it easier to manage and distribute code. They also facilitate code reuse and distribution by allowing developers to bundle related functionality together and share it with others.\n",
    "\n",
    "The following packages are used in this notebook:<br>\n",
    "`libpysal` is a Python package for spatial analysis. It provides foundational algorithms and data structures that support the rest of the library. <br>\n",
    "source: https://pysal.org/libpysal/ <br>\n",
    "\n",
    "`esda` is a Python package and implements methods for the analysis of both global (map-wide) and local (focal) spatial autocorrelation, for both continuous and binary data. In addition, the package increasingly offers cutting-edge statistics about boundary strength and measures of aggregation error in statistical analyses. <br>\n",
    "source: https://pysal.org/esda/index.html <br>"
   ]
  },
  {
   "cell_type": "code",
   "execution_count": null,
   "metadata": {},
   "outputs": [],
   "source": [
    "# New Packages\n",
    "import libpysal\n",
    "import esda\n",
    "\n",
    "# Packages that investigated in the previous project\n",
    "import geopandas as gpd\n",
    "import pandas as pd\n",
    "import matplotlib.pyplot as plt\n",
    "import numpy as np\n",
    "\n",
    "# Etc\n",
    "import warnings\n",
    "warnings.filterwarnings('ignore')"
   ]
  },
  {
   "cell_type": "markdown",
   "metadata": {},
   "source": [
    "## 1. Load census data and geometry data"
   ]
  },
  {
   "cell_type": "code",
   "execution_count": null,
   "metadata": {},
   "outputs": [],
   "source": [
    "!pwd"
   ]
  },
  {
   "cell_type": "code",
   "execution_count": null,
   "metadata": {},
   "outputs": [],
   "source": [
    "# Load geometry data from the file\n",
    "geom_gdf = gpd.read_file('./data/tracts_Cook_IL.geojson')\n",
    "geom_gdf"
   ]
  },
  {
   "cell_type": "code",
   "execution_count": null,
   "metadata": {},
   "outputs": [],
   "source": [
    "geom_gdf.plot()"
   ]
  },
  {
   "cell_type": "code",
   "execution_count": null,
   "metadata": {},
   "outputs": [],
   "source": [
    "# Load socioeconomic data from the file\n",
    "soc_df = pd.read_csv('./data/socioeconomic.csv')\n",
    "soc_df"
   ]
  },
  {
   "cell_type": "code",
   "execution_count": null,
   "metadata": {},
   "outputs": [],
   "source": [
    "soc_df.hist('EP_POV150', bins=30)"
   ]
  },
  {
   "cell_type": "markdown",
   "metadata": {},
   "source": [
    "---\n",
    "### *Exercise*\n",
    "1. (7 points) Load `ethnic.csv` file into `ethnic_df` using the syntax below. You can find the necesary file in the data folder. \n",
    "\n",
    "```python\n",
    "    ethnic_df = pd.read_csv(`FILE PATH`)\n",
    "    ethnic_df.head(3)\n",
    "```\n",
    "---"
   ]
  },
  {
   "cell_type": "code",
   "execution_count": null,
   "metadata": {},
   "outputs": [],
   "source": [
    "# Your code here\n",
    "ethnic_df = pd.read_csv(`FILE PATH`)\n",
    "ethnic_df.head(3)"
   ]
  },
  {
   "cell_type": "code",
   "execution_count": null,
   "metadata": {},
   "outputs": [],
   "source": [
    "\"\"\" Test code for the previous function. \n",
    "This cell should NOT give any errors when it is run.\"\"\"\n",
    "\n",
    "assert ethnic_df.shape == (1328, 5)\n",
    "\n",
    "print('Success!')"
   ]
  },
  {
   "cell_type": "markdown",
   "metadata": {},
   "source": [
    "---\n",
    "### *Exercise*\n",
    "2. (7 points) Load `age.csv` file into `age_df` using the syntax below. You can find the necesary file in the data folder. \n",
    "\n",
    "```python\n",
    "    age_df = pd.read_csv(`FILE PATH`)\n",
    "    age_df.head(3)\n",
    "```\n",
    "---"
   ]
  },
  {
   "cell_type": "code",
   "execution_count": null,
   "metadata": {},
   "outputs": [],
   "source": [
    "# Your code here\n",
    "age_df = pd.read_csv(`FILE PATH`)\n",
    "age_df.head(3)"
   ]
  },
  {
   "cell_type": "code",
   "execution_count": null,
   "metadata": {},
   "outputs": [],
   "source": [
    "\"\"\" Test code for the previous function. \n",
    "This cell should NOT give any errors when it is run.\"\"\"\n",
    "\n",
    "assert age_df.shape == (1328, 2)\n",
    "\n",
    "print('Success!')"
   ]
  },
  {
   "cell_type": "markdown",
   "metadata": {},
   "source": [
    "## 2. Preprocessing data \n",
    "### 2.1. Merge (join) data"
   ]
  },
  {
   "cell_type": "code",
   "execution_count": null,
   "metadata": {},
   "outputs": [],
   "source": [
    "# GeoDataFrame with geometry\n",
    "geom_gdf.head(3)"
   ]
  },
  {
   "cell_type": "code",
   "execution_count": null,
   "metadata": {},
   "outputs": [],
   "source": [
    "# Data Frame with socioeconomic data\n",
    "soc_df.head(3)"
   ]
  },
  {
   "cell_type": "code",
   "execution_count": null,
   "metadata": {},
   "outputs": [],
   "source": [
    "# You can conduct a join as shown below. \n",
    "# The following code will generate an error because the datatype of those two columns are different. \n",
    "# ValueError: You are trying to merge on object and int64 columns. If you wish to proceed you should use pd.concat\n",
    "soc_geom = geom_gdf.merge(soc_df, left_on='GEOID', right_on='FIPS')\n",
    "soc_geom"
   ]
  },
  {
   "cell_type": "markdown",
   "metadata": {},
   "source": [
    "Before you proceed to the merge step, you need to change the datatype of the 'FIPS' column in the 'soc_df' DataFrame to 'str'"
   ]
  },
  {
   "cell_type": "code",
   "execution_count": null,
   "metadata": {},
   "outputs": [],
   "source": [
    "# Check the data types of the columns\n",
    "geom_gdf.dtypes"
   ]
  },
  {
   "cell_type": "code",
   "execution_count": null,
   "metadata": {},
   "outputs": [],
   "source": [
    "# Check the data types of the columns\n",
    "soc_df.dtypes"
   ]
  },
  {
   "cell_type": "code",
   "execution_count": null,
   "metadata": {},
   "outputs": [],
   "source": [
    "# Change the datatype of FIPS column into string\n",
    "soc_df['FIPS'] = soc_df['FIPS'].astype(str)"
   ]
  },
  {
   "cell_type": "code",
   "execution_count": null,
   "metadata": {},
   "outputs": [],
   "source": [
    "# Check the data types of the columns\n",
    "soc_df.dtypes"
   ]
  },
  {
   "cell_type": "code",
   "execution_count": null,
   "metadata": {},
   "outputs": [],
   "source": [
    "# Now you should be able to conduct a join. \n",
    "soc_gdf = geom_gdf.merge(soc_df, left_on='GEOID', right_on='FIPS')\n",
    "soc_gdf"
   ]
  },
  {
   "cell_type": "markdown",
   "metadata": {},
   "source": [
    "---\n",
    "### *Exercise*\n",
    "\n",
    "3. (7 points) Change the datatype of 'FIPS' column in both `ethnic_df` and `age_df` to string by using the syntax below. \n",
    "\n",
    "```python\n",
    "    ethnic_df[`COLUMN NAME`] = ethnic_df[`COLUMN NAME`].astype(`DATA TYPE`)\n",
    "    age_df[`COLUMN NAME`] = age_df[`COLUMN NAME`].astype(`DATA TYPE`)\n",
    "```\n",
    "---"
   ]
  },
  {
   "cell_type": "code",
   "execution_count": null,
   "metadata": {},
   "outputs": [],
   "source": [
    "# Your code here\n",
    "ethnic_df[`COLUMN NAME`] = ethnic_df[`COLUMN NAME`].astype(`DATA TYPE`)\n",
    "age_df[`COLUMN NAME`] = age_df[`COLUMN NAME`].astype(`DATA TYPE`)"
   ]
  },
  {
   "cell_type": "code",
   "execution_count": null,
   "metadata": {},
   "outputs": [],
   "source": [
    "\"\"\" Test code for the previous function. \n",
    "This cell should NOT give any errors when it is run.\"\"\"\n",
    "\n",
    "assert ethnic_df['FIPS'].dtypes == 'object'\n",
    "assert age_df['FIPS'].dtypes == 'object'\n",
    "\n",
    "print('Success!')"
   ]
  },
  {
   "cell_type": "markdown",
   "metadata": {},
   "source": [
    "---\n",
    "### *Exercise*\n",
    "\n",
    "4. (7 points) Join `geom_gdf` GeoDataFrame with `ethnic_df` based on an appropriate columns (Check the example above). Then, assign the result to `ethnic_gdf`. \n",
    "\n",
    "``` python\n",
    "    ethnic_gdf = `DATAFRAME A`.merge(`DATAFRAME B`, on=`COLUMN NAME`)\n",
    "    ethnic_gdf.head(3)\n",
    "```\n",
    "---"
   ]
  },
  {
   "cell_type": "code",
   "execution_count": null,
   "metadata": {},
   "outputs": [],
   "source": [
    "# Your code here\n",
    "ethnic_gdf = `DATAFRAME A`.merge(`DATAFRAME B`, on=`COLUMN NAME`)\n",
    "ethnic_gdf.head(3)"
   ]
  },
  {
   "cell_type": "code",
   "execution_count": null,
   "metadata": {},
   "outputs": [],
   "source": [
    "\"\"\" Test code for the previous function. \n",
    "This cell should NOT give any errors when it is run.\"\"\"\n",
    "\n",
    "assert 'EP_WHITE' in ethnic_gdf.columns\n",
    "assert 'geometry' in ethnic_gdf.columns\n",
    "\n",
    "print('Success!')"
   ]
  },
  {
   "cell_type": "markdown",
   "metadata": {},
   "source": [
    "---\n",
    "### *Exercise*\n",
    "5. (7 points) Join `geom_gdf` GeoDataFrame with `age_df` based on an appropriate columns (Check the example above). Then, assign the result to `age_gdf`. \n",
    "\n",
    "``` python\n",
    "    age_gdf = `DATAFRAME A`.merge(`DATAFRAME B`, on=`COLUMN NAME`)\n",
    "    age_gdf.head(3)\n",
    "```\n",
    "---"
   ]
  },
  {
   "cell_type": "code",
   "execution_count": null,
   "metadata": {},
   "outputs": [],
   "source": [
    "# Your code here\n",
    "age_gdf = `DATAFRAME A`.merge(`DATAFRAME B`, on=`COLUMN NAME`)\n",
    "age_gdf.head(3)"
   ]
  },
  {
   "cell_type": "code",
   "execution_count": null,
   "metadata": {},
   "outputs": [],
   "source": [
    "\"\"\" Test code for the previous function. \n",
    "This cell should NOT give any errors when it is run.\"\"\"\n",
    "\n",
    "assert 'EP_AGE17' in age_gdf.columns\n",
    "assert 'geometry' in age_gdf.columns\n",
    "\n",
    "print('Success!')"
   ]
  },
  {
   "cell_type": "markdown",
   "metadata": {},
   "source": [
    "If you want to merge multiple tables, you can conduct merge mupltiple times. \n",
    "\n",
    "```python\n",
    "    merged_df = pd.merge(df1, df2, on='key') \n",
    "    # or \n",
    "    merged_df = df1.merge(df2, on='key')\n",
    "\n",
    "    # and then, merge the result with another DataFrame\n",
    "    merged_df = pd.merge(merged_df, df3, on='key')\n",
    "```"
   ]
  },
  {
   "cell_type": "code",
   "execution_count": null,
   "metadata": {},
   "outputs": [],
   "source": [
    "census_gdf = geom_gdf.merge(soc_df, left_on='GEOID', right_on='FIPS')\n",
    "census_gdf = census_gdf.merge(ethnic_df, left_on='FIPS', right_on='FIPS')\n",
    "census_gdf = census_gdf.merge(age_df, left_on='FIPS', right_on='FIPS')\n",
    "census_gdf.head(3)"
   ]
  },
  {
   "cell_type": "markdown",
   "metadata": {},
   "source": [
    "### 2.2. Rename columns\n",
    "\n",
    "The name of the columns in the GeoDataFrame is not intuitive. You can rename the columns to make it easier to understand.\n",
    "\n",
    "\n",
    "Syntax of renaming columns in GeoDataFrame / DataFrame:\n",
    "\n",
    "```python\n",
    "    gdf = gdf.rename(columns={'old_name_1': 'new_name_1',\n",
    "                              'old_name_2': 'new_name_2',\n",
    "                              'old_name_3': 'new_name_3'}\n",
    "                              )\n",
    "```"
   ]
  },
  {
   "cell_type": "code",
   "execution_count": null,
   "metadata": {},
   "outputs": [],
   "source": [
    "census_gdf = census_gdf.rename(columns={'EP_POV150': 'POVERTY', \n",
    "                           'EP_WHITE': 'WHITE',\n",
    "                            'EP_AFAM': 'BLACK',\n",
    "                            'EP_HISP'  : 'HISPANIC',\n",
    "                            'EP_ASIAN' : 'ASIAN',\n",
    "                            'EP_AGE17' : 'YOUNG',\n",
    "                           })\n",
    "census_gdf.head(3)"
   ]
  },
  {
   "cell_type": "markdown",
   "metadata": {},
   "source": [
    "## 3. Analyze the spatial correlation of census data \n",
    "\n",
    "Global **Moran's I** demonstrates how geographical phenomena are correlated over space, meaning whether closer things is more related than distant things. The method provides an index with the range -1 to 1; namely, -1 is a strong negative spatial autocorrelation and 1 is a strong positive spatial autocorrelation.\n",
    "<br><br>\n",
    "While Global Moran's I only provides one index to demonstrate spatial autocorrelation, **Local Indicator of Spatial Association (LISA)**, as known as Local Moran's I explains where high (i.e., HH Cluster) and low (LL Cluster) values are clustered.\n",
    "\n",
    "<div>\n",
    "<img src=\"https://geodacenter.github.io/workbook/6c_local_multi/pics6c/1_bivspacetime.png\" width=\"700\"/>\n",
    "</div>\n"
   ]
  },
  {
   "cell_type": "code",
   "execution_count": null,
   "metadata": {},
   "outputs": [],
   "source": [
    "# Visualize the data \n",
    "\n",
    "fig, axes = plt.subplots(1, 6, figsize=(15, 10))\n",
    "axes = axes.flatten()\n",
    "\n",
    "for i, col in enumerate(['POVERTY', 'YOUNG', 'WHITE', 'BLACK', 'HISPANIC', 'ASIAN']):\n",
    "    census_gdf.plot(col, ax=axes[i], cmap='viridis', scheme='NaturalBreaks')\n",
    "    axes[i].set_title(col)\n",
    "    axes[i].axis('off')\n",
    "\n",
    "plt.tight_layout()\n",
    "plt.show()"
   ]
  },
  {
   "cell_type": "markdown",
   "metadata": {},
   "source": [
    "### 3.1. Calculate contiguity-baseed spatial weights\n",
    "\n",
    "The following figure will demonstrate what **contiguity** means. Here, we use Queen's case. \n",
    "\n",
    "<div>\n",
    "<img src=\"./image/contiguity.jpg\" width=\"500\"/>\n",
    "</div>"
   ]
  },
  {
   "cell_type": "code",
   "execution_count": null,
   "metadata": {},
   "outputs": [],
   "source": [
    "# Calculate spatial relationship (contiguity) of geometry\n",
    "w = libpysal.weights.Queen.from_dataframe(census_gdf)\n",
    "w"
   ]
  },
  {
   "cell_type": "code",
   "execution_count": null,
   "metadata": {},
   "outputs": [],
   "source": [
    "w.neighbors"
   ]
  },
  {
   "cell_type": "code",
   "execution_count": null,
   "metadata": {},
   "outputs": [],
   "source": [
    "census_gdf.loc[[0, ]]"
   ]
  },
  {
   "cell_type": "code",
   "execution_count": null,
   "metadata": {},
   "outputs": [],
   "source": [
    "census_gdf.loc[[657, 818, 660, 661, 714, 764, 1166], ]"
   ]
  },
  {
   "cell_type": "code",
   "execution_count": null,
   "metadata": {},
   "outputs": [],
   "source": [
    "fig, ax = plt.subplots(1, 1, figsize=(5, 5))\n",
    "census_gdf.loc[[0, ]].plot(ax=ax, color='black')\n",
    "census_gdf.loc[[657, 818, 660, 661, 714, 764, 1166], ].boundary.plot(ax=ax, color='grey')"
   ]
  },
  {
   "cell_type": "markdown",
   "metadata": {},
   "source": [
    "### 3.2. Calculate Moran's I\n",
    "\n",
    "Syntax for Moran's I is as follows:\n",
    "\n",
    "```python\n",
    "    # Moran's I\n",
    "    mi = esda.moran.Moran(`VARIABLE`, `SPATIAL WEIGHTS MATRIX`)\n",
    "```\n",
    "\n",
    "Variable `mi` has the following attributes:\n",
    "* `I` : Moran's I value\n",
    "* `p_sim` : p-value <br>\n",
    "\n",
    "source: https://pysal.org/esda/generated/esda.Moran.html#esda.Moran"
   ]
  },
  {
   "cell_type": "code",
   "execution_count": null,
   "metadata": {},
   "outputs": [],
   "source": [
    "# Calculate Moran's I for poverty\n",
    "mi_pov = esda.Moran(census_gdf['POVERTY'], w)\n",
    "mi_pov"
   ]
  },
  {
   "cell_type": "code",
   "execution_count": null,
   "metadata": {},
   "outputs": [],
   "source": [
    "# Moran's I value\n",
    "mi_pov.I"
   ]
  },
  {
   "cell_type": "code",
   "execution_count": null,
   "metadata": {},
   "outputs": [],
   "source": [
    "# Calculate the p-value (confidence level)\n",
    "mi_pov.p_sim"
   ]
  },
  {
   "cell_type": "markdown",
   "metadata": {},
   "source": [
    "---\n",
    "### *Exercise*\n",
    "6. (7 points) Calculate Moran's I for Young Population (under 17 years old) in `census_gdf` column. Then, assign the result to `mi_age`. <br>\n",
    "In addition, assign the actual Index to `mi_age_I` and p-value to `mi_age_p`. \n",
    "\n",
    "    Help: https://pysal.org/esda/generated/esda.Moran.html#esda.Moran\n",
    "\n",
    "```python\n",
    "\n",
    "    mi_age = esda.moran.Moran(`DATA FRAME`[`COLUMN NAME`], `SPATIAL WEIGHTS MATRIX`)\n",
    "    mi_age_I = `CALL APPROPRIATE ATTRIBUTE`\n",
    "    mi_age_p = `CALL APPROPRIATE ATTRIBUTE`\n",
    "    print(f'Moran\\'s I: {mi_age_I}, p-value: {mi_age_p}')\n",
    "    \n",
    "```\n",
    "---"
   ]
  },
  {
   "cell_type": "code",
   "execution_count": null,
   "metadata": {},
   "outputs": [],
   "source": [
    "# Your code here\n",
    "mi_age = esda.moran.Moran(`DATA FRAME`[`COLUMN NAME`], `SPATIAL WEIGHTS MATRIX`)\n",
    "mi_age_I = `CALL APPROPRIATE ATTRIBUTE`\n",
    "mi_age_p = `CALL APPROPRIATE ATTRIBUTE`\n",
    "print(f'Moran\\'s I: {mi_age_I}, p-value: {mi_age_p}')"
   ]
  },
  {
   "cell_type": "code",
   "execution_count": null,
   "metadata": {},
   "outputs": [],
   "source": [
    "\"\"\" Test code for the previous function. \n",
    "This cell should NOT give any errors when it is run.\"\"\"\n",
    "\n",
    "assert round(mi_age_I, 3) == 0.412\n",
    "assert round(mi_age_p, 3) == 0.001\n",
    "\n",
    "print('Success!')"
   ]
  },
  {
   "cell_type": "markdown",
   "metadata": {},
   "source": [
    "### 3.3. Calculate LISA\n",
    "\n",
    "Syntax for LISA is as follows:\n",
    "```python\n",
    "    # LISA (Local Indicator of Spatial Association)\n",
    "    lisa = esda.moran.Moran_Local(`VARIABLE`, `SPATIAL WEIGHTS MATRIX`)\n",
    "```\n",
    "\n",
    "Variable `lisa` has the following attributes:\n",
    "* `Is` : Local Moran's I value\n",
    "* `q` : Quadrant (HH, HL, LH, LL)\n",
    "* `p_sim` : p-value\n",
    "\n",
    "source: https://pysal.org/esda/generated/esda.Moran_Local.html#esda.Moran_Local"
   ]
  },
  {
   "cell_type": "code",
   "execution_count": null,
   "metadata": {},
   "outputs": [],
   "source": [
    "# Calculate LISA for poverty\n",
    "lisa_pov = esda.Moran_Local(census_gdf['POVERTY'], w)\n",
    "lisa_pov"
   ]
  },
  {
   "cell_type": "code",
   "execution_count": null,
   "metadata": {},
   "outputs": [],
   "source": [
    "# q indicate quandrant location 1 HH, 2 LH, 3 LL, 4 HL\n",
    "lisa_pov.q"
   ]
  },
  {
   "cell_type": "code",
   "execution_count": null,
   "metadata": {},
   "outputs": [],
   "source": [
    "census_gdf['lisa_pov_q'] = lisa_pov.q"
   ]
  },
  {
   "cell_type": "code",
   "execution_count": null,
   "metadata": {},
   "outputs": [],
   "source": [
    "# p_sim is the p-value of each value\n",
    "lisa_pov.p_sim"
   ]
  },
  {
   "cell_type": "code",
   "execution_count": null,
   "metadata": {},
   "outputs": [],
   "source": [
    "census_gdf['lisa_pov_pval'] = lisa_pov.p_sim"
   ]
  },
  {
   "cell_type": "code",
   "execution_count": null,
   "metadata": {},
   "outputs": [],
   "source": [
    "census_gdf.head(15)"
   ]
  },
  {
   "cell_type": "code",
   "execution_count": null,
   "metadata": {},
   "outputs": [],
   "source": [
    "# Assign results of LISA into each census region\n",
    "lisa_dict = {1: 'HH', 2: 'LH', 3: 'LL', 4: 'HL'}\n",
    "\n",
    "for idx, row in census_gdf.iterrows():\n",
    "    if row['lisa_pov_pval'] < 0.05:\n",
    "        census_gdf.loc[idx, f'lisa_pov'] = lisa_dict[row['lisa_pov_q']]\n",
    "    else:\n",
    "        census_gdf.loc[idx, f'lisa_pov'] = 'NS'\n",
    "\n",
    "census_gdf.head(15)"
   ]
  },
  {
   "cell_type": "code",
   "execution_count": null,
   "metadata": {},
   "outputs": [],
   "source": [
    "fig, ax = plt.subplots(1, 1, figsize=(6, 6))\n",
    "\n",
    "lisa_color = {'HH': '#FF0000', # Red\n",
    "              'LH': '#FFC0CB', # Pink\n",
    "              'LL': '#0000FF', # Blue\n",
    "              'HL': '#87CEEB', # Skyblue\n",
    "              'NS': '#f0f0f0'  # Light grey\n",
    "             } \n",
    "\n",
    "census_gdf.loc[census_gdf['lisa_pov'] == 'NS'].plot(ax=ax, color=lisa_color['NS'])\n",
    "census_gdf.loc[census_gdf['lisa_pov'] == 'HH'].plot(ax=ax, color=lisa_color['HH'])\n",
    "census_gdf.loc[census_gdf['lisa_pov'] == 'LH'].plot(ax=ax, color=lisa_color['LH'])\n",
    "census_gdf.loc[census_gdf['lisa_pov'] == 'LL'].plot(ax=ax, color=lisa_color['LL'])\n",
    "census_gdf.loc[census_gdf['lisa_pov'] == 'HL'].plot(ax=ax, color=lisa_color['HL'])\n",
    "\n",
    "ax.set_title('LISA for Poverty')\n",
    "ax.set_axis_off()\n",
    "plt.show()"
   ]
  },
  {
   "cell_type": "markdown",
   "metadata": {},
   "source": [
    "---\n",
    "### *Exercise*\n",
    "7. (7 points) Calculate LISA for Young Population (under 17 years old) in `census_gdf` column. Then, assign the result to `lisa_age`. <br>\n",
    "In addition, assign the quadrant information and p-value information to `lisa_age_q`, `lisa_age_pval` columms in the `census_gdf`, respectively.  \n",
    "\n",
    "    Help: https://pysal.org/esda/generated/esda.Moran_Local.html#esda.Moran_Local\n",
    "\n",
    "```python\n",
    "    lisa_age = esda.moran.Moran_Local(`DATA FRAME`[`COLUMN NAME`], `SPATIAL WEIGHTS MATRIX`)\n",
    "    census_gdf['lisa_age_q'] = `CALL APPROPRIATE ATTRIBUTE`\n",
    "    census_gdf['lisa_age_pval'] = `CALL APPROPRIATE ATTRIBUTE`\n",
    "```\n",
    "---"
   ]
  },
  {
   "cell_type": "code",
   "execution_count": null,
   "metadata": {},
   "outputs": [],
   "source": [
    "# Your code here\n",
    "lisa_age = esda.moran.Moran_Local(`DATA FRAME`[`COLUMN NAME`], `SPATIAL WEIGHTS MATRIX`)\n",
    "census_gdf['lisa_age_q'] = `CALL APPROPRIATE ATTRIBUTE`\n",
    "census_gdf['lisa_age_pval'] = `CALL APPROPRIATE ATTRIBUTE`"
   ]
  },
  {
   "cell_type": "code",
   "execution_count": null,
   "metadata": {},
   "outputs": [],
   "source": [
    "\"\"\" Test code for the previous function. \n",
    "This cell should NOT give any errors when it is run.\"\"\"\n",
    "\n",
    "assert 'lisa_age_q' in census_gdf.columns\n",
    "assert 'lisa_age_pval' in census_gdf.columns\n",
    "assert census_gdf.at[10, 'lisa_age_q'] == 3\n",
    "assert census_gdf.at[10, 'lisa_age_pval'] == 0.003\n",
    "\n",
    "print('Success!')"
   ]
  },
  {
   "cell_type": "markdown",
   "metadata": {},
   "source": [
    "Upon the completion of the exercise 7, the following code will give you the same map as shown below. \n",
    "\n",
    "<div>\n",
    "<img src=\"./image/age_local_moran.png\" width=\"300\"/>\n",
    "</div>\n"
   ]
  },
  {
   "cell_type": "code",
   "execution_count": null,
   "metadata": {},
   "outputs": [],
   "source": [
    "# Assign results of LISA into each census region\n",
    "lisa_dict = {1: 'HH', 2: 'LH', 3: 'LL', 4: 'HL'}\n",
    "\n",
    "for idx, row in census_gdf.iterrows():\n",
    "    if row['lisa_age_pval'] < 0.05:\n",
    "        census_gdf.loc[idx, f'lisa_age'] = lisa_dict[row['lisa_age_q']]\n",
    "    else:\n",
    "        census_gdf.loc[idx, f'lisa_age'] = 'NS'\n",
    "\n",
    "fig, ax = plt.subplots(1, 1, figsize=(6, 6))\n",
    "for key,val in lisa_color.items():\n",
    "    census_gdf.loc[census_gdf['lisa_age'] == key].plot(ax=ax, color=val)\n",
    "\n",
    "ax.set_title('LISA for Age')\n",
    "ax.set_axis_off()\n",
    "plt.show()"
   ]
  },
  {
   "cell_type": "markdown",
   "metadata": {},
   "source": [
    "## 4. Visualize the results of social area analysis"
   ]
  },
  {
   "cell_type": "code",
   "execution_count": null,
   "metadata": {},
   "outputs": [],
   "source": [
    "def calculate_moran_and_lisa(_gdf, _col):\n",
    "\n",
    "    # Get the spatial weight matrix (contiguity matrix)\n",
    "    _w = libpysal.weights.Queen.from_dataframe(_gdf)\n",
    "\n",
    "    # Calculate Moran's I\n",
    "    _mi = esda.Moran(_gdf[_col], _w)\n",
    "    print(f'{_col} | Moran\\'s I: {round(_mi.I, 3)}, p-value: {_mi.p_sim}')\n",
    "\n",
    "    _lisa = esda.Moran_Local(_gdf[_col], _w)\n",
    "    _gdf[f'lisa_{_col}_q'] = _lisa.q\n",
    "    _gdf[f'lisa_{_col}_pval'] = _lisa.p_sim\n",
    "\n",
    "    lisa_dict = {1: 'HH', 2: 'LH', 3: 'LL', 4: 'HL'}\n",
    "    \n",
    "    lisa_color = {'HH': '#FF0000', # Red\n",
    "                'LH': '#FFC0CB', # Pink\n",
    "                'LL': '#0000FF', # Blue\n",
    "                'HL': '#87CEEB', # Skyblue\n",
    "                'NS': '#f0f0f0'  # Light grey\n",
    "                } \n",
    "    \n",
    "    for idx, row in _gdf.iterrows():\n",
    "        if row[f'lisa_{_col}_pval'] < 0.05:\n",
    "            _gdf.loc[idx, f'lisa_{_col}'] = lisa_dict[row[f'lisa_{_col}_q']]\n",
    "        else:\n",
    "            _gdf.loc[idx, f'lisa_{_col}'] = 'NS'\n",
    "\n",
    "    return _gdf\n",
    "\n",
    "\n",
    "for col in ['POVERTY', 'YOUNG', 'WHITE', 'BLACK', 'HISPANIC', 'ASIAN']:\n",
    "    census_gdf = calculate_moran_and_lisa(census_gdf, col)\n",
    "\n",
    "census_gdf.head(3)"
   ]
  },
  {
   "cell_type": "code",
   "execution_count": null,
   "metadata": {},
   "outputs": [],
   "source": [
    "def lisa_dissolve(_gdf, _col):\n",
    "    _lisa_plot = _gdf.dissolve(by=f\"lisa_{_col}\")\n",
    "    _lisa_plot = _lisa_plot.reset_index()\n",
    "\n",
    "    return _lisa_plot\n",
    "\n",
    "fig, axes = plt.subplots(2, 3, figsize=(15, 10))\n",
    "axes = axes.flatten()\n",
    "\n",
    "for i, col in enumerate(['POVERTY', 'YOUNG', 'WHITE', 'BLACK', 'HISPANIC', 'ASIAN']):\n",
    "    census_gdf.plot(col, cmap='Greys', scheme='NaturalBreaks', ax=axes[i])\n",
    "    lisa_plot = lisa_dissolve(census_gdf, col)\n",
    "    lisa_plot.loc[lisa_plot[f'lisa_{col}'] == 'HH'].boundary.plot(color='Red', ax=axes[i], linewidth=1, hatch='///')\n",
    "    lisa_plot.loc[lisa_plot[f'lisa_{col}'] == 'LL'].boundary.plot(color='Blue', ax=axes[i], linewidth=1, hatch='///')\n",
    "\n",
    "    axes[i].set_axis_off()\n",
    "    axes[i].set_title(f'LISA for {col}')\n",
    "\n",
    "plt.tight_layout()\n",
    "plt.show()"
   ]
  },
  {
   "cell_type": "markdown",
   "metadata": {},
   "source": [
    "# DONE"
   ]
  }
 ],
 "metadata": {
  "kernelspec": {
   "display_name": "sa",
   "language": "python",
   "name": "python3"
  },
  "language_info": {
   "codemirror_mode": {
    "name": "ipython",
    "version": 3
   },
   "file_extension": ".py",
   "mimetype": "text/x-python",
   "name": "python",
   "nbconvert_exporter": "python",
   "pygments_lexer": "ipython3",
   "version": "3.11.5"
  }
 },
 "nbformat": 4,
 "nbformat_minor": 2
}
