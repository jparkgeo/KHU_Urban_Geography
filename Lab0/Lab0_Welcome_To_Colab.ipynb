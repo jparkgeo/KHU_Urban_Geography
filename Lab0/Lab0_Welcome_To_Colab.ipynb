{
  "cells": [
    {
      "cell_type": "markdown",
      "metadata": {
        "id": "5fCEDCU_qrC0"
      },
      "source": [
        "<div class=\"markdown-google-sans\">\n",
        "  <h2>What is Colab?</h2>\n",
        "</div>\n",
        "\n",
        "Colab, or \"Colaboratory\", allows you to write and execute Python in your browser, with\n",
        "- Zero configuration required\n",
        "- Access to GPUs free of charge\n",
        "- Easy sharing\n",
        "\n",
        "Whether you're a **student**, a **data scientist** or an **AI researcher**, Colab can make your work easier. Watch [Introduction to Colab](https://www.youtube.com/watch?v=inN8seMm7UI) or [Colab Features You May Have Missed](https://www.youtube.com/watch?v=rNgswRZ2C1Y) to learn more, or just get started below!"
      ]
    },
    {
      "cell_type": "markdown",
      "metadata": {
        "id": "GJBs_flRovLc"
      },
      "source": [
        "## Getting started\n",
        "\n",
        "The document you are reading is not a static web page, but an interactive environment called a **Colab notebook** that lets you write and execute code.\n",
        "\n",
        "For example, here is a **code cell** with a short Python script that computes a value, stores it in a variable, and prints the result:"
      ]
    },
    {
      "cell_type": "code",
      "execution_count": null,
      "metadata": {
        "id": "gJr_9dXGpJ05",
        "outputId": "beb4aaca-6eac-4b30-f2ff-ea4308968122"
      },
      "outputs": [],
      "source": [
        "# Let's calculate the number of seconds in a day\n",
        "# 24 hours * 60 minutes * 60 seconds\n",
        "\n",
        "seconds_in_a_day = 24 * 60 * 60\n",
        "seconds_in_a_day"
      ]
    },
    {
      "cell_type": "markdown",
      "metadata": {
        "id": "2fhs6GZ4qFMx"
      },
      "source": [
        "To execute the code in the above cell, select it with a click and then either press the play button to the left of the code, or use the keyboard shortcut \"Command/Ctrl+Enter\". To edit the code, just click the cell and start editing.\n",
        "\n",
        "Variables that you define in one cell can later be used in other cells:"
      ]
    },
    {
      "cell_type": "code",
      "execution_count": null,
      "metadata": {
        "id": "-gE-Ez1qtyIA",
        "outputId": "e8f0c2b1-3c1e-4476-f8c2-d8f31cdb5e75"
      },
      "outputs": [],
      "source": [
        "seconds_in_a_week = 7 * seconds_in_a_day\n",
        "seconds_in_a_week"
      ]
    },
    {
      "cell_type": "markdown",
      "metadata": {},
      "source": [
        "---\n",
        "### *Exercise*\n",
        "\n",
        "The equation below is the formula for the perimeter (`C`) of the circle, and the area (`A`) of the circle.\n",
        "$$ C = 2 \\pi r $$\n",
        "$$ A = \\pi r ^2 $$\n",
        "\n",
        "1. Calculate the perimeter and the area of a circle with a radius of 5. <br><br>\n",
        "    - Assign the value of `pi` to 3.141592. <br>\n",
        "    - Assign the value of `r` to 5. <br>\n",
        "    - Calculate the perimeter and assign it to the variable `C`. <br>\n",
        "    - Calculate the area and assign it to the variable `A`. <br>\n",
        "    - Print the values of `C` and `A`. <br>\n",
        "\n",
        "```python\n",
        "    pi = `DO SOMETHING`\n",
        "    r = `DO SOMETHING`\n",
        "\n",
        "    C = `DO SOMETHING`\n",
        "    A = `DO SOMETHING`\n",
        "```\n",
        "---"
      ]
    },
    {
      "cell_type": "code",
      "execution_count": null,
      "metadata": {},
      "outputs": [],
      "source": [
        "# Your code here\n",
        "pi = `DO SOMETHING`\n",
        "r = `DO SOMETHING`\n",
        "\n",
        "print(f\"pi: {pi}\")\n",
        "print(f\"r: {r}\")"
      ]
    },
    {
      "cell_type": "code",
      "execution_count": null,
      "metadata": {},
      "outputs": [],
      "source": [
        "# Your code here\n",
        "C = `DO SOMETHING`\n",
        "A = `DO SOMETHING`\n",
        "\n",
        "print(f'Perimeter of a circle: {C}')\n",
        "print(f'Area of a circle: {A}')"
      ]
    },
    {
      "cell_type": "code",
      "execution_count": null,
      "metadata": {},
      "outputs": [],
      "source": [
        "\"\"\" Test code for the previous function.\n",
        "This cell should NOT give any errors when it is run.\"\"\"\n",
        "\n",
        "# Check your result here.\n",
        "assert round(C, 2) == 31.42\n",
        "assert round(A, 2) == 78.54\n",
        "print(\"Success!\")"
      ]
    },
    {
      "cell_type": "markdown",
      "metadata": {},
      "source": [
        "# Finished"
      ]
    }
  ],
  "metadata": {
    "colab": {
      "name": "Welcome To Colab",
      "provenance": [],
      "toc_visible": true
    },
    "kernelspec": {
      "display_name": "GIS_Project",
      "language": "python",
      "name": "python3"
    },
    "language_info": {
      "codemirror_mode": {
        "name": "ipython",
        "version": 3
      },
      "file_extension": ".py",
      "mimetype": "text/x-python",
      "name": "python",
      "nbconvert_exporter": "python",
      "pygments_lexer": "ipython3",
      "version": "3.13.1"
    }
  },
  "nbformat": 4,
  "nbformat_minor": 0
}
