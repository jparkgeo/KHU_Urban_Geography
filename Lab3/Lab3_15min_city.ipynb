{
  "cells": [
    {
      "cell_type": "code",
      "execution_count": null,
      "metadata": {
        "colab": {
          "base_uri": "https://localhost:8080/"
        },
        "id": "WQfcrqr-wSnN",
        "outputId": "bc04631c-2bf0-4a52-f3d6-a0ae408cd109"
      },
      "outputs": [],
      "source": [
        "# Run the following two cells if you are using Google Colab\n",
        "# Install Colab Anaconda (takes around 20 seconds)\n",
        "!pip install -q condacolab\n",
        "import condacolab\n",
        "condacolab.install()"
      ]
    },
    {
      "cell_type": "code",
      "execution_count": null,
      "metadata": {
        "colab": {
          "base_uri": "https://localhost:8080/"
        },
        "collapsed": true,
        "id": "D0SH66COwSnO",
        "outputId": "dae5654e-7206-491a-bfcf-cdca102a97c9"
      },
      "outputs": [],
      "source": [
        "# Install OSMnx (takes around 3 minutes)\n",
        "!conda install -c conda-forge osmnx -y"
      ]
    },
    {
      "cell_type": "markdown",
      "metadata": {
        "id": "0BYyi4B3wSnP"
      },
      "source": [
        "# 15-minute city: calculating a specific location meets the criteria of a 15-minute city\n",
        "\n",
        "In this lab, we will evaluate if a specific location meets the criteria of a 15-minute city. A 15-minute city is a concept that aims to create a city where all the necessary services and amenities are within a 15-minute walk or bike ride from home. The idea is to reduce the need for long commutes and make cities more sustainable and livable.\n",
        "\n",
        "To be specific, we will retrieve Points of Interest (POIs) data from the OpenStreetMap database and calculate the distance from a specific location to the nearest POI in each category. We will then evaluate if the location meets the criteria of a 15-minute city based on the calculated distances.\n",
        "\n",
        "Source: https://wiki.openstreetmap.org/wiki/Key:shop"
      ]
    },
    {
      "cell_type": "markdown",
      "metadata": {
        "id": "UFAbuY0JwSna"
      },
      "source": [
        "## Import Packages\n",
        "A Python package is a way of organizing related Python modules into a single directory hierarchy. It provides a mechanism for grouping Python code files, resources, and configuration settings in a structured manner, making it easier to manage and distribute code. They also facilitate code reuse and distribution by allowing developers to bundle related functionality together and share it with others.\n",
        "\n",
        "The following packages are used in this notebook:<br>\n",
        "`osmnx` is a Python package to retrieve, model, analyze, and visualize street networks from OpenStreetMap. <br>\n",
        "source: https://osmnx.readthedocs.io/<br>\n",
        "\n",
        "`folium` is a Python package to create interactive maps. <br>\n",
        "source: https://python-visualization.github.io/folium/\n",
        "\n",
        "The packages below were introduced in the previous notebook:<br>\n",
        "`pandas` is a Python package providing fast, flexible, and expressive data structures designed to make working with “relational” or “labeled” data both easy and intuitive. <br>\n",
        "source: https://pandas.pydata.org/docs/getting_started/overview.html\n",
        "\n",
        "`geopandas` is the geographic expansion of `pandas`, allowing to have geometry and working with vector data. <br>\n",
        "source: https://geopandas.org/en/stable/getting_started/introduction.html\n",
        "\n",
        "`matplotlib` provides a collection of functions that make plots and maps. Each pyplot function makes some change to a figure: e.g., creates a figure, creates a plotting area in a figure, plots some lines in a plotting area, decorates the plot with labels, etc. <br>\n",
        "source: https://matplotlib.org/stable/users/getting_started/"
      ]
    },
    {
      "cell_type": "code",
      "execution_count": null,
      "metadata": {
        "colab": {
          "base_uri": "https://localhost:8080/"
        },
        "id": "NEhWxzsgwSng",
        "outputId": "283a928d-8d7b-4dbc-fd45-c4aaf2169907"
      },
      "outputs": [],
      "source": [
        "# Import packages\n",
        "import osmnx as ox\n",
        "import folium\n",
        "import pandas as pd\n",
        "import geopandas as gpd\n",
        "import matplotlib.pyplot as plt\n",
        "\n",
        "from shapely.geometry import Polygon"
      ]
    },
    {
      "cell_type": "code",
      "execution_count": null,
      "metadata": {},
      "outputs": [],
      "source": [
        "# Change the directory of pyproj data\n",
        "# This is necessary to avoid the error \"PROJ data directory not found\"\n",
        "# when using pyproj with OSMnx\n",
        "\n",
        "import pyproj\n",
        "print(pyproj.datadir.get_data_dir())\n",
        "pyproj.datadir.set_data_dir('/usr/local/lib/python3.11/dist-packages/pyproj/proj_dir/share/proj')\n",
        "print(pyproj.datadir.get_data_dir())"
      ]
    },
    {
      "cell_type": "code",
      "execution_count": null,
      "metadata": {},
      "outputs": [],
      "source": [
        "# Checking if pyproj is working\n",
        "from pyproj import CRS\n",
        "crs = CRS.from_epsg(4326)\n",
        "print(\"✅ Checking CRS:\", crs)"
      ]
    },
    {
      "cell_type": "markdown",
      "metadata": {
        "id": "QPuX3PXrwSng"
      },
      "source": [
        "# Overview"
      ]
    },
    {
      "cell_type": "markdown",
      "metadata": {
        "id": "BVwtg78nwSnh"
      },
      "source": [
        "# 1. Retrieve Points of Interest (POIs) from OpenStreetMap\n",
        "##  1.1. Retrieve the Polygon of an administrative region"
      ]
    },
    {
      "cell_type": "code",
      "execution_count": null,
      "metadata": {
        "id": "7r37Q14cwSnh"
      },
      "outputs": [],
      "source": [
        "# Load the geometry of Dongdaemun-gu, Seoul, South Korea\n",
        "# aoi: Area of Interest\n",
        "aoi = ox.geocode_to_gdf('Dongdaemun-gu, Seoul, South Korea')\n",
        "aoi"
      ]
    },
    {
      "cell_type": "code",
      "execution_count": null,
      "metadata": {
        "id": "W85eMWtswSnm"
      },
      "outputs": [],
      "source": [
        "aoi.explore()"
      ]
    },
    {
      "cell_type": "markdown",
      "metadata": {
        "id": "j5rVBwnowSnn"
      },
      "source": [
        "---\n",
        "### *Exercise*\n",
        "1. (2 points) Retrieve the Polygon of an administrative region (e.g., Dalseo-gu, Daegu) that you are interested in. <br>\n",
        "You can get the official English name of an administrative region in the website (https://www.juso.go.kr/openIndexPage.do). <br>\n",
        "The syntax is as shown below.\n",
        "\n",
        "```python\n",
        "    your_aoi = ox.geocode_to_gdf('Name of a Certain Addministrative Region')\n",
        "    your_aoi.explore()\n",
        "```\n",
        "---"
      ]
    },
    {
      "cell_type": "code",
      "execution_count": null,
      "metadata": {
        "id": "QLs19GDcwSnn"
      },
      "outputs": [],
      "source": [
        "# Your code here\n",
        "your_aoi = ox.geocode_to_gdf('Name of a Certain Addministrative Region')\n",
        "your_aoi.explore()"
      ]
    },
    {
      "cell_type": "code",
      "execution_count": null,
      "metadata": {
        "id": "isuGGXsrwSnn"
      },
      "outputs": [],
      "source": [
        "\"\"\" Test code for the previous function.\n",
        "This cell should NOT give any errors when it is run.\"\"\"\n",
        "\n",
        "assert type(your_aoi.loc[0, 'geometry']) == Polygon\n",
        "\n",
        "print(\"Success!\")"
      ]
    },
    {
      "cell_type": "markdown",
      "metadata": {
        "id": "3OlZnsOdwSno"
      },
      "source": [
        "##  1.2. Retrieve Points of Interest (POIs) using OpenStreetMap Tags (Keys and Values)\n",
        "\n",
        "Source: https://wiki.openstreetmap.org/wiki/Key:shop"
      ]
    },
    {
      "cell_type": "code",
      "execution_count": null,
      "metadata": {
        "id": "qGpYeplRwSno"
      },
      "outputs": [],
      "source": [
        "# Retrieve Point of Interest (POI) data from OpenStreetMap\n",
        "food_gdf = ox.features_from_polygon(aoi.geometry[0], # Extent of the POI data\n",
        "                                      tags={'shop': ['supermarket', 'grocery', 'deli', 'convenience']} # Tags to filter the POI data\n",
        "                                      )\n",
        "food_gdf"
      ]
    },
    {
      "cell_type": "code",
      "execution_count": null,
      "metadata": {
        "id": "Ua5FIi2awSno"
      },
      "outputs": [],
      "source": [
        "# Clean the POI data\n",
        "food_gdf = food_gdf[['shop', 'name', 'geometry']]\n",
        "food_gdf"
      ]
    },
    {
      "cell_type": "code",
      "execution_count": null,
      "metadata": {
        "id": "EacTfPA2wSno"
      },
      "outputs": [],
      "source": [
        "food_gdf.explore()"
      ]
    },
    {
      "cell_type": "markdown",
      "metadata": {
        "id": "YdHGMHgxwSno"
      },
      "source": [
        "---\n",
        "### *Exercise*\n",
        "2. (3 points) The following in the syntax of querying points of interest (POIs) from OpenStreetMap using the `osmnx` package. <br><br>\n",
        "    ```python\n",
        "    return_gdf = ox.features_from_polygon('Extent of the POI data', tags = {'OSM Tag Key': ['OSM Tag Value1', 'OSM Tag Value2', ...]})\n",
        "    ```\n",
        "    \n",
        "    Find the transport-related POIs within the extent of Dongdaemun-gu (i.e., GeoDataFrame `aoi`) based on the key and value information below. <br>\n",
        "    Then, save the return GeoDataFrame as `transport_gdf`.\n",
        "    - Key: 'public_transport'\n",
        "    - Values: 'station', 'platform'\n",
        "    <br><br>\n",
        "\n",
        "---"
      ]
    },
    {
      "cell_type": "code",
      "execution_count": null,
      "metadata": {
        "id": "nFo4N3tNwSno"
      },
      "outputs": [],
      "source": [
        "# Your code here\n",
        "transit_gdf = ox.features_from_polygon('Extent of the POI data',\n",
        "                                         tags = {'OSM Tag Key': ['OSM Tag Value1', 'OSM Tag Value2', ...]\n",
        "                                        })\n",
        "transit_gdf"
      ]
    },
    {
      "cell_type": "code",
      "execution_count": null,
      "metadata": {
        "id": "T5iYDjIOwSno"
      },
      "outputs": [],
      "source": [
        "\"\"\" Test code for the previous function.\n",
        "This cell should NOT give any errors when it is run.\"\"\"\n",
        "\n",
        "assert 'public_transport' in transit_gdf.columns\n",
        "\n",
        "print(\"Success!\")"
      ]
    },
    {
      "cell_type": "markdown",
      "metadata": {
        "id": "F8VYWyBhwSno"
      },
      "source": [
        "# 2. Automatically Retrieve POI data relevant to 15-minute cities <br>"
      ]
    },
    {
      "cell_type": "code",
      "execution_count": null,
      "metadata": {
        "id": "fJKSe9_4wSno"
      },
      "outputs": [],
      "source": [
        "# Retrieve POI data relevant to 15-minute cities (i.e., food, medical, culture, education, transit, leisure)\n",
        "'''\n",
        "{'Category Name':\n",
        "  {'OSM Tag Key': ['OSM Tag Value1', 'OSM Tag Value2', ...]}\n",
        " }\n",
        "'''\n",
        "poi_tags = {'food': {'shop': ['supermarket', 'grocery', 'deli', 'convenience']},\n",
        "            'medical' : {'amenity': ['hospital', 'clinic', 'doctors']},\n",
        "            'culture': {'amenity': ['community_centre', 'music_venue', 'social_centre', 'arts_centre', 'theatre', 'cinema']},\n",
        "            'education': {'amenity': ['school', 'kindergarten', 'library']},\n",
        "            'transit': {'public_transport': ['station', 'platform']},\n",
        "            'leisure': {'leisure': ['park', 'playground']},\n",
        "            }"
      ]
    },
    {
      "cell_type": "code",
      "execution_count": null,
      "metadata": {
        "id": "rCQkKZ2GwSno"
      },
      "outputs": [],
      "source": [
        "# Create a GeoDataFrame to store the POI data\n",
        "poi_gdf = gpd.GeoDataFrame()\n",
        "\n",
        "# Iterate over the categories and tags to retrieve the POI data\n",
        "for category, tags in poi_tags.items():\n",
        "    print(f'Retrieving {category} POI data...')\n",
        "    print(tags)\n",
        "\n",
        "    # Retrieve the POI data for each category\n",
        "    temp_gdf = ox.features_from_polygon(aoi.geometry[0], tags=tags)\n",
        "\n",
        "    # Clean the POI data\n",
        "    temp_gdf = temp_gdf[['name', 'geometry']]\n",
        "\n",
        "    # Add the category information to the POI data\n",
        "    temp_gdf['category'] = category\n",
        "\n",
        "    # Append the POI data to the GeoDataFrame\n",
        "    poi_gdf = pd.concat([poi_gdf, temp_gdf])\n",
        "\n",
        "    print(\"-------------------\")\n",
        "\n",
        "# Change the geometry of the POI data to the centroid of the geometry\n",
        "poi_gdf['geometry'] = poi_gdf.apply(lambda x:x['geometry'].centroid, axis=1)\n",
        "poi_gdf"
      ]
    },
    {
      "cell_type": "code",
      "execution_count": null,
      "metadata": {
        "id": "SeBV66IdwSnp"
      },
      "outputs": [],
      "source": [
        "# Visualize the POI data\n",
        "m = aoi.explore(facecolor='none', edgecolor='black', alpha=0.1)\n",
        "poi_gdf.explore('category', legend=True, zorder=1, m=m)"
      ]
    },
    {
      "cell_type": "markdown",
      "metadata": {
        "id": "lHC_PVXnwSnp"
      },
      "source": [
        "---\n",
        "### *Exercise*\n",
        "3. (2 points) Run the following code blocks to retrieve 15-minute city related poi in your area of interest.<br>\n",
        "\n",
        "```python\n",
        "    # The code below will retrieve the POI data for your AOI\n",
        "    # Retrieve POI data relevant to 15-minute cities (i.e., food, medical, culture, education, transit, leisure)\n",
        "\n",
        "    poi_tags = {'food': {'shop': ['supermarket', 'grocery', 'deli', 'convenience']},\n",
        "                'medical' : {'amenity': ['hospital', 'clinic', 'doctors']},\n",
        "                'culture': {'amenity': ['community_centre', 'music_venue', 'social_centre', 'arts_centre', 'theatre', 'cinema']},\n",
        "                'education': {'amenity': ['school', 'kindergarten', 'library']},\n",
        "                'transit': {'public_transport': ['station', 'platform']},\n",
        "                'leisure': {'leisure': ['park', 'playground']},\n",
        "                }\n",
        "\n",
        "    # Create a GeoDataFrame to store the POI data\n",
        "    your_poi_gdf = gpd.GeoDataFrame()\n",
        "\n",
        "    # Iterate over the categories and tags to retrieve the POI data\n",
        "    for category, tags in poi_tags.items():  \n",
        "        print(f'Retrieving {category} POI data...')\n",
        "        print(tags)\n",
        "\n",
        "        # Retrieve the POI data for each category\n",
        "        temp_gdf = ox.features_from_polygon(your_aoi.geometry[0], tags=tags)\n",
        "\n",
        "        # Clean the POI data\n",
        "        temp_gdf = temp_gdf[['name', 'geometry']]\n",
        "\n",
        "        # Add the category information to the POI data\n",
        "        temp_gdf['category'] = category\n",
        "\n",
        "        # Append the POI data to the GeoDataFrame\n",
        "        your_poi_gdf = pd.concat([your_poi_gdf, temp_gdf])\n",
        "        \n",
        "    # Change the geometry of the POI data to the centroid of the geometry\n",
        "    your_poi_gdf['geometry'] = your_poi_gdf.apply(lambda x:x['geometry'].centroid, axis=1)\n",
        "    your_poi_gdf\n",
        "```\n",
        "\n",
        "---"
      ]
    },
    {
      "cell_type": "code",
      "execution_count": null,
      "metadata": {
        "id": "yyn0X5-ywSnp"
      },
      "outputs": [],
      "source": [
        "# The code below will retrieve the POI data for your AOI\n",
        "# Retrieve POI data relevant to 15-minute cities (i.e., food, medical, culture, education, transit, leisure)\n",
        "\n",
        "poi_tags = {'food': {'shop': ['supermarket', 'grocery', 'deli', 'convenience']},\n",
        "            'medical' : {'amenity': ['hospital', 'clinic', 'doctors']},\n",
        "            'culture': {'amenity': ['community_centre', 'music_venue', 'social_centre', 'arts_centre', 'theatre', 'cinema']},\n",
        "            'education': {'amenity': ['school', 'kindergarten', 'library']},\n",
        "            'transit': {'public_transport': ['station', 'platform']},\n",
        "            'leisure': {'leisure': ['park', 'playground']},\n",
        "            }\n",
        "\n",
        "# Create a GeoDataFrame to store the POI data\n",
        "your_poi_gdf = gpd.GeoDataFrame()\n",
        "\n",
        "# Iterate over the categories and tags to retrieve the POI data\n",
        "for category, tags in poi_tags.items():\n",
        "    print(f'Retrieving {category} POI data...')\n",
        "    print(tags)\n",
        "\n",
        "    # Retrieve the POI data for each category\n",
        "    temp_gdf = ox.features_from_polygon(your_aoi.geometry[0], tags=tags)\n",
        "\n",
        "    # Clean the POI data\n",
        "    temp_gdf = temp_gdf[['name', 'geometry']]\n",
        "\n",
        "    # Add the category information to the POI data\n",
        "    temp_gdf['category'] = category\n",
        "\n",
        "    # Append the POI data to the GeoDataFrame\n",
        "    your_poi_gdf = pd.concat([your_poi_gdf, temp_gdf])\n",
        "\n",
        "# Change the geometry of the POI data to the centroid of the geometry\n",
        "your_poi_gdf['geometry'] = your_poi_gdf.apply(lambda x:x['geometry'].centroid, axis=1)\n",
        "your_poi_gdf"
      ]
    },
    {
      "cell_type": "code",
      "execution_count": null,
      "metadata": {
        "id": "o6Hz1OvrwSnp"
      },
      "outputs": [],
      "source": [
        "# Visualize your POI data along with your AOI\n",
        "m = your_aoi.explore(facecolor='none', edgecolor='black', alpha=0.1)\n",
        "your_poi_gdf.explore('category', legend=True, zorder=1, m=m)"
      ]
    },
    {
      "cell_type": "markdown",
      "metadata": {
        "id": "4rBBNvuiwSnp"
      },
      "source": [
        "## Summary\n",
        "\n",
        "The following is the summary of the code how to retrieve the Points of Interest (POIs) from OpenStreetMap (OSM) using the `osmnx` package. <br>\n",
        "\n",
        "```python\n",
        "# Retrieve the Polygon of an administrative region\n",
        "aoi = ox.geocode_to_gdf(`Name of a Certain Addministrative Region`)\n",
        "\n",
        "# We just iterated over the categories and tags to retrieve the POI data\n",
        "poi_gdf = ox.features_from_polygon(`Extent of the POI data`\n",
        "                                     tags={`Tag Key`: [`Tag Value 1`, `Tag Value 2` ...]}\n",
        "                                     )\n",
        "```"
      ]
    },
    {
      "cell_type": "markdown",
      "metadata": {
        "id": "ZcdBdVXzwSnp"
      },
      "source": [
        "# 3. Query whether a specific location meets 15-minute city criteria\n",
        "\n",
        "## 3.1. Define a speciic location"
      ]
    },
    {
      "cell_type": "code",
      "execution_count": null,
      "metadata": {
        "id": "o3ozlvvZwSnp"
      },
      "outputs": [],
      "source": [
        "# Geocoding is the process of converting addresses into geographic coordinates (latitude and longitude)\n",
        "# Geocoding with the help of OpenStreetMap\n",
        "khu_coordinates = ox.geocode('Kyung Hee University, Seoul, South Korea')\n",
        "khu_coordinates"
      ]
    },
    {
      "cell_type": "code",
      "execution_count": null,
      "metadata": {
        "id": "KshVB9QVwSnp"
      },
      "outputs": [],
      "source": [
        "# GeoDataFrame that contains the location information of Kyung Hee University (KHU)\n",
        "\n",
        "# Manually input the coordinates of KHU\n",
        "khu_df = pd.DataFrame({'name': ['KHU'],\n",
        "                       'x': [127.05198672345011],\n",
        "                       'y': [37.5971213]\n",
        "                       })\n",
        "\n",
        "# Automatically retrieve the coordinates of KHU\n",
        "khu_df = pd.DataFrame({'name': ['KHU'],\n",
        "                       'x': [khu_coordinates[1]],\n",
        "                       'y': [khu_coordinates[0]]\n",
        "                       })\n",
        "khu_df"
      ]
    },
    {
      "cell_type": "code",
      "execution_count": null,
      "metadata": {
        "id": "zc6L6uxjwSnp"
      },
      "outputs": [],
      "source": [
        "# Convert the DataFrame to a GeoDataFrame\n",
        "khu_gdf = gpd.GeoDataFrame(khu_df,\n",
        "                           geometry=gpd.points_from_xy(khu_df.x, khu_df.y),\n",
        "                           crs='EPSG:4326')\n",
        "khu_gdf"
      ]
    },
    {
      "cell_type": "code",
      "execution_count": null,
      "metadata": {
        "id": "yWT3PirkwSnq"
      },
      "outputs": [],
      "source": [
        "# Visualize the POI data\n",
        "m = aoi.explore(facecolor='none', edgecolor='black', alpha=0.1)\n",
        "poi_gdf.explore('category', legend=True, zorder=1, m=m)\n",
        "folium.Marker(location=[khu_gdf.geometry.y, khu_gdf.geometry.x], popup='KHU').add_to(m)\n",
        "m"
      ]
    },
    {
      "cell_type": "markdown",
      "metadata": {
        "id": "qQb0JwpGwSnq"
      },
      "source": [
        "---\n",
        "### *Exercise*\n",
        "4. (2 points) Create a DataFrame to store the coordinates of your specific location. <br>\n",
        "- Get the coordinates information of a specific location within your Area of Interest (e.g., Dalseo-gu, Daegu) using the `geocode` function. <br>\n",
        "- Enter the coordinates into DataFrame. If you don't like the geocoded location, you can manually enter the x and y coordinates of your location using Google Map. <br>\n",
        "```python\n",
        "    your_coordinates = ox.geocode('Address of your specific location')\n",
        "\n",
        "    your_loc_df = pd.DataFrame({'name': ['Your Location'],\n",
        "                            'x': [your_coordinates[1]], # You can update this if you don't like the retrieved coordinates\n",
        "                            'y': [your_coordinates[0]]  # You can update this if you don't like the retrieved coordinates\n",
        "                            })\n",
        "    your_loc_df\n",
        "```\n",
        "\n",
        "---"
      ]
    },
    {
      "cell_type": "code",
      "execution_count": null,
      "metadata": {
        "id": "Fjwmy2OFwSnq"
      },
      "outputs": [],
      "source": [
        "# Your code here\n",
        "your_coordinates = ox.geocode('Address of your specific location')\n",
        "print(your_coordinates)\n",
        "\n",
        "your_loc_df = pd.DataFrame({'name': ['Your Location'],\n",
        "                            'x': [your_coordinates[1]], # You can update this if you don't like the retrieved coordinates\n",
        "                            'y': [your_coordinates[0]]  # You can update this if you don't like the retrieved coordinates\n",
        "                            })\n",
        "your_loc_df"
      ]
    },
    {
      "cell_type": "code",
      "execution_count": null,
      "metadata": {
        "id": "cfmDL0hgwSnq"
      },
      "outputs": [],
      "source": [
        "# Convert the DataFrame to a GeoDataFrame\n",
        "your_loc_gdf = gpd.GeoDataFrame(your_loc_df,\n",
        "                                geometry=gpd.points_from_xy(your_loc_df.x, your_loc_df.y),\n",
        "                                crs='EPSG:4326')\n",
        "your_loc_gdf"
      ]
    },
    {
      "cell_type": "code",
      "execution_count": null,
      "metadata": {
        "id": "JoeYmHOVwSnq"
      },
      "outputs": [],
      "source": [
        "# Visualize your POI data, your location, and your AOI\n",
        "m = your_aoi.explore(facecolor='none', edgecolor='black', alpha=0.1)\n",
        "your_poi_gdf.explore('category', legend=True, zorder=1, m=m)\n",
        "folium.Marker(location=[your_loc_gdf.geometry.y, your_loc_gdf.geometry.x], popup='Your Location').add_to(m)\n",
        "m"
      ]
    },
    {
      "cell_type": "markdown",
      "metadata": {
        "id": "LFjz8Y88wSnu"
      },
      "source": [
        "## 3.2. Change the coordinate system of the GeoDataFrame to UTM-K (EPSG:5179)\n",
        "\n",
        "The unit of WGS84 (EPSG:4326) is degree, which is not suitable for distance calculation. Therefore, we need to change the coordinate system to UTM-K (EPSG:5179) to calculate the distance in meters."
      ]
    },
    {
      "cell_type": "code",
      "execution_count": null,
      "metadata": {
        "id": "BsHKpQKwwSnu"
      },
      "outputs": [],
      "source": [
        "poi_gdf"
      ]
    },
    {
      "cell_type": "code",
      "execution_count": null,
      "metadata": {
        "id": "6DHemJYlwSnu"
      },
      "outputs": [],
      "source": [
        "poi_gdf.crs"
      ]
    },
    {
      "cell_type": "code",
      "execution_count": null,
      "metadata": {
        "id": "8iJe7VjEwSnu"
      },
      "outputs": [],
      "source": [
        "khu_gdf"
      ]
    },
    {
      "cell_type": "code",
      "execution_count": null,
      "metadata": {
        "id": "LeEchnuawSnu"
      },
      "outputs": [],
      "source": [
        "khu_gdf.crs"
      ]
    },
    {
      "cell_type": "code",
      "execution_count": null,
      "metadata": {
        "id": "1tDXXFmhwSnu"
      },
      "outputs": [],
      "source": [
        "# You can use .to_crs() method to change the coordinate reference system (CRS) of a GeoDataFrame\n",
        "poi_gdf_proj = poi_gdf.to_crs('EPSG:5179')\n",
        "khu_gdf_proj = khu_gdf.to_crs('EPSG:5179')"
      ]
    },
    {
      "cell_type": "code",
      "execution_count": null,
      "metadata": {
        "id": "SFHtqYDDwSnu"
      },
      "outputs": [],
      "source": [
        "poi_gdf_proj.crs"
      ]
    },
    {
      "cell_type": "code",
      "execution_count": null,
      "metadata": {
        "id": "bJEfNjgrwSnu"
      },
      "outputs": [],
      "source": [
        "khu_gdf_proj.crs"
      ]
    },
    {
      "cell_type": "markdown",
      "metadata": {
        "id": "w4pkkwvIwSnu"
      },
      "source": [
        "---\n",
        "### *Exercise*\n",
        "5. (2 points) Convert the coordinate systems of your two GeoDataFrame (i.e., `your_poi_gdf` and `your_loc_gdf`) from WGS84 (EPSG:4326) to UTM-K (EPSG: 5179) <br>\n",
        "    and then save the results to `your_poi_gdf_proj` and `your_loc_gdf_proj` respectively. <br>\n",
        "    Syntax as shown below.\n",
        "\n",
        "```python\n",
        "    proj_gdf = gdf.to_crs(epsg = 'Provide EPSG Code of the Coordinate System here')\n",
        "```\n",
        "---"
      ]
    },
    {
      "cell_type": "code",
      "execution_count": null,
      "metadata": {
        "id": "Y6GVbvWSwSnv"
      },
      "outputs": [],
      "source": [
        "# Your code here\n",
        "your_poi_gdf_proj = your_poi_gdf.`DO SOMETHING HERE`\n",
        "your_loc_gdf_proj = your_loc_gdf.`DO SOMETHING HERE`"
      ]
    },
    {
      "cell_type": "code",
      "execution_count": null,
      "metadata": {
        "id": "E9368HuswSnv"
      },
      "outputs": [],
      "source": [
        "\"\"\" Test code for the previous function.\n",
        "This cell should NOT give any errors when it is run.\"\"\"\n",
        "\n",
        "assert your_poi_gdf_proj.crs == 'EPSG:5179'\n",
        "assert your_loc_gdf_proj.crs == 'EPSG:5179'\n",
        "\n",
        "print(\"Success!\")"
      ]
    },
    {
      "cell_type": "markdown",
      "metadata": {
        "id": "FqaoMtQSwSnv"
      },
      "source": [
        "## 3.3. Create a buffer around the specific location\n",
        "\n",
        "Syntax to create a buffer around a point\n",
        "```python\n",
        "gdf = gdf.buffer(`RADIUS IN METERS`)\n",
        "\n",
        "OR\n",
        "\n",
        "gdf = gdf['geometry'].buffer(`RADIUS IN METERS`)\n",
        "```"
      ]
    },
    {
      "cell_type": "code",
      "execution_count": null,
      "metadata": {
        "id": "F37ckpHcwSnv"
      },
      "outputs": [],
      "source": [
        "khu_gdf_buffer = khu_gdf_proj.copy()\n",
        "khu_gdf_buffer['geometry'] = khu_gdf_buffer.buffer(1000)\n",
        "khu_gdf_buffer"
      ]
    },
    {
      "cell_type": "code",
      "execution_count": null,
      "metadata": {
        "id": "MYLNLi0twSnv"
      },
      "outputs": [],
      "source": [
        "# Visualize the buffer\n",
        "khu_gdf_buffer.explore()"
      ]
    },
    {
      "cell_type": "markdown",
      "metadata": {
        "id": "ahs-eWF8wSnv"
      },
      "source": [
        "---\n",
        "### *Exercise*\n",
        "6. (2 points) Create the buffer of your specific location (i.e., `your_loc_gdf_proj`) with a radius of 1000 meters. <br>\n",
        "    Save the results to `your_loc_buffer`. <br>\n",
        "    Syntax as shown below.\n",
        "\n",
        "```python\n",
        "    your_loc_buffer = your_loc_gdf_proj.copy()\n",
        "    your_loc_buffer = your_loc_buffer.buffer('Radius in Meters')\n",
        "    your_loc_buffer\n",
        "```\n",
        "\n",
        "---"
      ]
    },
    {
      "cell_type": "code",
      "execution_count": null,
      "metadata": {
        "id": "GeufBz0WwSnv"
      },
      "outputs": [],
      "source": [
        "# Your code here\n",
        "your_loc_buffer = your_loc_gdf_proj.copy()\n",
        "your_loc_buffer['geometry'] = your_loc_buffer.buffer(`RADIUS IN METERS`)\n",
        "your_loc_buffer\n"
      ]
    },
    {
      "cell_type": "code",
      "execution_count": null,
      "metadata": {
        "id": "c75Ka4FRwSnv"
      },
      "outputs": [],
      "source": [
        "\"\"\" Test code for the previous function.\n",
        "This cell should NOT give any errors when it is run.\"\"\"\n",
        "\n",
        "assert type(your_loc_buffer.loc[0, 'geometry']) == Polygon\n",
        "assert round(your_loc_buffer.loc[0, 'geometry'].area) == 3136548\n",
        "\n",
        "print(\"Success!\")"
      ]
    },
    {
      "cell_type": "markdown",
      "metadata": {
        "id": "bjO95pG3wSnv"
      },
      "source": [
        "## 3.4. Select POIs within 1km of the specific location\n",
        "\n",
        "Spatial operations methods in GeoPandas: <br>\n",
        "- `intersects` method: Selects all rows that intersect a single geometry. <br>\n",
        "- `within` method: Selects all rows that are within a single geometry. <br>\n",
        "- `disjoint` method: Selects all rows that are disjoint to a single geometry. <br>\n",
        "\n",
        "Syntax:\n",
        "```python\n",
        "`GEOMETRY COLUMN`.intersects(`A SINGLE GEOMETRY`) # intersect operation (can be replaced with within or disjoint)\n",
        "```\n",
        "\n",
        "Spatial operations in GeoPandas can be performed using the `loc` method. The loc method syntax is `df.loc[row condition, column condition]`. The following codes is the completed code to select a given geodataframe based on a spatial operation.<br>\n",
        "\n",
        "Syntax:\n",
        "```python\n",
        "`SELECTED_GDF` = `GEODATAFRAME`.loc[`GEODATAFRAME_A`['geometry'].intersects(`A SINGLE GEOMETRY`)] # Intersects operation\n",
        "```\n",
        "\n",
        "Kinds of spatial operations: <br>\n",
        "![](https://www.researchgate.net/profile/Tran-Dang-2/publication/286609202/figure/fig2/AS:925090808086531@1597570244506/Eight-OGC-spatial-relations-used-in-GeoXACML_W640.jpg)"
      ]
    },
    {
      "cell_type": "code",
      "execution_count": null,
      "metadata": {
        "id": "sgnO0_ArwSnv"
      },
      "outputs": [],
      "source": [
        "# Visualize the buffer and POIs within the AOI\n",
        "fig, ax = plt.subplots(figsize=(10, 10))\n",
        "\n",
        "poi_gdf_proj.plot('category', legend=True, ax=ax)\n",
        "khu_gdf_buffer.boundary.plot(ax=ax, color='red')\n",
        "plt.show()"
      ]
    },
    {
      "cell_type": "code",
      "execution_count": null,
      "metadata": {
        "id": "8wJmML6iwSnv"
      },
      "outputs": [],
      "source": [
        "# Select buffer geometry\n",
        "khu_gdf_buffer['geometry'][0]"
      ]
    },
    {
      "cell_type": "code",
      "execution_count": null,
      "metadata": {
        "id": "LVzj3vJZwSnw"
      },
      "outputs": [],
      "source": [
        "# Select POI data geometries\n",
        "poi_gdf_proj['geometry']"
      ]
    },
    {
      "cell_type": "code",
      "execution_count": null,
      "metadata": {
        "id": "kU3y9znJwSnw"
      },
      "outputs": [],
      "source": [
        "# Query the POI data which intersects the buffer\n",
        "poi_gdf_proj.intersects(khu_gdf_buffer['geometry'][0])"
      ]
    },
    {
      "cell_type": "code",
      "execution_count": null,
      "metadata": {
        "id": "V61dQP3rwSnw"
      },
      "outputs": [],
      "source": [
        "# Select the POI data within the buffer\n",
        "poi_gdf_proj.loc[poi_gdf_proj.intersects(khu_gdf_buffer['geometry'][0])]"
      ]
    },
    {
      "cell_type": "code",
      "execution_count": null,
      "metadata": {
        "id": "fk7eQac3wSnw"
      },
      "outputs": [],
      "source": [
        "# Assign the result into a new GeoDataFrame (poi_khu)\n",
        "poi_khu_buffer = poi_gdf_proj.loc[poi_gdf_proj.intersects(khu_gdf_buffer['geometry'][0])]\n",
        "poi_khu_buffer"
      ]
    },
    {
      "cell_type": "code",
      "execution_count": null,
      "metadata": {
        "id": "Ml-pT6WhwSnw"
      },
      "outputs": [],
      "source": [
        "# Visualize the buffer and POIs within the AOI (Your case)\n",
        "fig, ax = plt.subplots(figsize=(10, 10))\n",
        "\n",
        "your_poi_gdf_proj.plot('category', legend=True, ax=ax)\n",
        "your_loc_buffer.boundary.plot(ax=ax, color='red')\n",
        "plt.show()"
      ]
    },
    {
      "cell_type": "markdown",
      "metadata": {
        "id": "bKRSY0dXwSnw"
      },
      "source": [
        "---\n",
        "### *Exercise*\n",
        "7. (2 points) Select the POI (i.e., `your_poi_gdf_proj`) within the 1km buffer of your specific location (i.e., your_loc_buffer) <br>\n",
        "    and then save the results to `poi_your_buffer`. <br>\n",
        "    Syntax as shown below.\n",
        "\n",
        "```python\n",
        "    poi_your_buffer = `GEODATAFRAME`.loc[`GEODATAFRAME_A`['geometry'].intersects(`A SINGLE GEOMETRY`)] # Intersects operation\n",
        "    poi_your_buffer\n",
        "```\n",
        "---"
      ]
    },
    {
      "cell_type": "code",
      "execution_count": null,
      "metadata": {
        "id": "oXK2XcZfwSnw"
      },
      "outputs": [],
      "source": [
        "# Your code here\n",
        "poi_your_buffer = your_poi_gdf_proj.loc[your_poi_gdf_proj.intersects(your_loc_buffer['geometry'][0])]\n",
        "poi_your_buffer"
      ]
    },
    {
      "cell_type": "markdown",
      "metadata": {
        "id": "JKoFZ80bwSnw"
      },
      "source": [
        "# 3.5. Check the statistics of the POIs within 1km of the specific location\n",
        "\n",
        "`DataFrame`['column'].value_counts() is a method to count the number of unique values in a column of a DataFrame. <br>"
      ]
    },
    {
      "cell_type": "code",
      "execution_count": null,
      "metadata": {
        "id": "WDWOl8xvwSnw"
      },
      "outputs": [],
      "source": [
        "# Check the number of POIs within the buffer (KHU case)\n",
        "poi_khu_buffer['category'].value_counts()"
      ]
    },
    {
      "cell_type": "code",
      "execution_count": null,
      "metadata": {
        "id": "N5TBi0NgwSnw"
      },
      "outputs": [],
      "source": [
        "# Check the number of POIs within the buffer (your case)\n",
        "poi_your_buffer['category'].value_counts()"
      ]
    },
    {
      "cell_type": "markdown",
      "metadata": {
        "id": "tVQf9AB3wSnw"
      },
      "source": [
        "# 4. Summary of the code\n",
        "\n",
        "```python\n",
        "# Get the Polygon of an administrative region\n",
        "aoi = ox.geocode_to_gdf('Dongdaemun-gu, Seoul, South Korea')\n",
        "\n",
        "# Retrieve the POI data for the AOI (iternation necessary)\n",
        "poi_gdf = ox.features_from_polygon(`Extent of the POI data`\n",
        "                                     tags={`Tag Key`: [`Tag Value 1`, `Tag Value 2` ...]}\n",
        "                                     )\n",
        "\n",
        "# Select a specific location to query 15-minute city criteria\n",
        "your_coordinates = ox.geocode('Address of your specific location')\n",
        "\n",
        "# Convert the coordinates to a DataFrame\n",
        "your_loc_df = pd.DataFrame({'name': ['Your Location'],\n",
        "                            'x': ['Enter the x-coordinate'],\n",
        "                            'y': ['Enter the y-coordinate']\n",
        "                            })\n",
        "\n",
        "# Convert the DataFrame to a GeoDataFrame\n",
        "your_loc_gdf = gpd.GeoDataFrame(your_loc_df,\n",
        "                                geometry=gpd.points_from_xy(your_loc_df.x, your_loc_df.y),\n",
        "                                crs='EPSG:4326')\n",
        "\n",
        "# Convert the coordinate systems of the GeoDataFrames to UTM-K (EPSG:5179)\n",
        "proj_gdf = gdf.to_crs(epsg = 'Provide EPSG Code of the Coordinate System here')\n",
        "\n",
        "# Create a buffer around the specific location\n",
        "your_loc_buffer = your_loc_buffer.buffer('Radius in Meters')\n",
        "\n",
        "# Select POIs within 1km of the specific location\n",
        "poi_your_buffer = `GEODATAFRAME`.loc[`GEODATAFRAME_A`['geometry'].intersects(`A SINGLE GEOMETRY`)] # Intersects operation\n",
        "\n",
        "```"
      ]
    },
    {
      "cell_type": "markdown",
      "metadata": {
        "id": "SiiPBA-uwSnx"
      },
      "source": [
        "# Done"
      ]
    }
  ],
  "metadata": {
    "colab": {
      "provenance": [],
      "toc_visible": true
    },
    "kernelspec": {
      "display_name": "GIS_Project",
      "language": "python",
      "name": "python3"
    },
    "language_info": {
      "codemirror_mode": {
        "name": "ipython",
        "version": 3
      },
      "file_extension": ".py",
      "mimetype": "text/x-python",
      "name": "python",
      "nbconvert_exporter": "python",
      "pygments_lexer": "ipython3",
      "version": "3.13.1"
    }
  },
  "nbformat": 4,
  "nbformat_minor": 0
}
