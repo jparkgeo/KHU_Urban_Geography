{
 "cells": [
  {
   "cell_type": "markdown",
   "metadata": {},
   "source": [
    "# Urban Hierarchies of the United States using population and Gross Domestic Income (GDP) data\n",
    "\n",
    "This Jupyter notebook analyzes the urban hierarchy of the United States using population and Gross Domestic Income (GDP) data. For the analysis, this notebook utilizes varous Python packages: Pandas (https://pandas.pydata.org/), GeoPandas (https://geopandas.org/en/stable/#), Matplotlib (https://matplotlib.org/) and Scipy (https://scipy.org/). \n",
    "\n",
    "### Data: \n",
    "- County Geometry: https://www.census.gov/geographies/mapping-files/time-series/geo/tiger-line-file.html \n",
    "- County-level Population (American Community Survey): https://www.census.gov/programs-surveys/acs/data.html \n",
    "- County-level GDP (Bureau of Economic Analysis): https://www.bea.gov/data/gdp/gdp-county-metro-and-other-areas\n",
    "\n",
    "### Steps: \n",
    "1. Preprocessing County Geometry with GeoPandas <br>\n",
    "    1.1. Read the shapefile using GeoPandas <br>\n",
    "    1.2. Calculate two-digit State ID using county-level GEOID <br>\n",
    "    1.3. Select counties only for conterminous United States <br>\n",
    "\n",
    "2. Preprocessing GDP data with Pandas <br>\n",
    "    2.1. Load Excel File with Pandas <br>\n",
    "    2.2. Check the data type of columns of the Pandas DataFrame and change the data type accordingly <br>\n",
    "    2.3. Solve the problem of missing leading zero (e.g., Alabama: 01) <br>\n",
    "    2.4. Select rows based on a condition <br>\n",
    "\n",
    "3. Plotting county-level GDP for the conterminous United States <br>\n",
    "    3.1. Join (Merge) county geometry and GDP data <br>\n",
    "    3.2. Make a choropleth map of GDP data\n",
    "        - Classification\n",
    "        - Change colors\n",
    "        - Legend\n",
    "        - Change coordinate system\n",
    "        - Multiple layers\n",
    "\n",
    "\n",
    "4. Hands-on practice using population data with Pandas and GeoPandas  <br>\n",
    "    4.1. Preprocessing the population data with Pandas <br>\n",
    "    4.2. Plotting county-level population for the conterminous United States <br>"
   ]
  },
  {
   "cell_type": "markdown",
   "metadata": {},
   "source": [
    "# Import Packages\n",
    "A Python package is a way of organizing related Python modules into a single directory hierarchy. It provides a mechanism for grouping Python code files, resources, and configuration settings in a structured manner, making it easier to manage and distribute code. They also facilitate code reuse and distribution by allowing developers to bundle related functionality together and share it with others.\n",
    "\n",
    "We will be using the following packages in this notebook: <br>\n",
    "`pandas` is a Python package providing fast, flexible, and expressive data structures designed to make working with “relational” or “labeled” data both easy and intuitive. <br>\n",
    "source: https://pandas.pydata.org/docs/getting_started/overview.html\n",
    "\n",
    "`geopandas` is the geographic expansion of `pandas`, allowing to have geometry and working with vector data. <br>\n",
    "source: https://geopandas.org/en/stable/getting_started/introduction.html\n",
    "\n",
    "`matplotlib` provides a collection of functions that make plots and maps. Each pyplot function makes some change to a figure: e.g., creates a figure, creates a plotting area in a figure, plots some lines in a plotting area, decorates the plot with labels, etc. <br>\n",
    "source: https://matplotlib.org/stable/users/getting_started/"
   ]
  },
  {
   "cell_type": "code",
   "execution_count": 1,
   "metadata": {},
   "outputs": [
    {
     "name": "stderr",
     "output_type": "stream",
     "text": [
      "/var/folders/pz/gjtw38596y3_mm15469h9jy40000gn/T/ipykernel_89772/3771535966.py:1: DeprecationWarning: Shapely 2.0 is installed, but because PyGEOS is also installed, GeoPandas still uses PyGEOS by default. However, starting with version 0.14, the default will switch to Shapely. To force to use Shapely 2.0 now, you can either uninstall PyGEOS or set the environment variable USE_PYGEOS=0. You can do this before starting the Python process, or in your code before importing geopandas:\n",
      "\n",
      "import os\n",
      "os.environ['USE_PYGEOS'] = '0'\n",
      "import geopandas\n",
      "\n",
      "In the next release, GeoPandas will switch to using Shapely by default, even if PyGEOS is installed. If you only have PyGEOS installed to get speed-ups, this switch should be smooth. However, if you are using PyGEOS directly (calling PyGEOS functions on geometries from GeoPandas), this will then stop working and you are encouraged to migrate from PyGEOS to Shapely 2.0 (https://shapely.readthedocs.io/en/latest/migration_pygeos.html).\n",
      "  import geopandas as gpd\n"
     ]
    }
   ],
   "source": [
    "import geopandas as gpd\n",
    "import pandas as pd\n",
    "import matplotlib.pyplot as plt"
   ]
  },
  {
   "cell_type": "markdown",
   "metadata": {},
   "source": [
    "# 1. Preprocessing County Geometry with GeoPandas\n",
    "## 1.1. Read the shapefile using GeoPandas"
   ]
  },
  {
   "cell_type": "code",
   "execution_count": 2,
   "metadata": {},
   "outputs": [
    {
     "data": {
      "text/html": [
       "<div>\n",
       "<style scoped>\n",
       "    .dataframe tbody tr th:only-of-type {\n",
       "        vertical-align: middle;\n",
       "    }\n",
       "\n",
       "    .dataframe tbody tr th {\n",
       "        vertical-align: top;\n",
       "    }\n",
       "\n",
       "    .dataframe thead th {\n",
       "        text-align: right;\n",
       "    }\n",
       "</style>\n",
       "<table border=\"1\" class=\"dataframe\">\n",
       "  <thead>\n",
       "    <tr style=\"text-align: right;\">\n",
       "      <th></th>\n",
       "      <th>GEOID</th>\n",
       "      <th>NAME</th>\n",
       "      <th>geometry</th>\n",
       "    </tr>\n",
       "  </thead>\n",
       "  <tbody>\n",
       "    <tr>\n",
       "      <th>0</th>\n",
       "      <td>01001</td>\n",
       "      <td>Autauga County, Alabama</td>\n",
       "      <td>POLYGON ((-86.45876 32.40573, -86.46056 32.404...</td>\n",
       "    </tr>\n",
       "    <tr>\n",
       "      <th>1</th>\n",
       "      <td>01003</td>\n",
       "      <td>Baldwin County, Alabama</td>\n",
       "      <td>POLYGON ((-87.93604 30.26147, -87.91825 30.253...</td>\n",
       "    </tr>\n",
       "    <tr>\n",
       "      <th>2</th>\n",
       "      <td>01005</td>\n",
       "      <td>Barbour County, Alabama</td>\n",
       "      <td>POLYGON ((-85.74174 31.61940, -85.73981 31.621...</td>\n",
       "    </tr>\n",
       "    <tr>\n",
       "      <th>3</th>\n",
       "      <td>01007</td>\n",
       "      <td>Bibb County, Alabama</td>\n",
       "      <td>POLYGON ((-86.87630 33.00306, -86.87644 33.000...</td>\n",
       "    </tr>\n",
       "    <tr>\n",
       "      <th>4</th>\n",
       "      <td>01009</td>\n",
       "      <td>Blount County, Alabama</td>\n",
       "      <td>POLYGON ((-86.57753 33.80198, -86.57780 33.765...</td>\n",
       "    </tr>\n",
       "    <tr>\n",
       "      <th>...</th>\n",
       "      <td>...</td>\n",
       "      <td>...</td>\n",
       "      <td>...</td>\n",
       "    </tr>\n",
       "    <tr>\n",
       "      <th>3229</th>\n",
       "      <td>72151</td>\n",
       "      <td>Yabucoa Municipio, Puerto Rico</td>\n",
       "      <td>POLYGON ((-65.82748 18.05507, -65.82910 18.052...</td>\n",
       "    </tr>\n",
       "    <tr>\n",
       "      <th>3230</th>\n",
       "      <td>72153</td>\n",
       "      <td>Yauco Municipio, Puerto Rico</td>\n",
       "      <td>POLYGON ((-66.87603 18.01490, -66.87813 18.016...</td>\n",
       "    </tr>\n",
       "    <tr>\n",
       "      <th>3231</th>\n",
       "      <td>78010</td>\n",
       "      <td>NaN</td>\n",
       "      <td>MULTIPOLYGON (((-64.84404 17.68717, -64.84570 ...</td>\n",
       "    </tr>\n",
       "    <tr>\n",
       "      <th>3232</th>\n",
       "      <td>78020</td>\n",
       "      <td>NaN</td>\n",
       "      <td>MULTIPOLYGON (((-64.79905 18.32969, -64.79862 ...</td>\n",
       "    </tr>\n",
       "    <tr>\n",
       "      <th>3233</th>\n",
       "      <td>78030</td>\n",
       "      <td>NaN</td>\n",
       "      <td>MULTIPOLYGON (((-65.00166 18.30651, -65.00167 ...</td>\n",
       "    </tr>\n",
       "  </tbody>\n",
       "</table>\n",
       "<p>3234 rows × 3 columns</p>\n",
       "</div>"
      ],
      "text/plain": [
       "      GEOID                            NAME  \\\n",
       "0     01001         Autauga County, Alabama   \n",
       "1     01003         Baldwin County, Alabama   \n",
       "2     01005         Barbour County, Alabama   \n",
       "3     01007            Bibb County, Alabama   \n",
       "4     01009          Blount County, Alabama   \n",
       "...     ...                             ...   \n",
       "3229  72151  Yabucoa Municipio, Puerto Rico   \n",
       "3230  72153    Yauco Municipio, Puerto Rico   \n",
       "3231  78010                             NaN   \n",
       "3232  78020                             NaN   \n",
       "3233  78030                             NaN   \n",
       "\n",
       "                                               geometry  \n",
       "0     POLYGON ((-86.45876 32.40573, -86.46056 32.404...  \n",
       "1     POLYGON ((-87.93604 30.26147, -87.91825 30.253...  \n",
       "2     POLYGON ((-85.74174 31.61940, -85.73981 31.621...  \n",
       "3     POLYGON ((-86.87630 33.00306, -86.87644 33.000...  \n",
       "4     POLYGON ((-86.57753 33.80198, -86.57780 33.765...  \n",
       "...                                                 ...  \n",
       "3229  POLYGON ((-65.82748 18.05507, -65.82910 18.052...  \n",
       "3230  POLYGON ((-66.87603 18.01490, -66.87813 18.016...  \n",
       "3231  MULTIPOLYGON (((-64.84404 17.68717, -64.84570 ...  \n",
       "3232  MULTIPOLYGON (((-64.79905 18.32969, -64.79862 ...  \n",
       "3233  MULTIPOLYGON (((-65.00166 18.30651, -65.00167 ...  \n",
       "\n",
       "[3234 rows x 3 columns]"
      ]
     },
     "execution_count": 2,
     "metadata": {},
     "output_type": "execute_result"
    }
   ],
   "source": [
    "# .read_file() method is used to read various spatial data formats (shapefile, GeoJSON, etc.)\n",
    "county_gdf = gpd.read_file('./data/county_simplified.shp')\n",
    "county_gdf"
   ]
  },
  {
   "cell_type": "code",
   "execution_count": 3,
   "metadata": {},
   "outputs": [
    {
     "data": {
      "text/plain": [
       "geopandas.geodataframe.GeoDataFrame"
      ]
     },
     "execution_count": 3,
     "metadata": {},
     "output_type": "execute_result"
    }
   ],
   "source": [
    "# When you import a spatial data, the type of the object is a GeoDataFrame\n",
    "type(county_gdf)"
   ]
  },
  {
   "cell_type": "code",
   "execution_count": 4,
   "metadata": {},
   "outputs": [
    {
     "data": {
      "text/plain": [
       "Index(['GEOID', 'NAME', 'geometry'], dtype='object')"
      ]
     },
     "execution_count": 4,
     "metadata": {},
     "output_type": "execute_result"
    }
   ],
   "source": [
    "county_gdf.columns"
   ]
  },
  {
   "cell_type": "code",
   "execution_count": 5,
   "metadata": {},
   "outputs": [
    {
     "data": {
      "text/plain": [
       "0       01001\n",
       "1       01003\n",
       "2       01005\n",
       "3       01007\n",
       "4       01009\n",
       "        ...  \n",
       "3229    72151\n",
       "3230    72153\n",
       "3231    78010\n",
       "3232    78020\n",
       "3233    78030\n",
       "Name: GEOID, Length: 3234, dtype: object"
      ]
     },
     "execution_count": 5,
     "metadata": {},
     "output_type": "execute_result"
    }
   ],
   "source": [
    "county_gdf['GEOID']"
   ]
  },
  {
   "cell_type": "code",
   "execution_count": 6,
   "metadata": {},
   "outputs": [
    {
     "data": {
      "text/plain": [
       "<Axes: >"
      ]
     },
     "execution_count": 6,
     "metadata": {},
     "output_type": "execute_result"
    },
    {
     "data": {
      "image/png": "[encoded data removed]",
      "text/plain": [
       "<Figure size 640x480 with 1 Axes>"
      ]
     },
     "metadata": {},
     "output_type": "display_data"
    }
   ],
   "source": [
    "# You can use .plot() method to plot the GeoDataFrame. If there is no 'geometry' column, it will plot a numerical values.\n",
    "county_gdf.plot()"
   ]
  },
  {
   "cell_type": "code",
   "execution_count": 7,
   "metadata": {},
   "outputs": [
    {
     "data": {
      "text/plain": [
       "<Geographic 2D CRS: EPSG:4326>\n",
       "Name: WGS 84\n",
       "Axis Info [ellipsoidal]:\n",
       "- Lat[north]: Geodetic latitude (degree)\n",
       "- Lon[east]: Geodetic longitude (degree)\n",
       "Area of Use:\n",
       "- name: World.\n",
       "- bounds: (-180.0, -90.0, 180.0, 90.0)\n",
       "Datum: World Geodetic System 1984 ensemble\n",
       "- Ellipsoid: WGS 84\n",
       "- Prime Meridian: Greenwich"
      ]
     },
     "execution_count": 7,
     "metadata": {},
     "output_type": "execute_result"
    }
   ],
   "source": [
    "county_gdf.crs"
   ]
  },
  {
   "cell_type": "markdown",
   "metadata": {},
   "source": [
    "## 1.2. Calculate two-digit State ID using five-digit county-level GEOID\n",
    "\n",
    "Since the US has territory outside of the conterminous United States (e.g., Hawaii, Puerto Rico), so we need to use the two-digit state code to select the counties in the conterminous United States."
   ]
  },
  {
   "cell_type": "code",
   "execution_count": 8,
   "metadata": {},
   "outputs": [
    {
     "data": {
      "text/html": [
       "<div>\n",
       "<style scoped>\n",
       "    .dataframe tbody tr th:only-of-type {\n",
       "        vertical-align: middle;\n",
       "    }\n",
       "\n",
       "    .dataframe tbody tr th {\n",
       "        vertical-align: top;\n",
       "    }\n",
       "\n",
       "    .dataframe thead th {\n",
       "        text-align: right;\n",
       "    }\n",
       "</style>\n",
       "<table border=\"1\" class=\"dataframe\">\n",
       "  <thead>\n",
       "    <tr style=\"text-align: right;\">\n",
       "      <th></th>\n",
       "      <th>GEOID</th>\n",
       "      <th>NAME</th>\n",
       "      <th>geometry</th>\n",
       "      <th>STATE</th>\n",
       "    </tr>\n",
       "  </thead>\n",
       "  <tbody>\n",
       "    <tr>\n",
       "      <th>0</th>\n",
       "      <td>01001</td>\n",
       "      <td>Autauga County, Alabama</td>\n",
       "      <td>POLYGON ((-86.45876 32.40573, -86.46056 32.404...</td>\n",
       "      <td>01</td>\n",
       "    </tr>\n",
       "    <tr>\n",
       "      <th>1</th>\n",
       "      <td>01003</td>\n",
       "      <td>Baldwin County, Alabama</td>\n",
       "      <td>POLYGON ((-87.93604 30.26147, -87.91825 30.253...</td>\n",
       "      <td>01</td>\n",
       "    </tr>\n",
       "    <tr>\n",
       "      <th>2</th>\n",
       "      <td>01005</td>\n",
       "      <td>Barbour County, Alabama</td>\n",
       "      <td>POLYGON ((-85.74174 31.61940, -85.73981 31.621...</td>\n",
       "      <td>01</td>\n",
       "    </tr>\n",
       "    <tr>\n",
       "      <th>3</th>\n",
       "      <td>01007</td>\n",
       "      <td>Bibb County, Alabama</td>\n",
       "      <td>POLYGON ((-86.87630 33.00306, -86.87644 33.000...</td>\n",
       "      <td>01</td>\n",
       "    </tr>\n",
       "    <tr>\n",
       "      <th>4</th>\n",
       "      <td>01009</td>\n",
       "      <td>Blount County, Alabama</td>\n",
       "      <td>POLYGON ((-86.57753 33.80198, -86.57780 33.765...</td>\n",
       "      <td>01</td>\n",
       "    </tr>\n",
       "    <tr>\n",
       "      <th>...</th>\n",
       "      <td>...</td>\n",
       "      <td>...</td>\n",
       "      <td>...</td>\n",
       "      <td>...</td>\n",
       "    </tr>\n",
       "    <tr>\n",
       "      <th>3229</th>\n",
       "      <td>72151</td>\n",
       "      <td>Yabucoa Municipio, Puerto Rico</td>\n",
       "      <td>POLYGON ((-65.82748 18.05507, -65.82910 18.052...</td>\n",
       "      <td>72</td>\n",
       "    </tr>\n",
       "    <tr>\n",
       "      <th>3230</th>\n",
       "      <td>72153</td>\n",
       "      <td>Yauco Municipio, Puerto Rico</td>\n",
       "      <td>POLYGON ((-66.87603 18.01490, -66.87813 18.016...</td>\n",
       "      <td>72</td>\n",
       "    </tr>\n",
       "    <tr>\n",
       "      <th>3231</th>\n",
       "      <td>78010</td>\n",
       "      <td>NaN</td>\n",
       "      <td>MULTIPOLYGON (((-64.84404 17.68717, -64.84570 ...</td>\n",
       "      <td>78</td>\n",
       "    </tr>\n",
       "    <tr>\n",
       "      <th>3232</th>\n",
       "      <td>78020</td>\n",
       "      <td>NaN</td>\n",
       "      <td>MULTIPOLYGON (((-64.79905 18.32969, -64.79862 ...</td>\n",
       "      <td>78</td>\n",
       "    </tr>\n",
       "    <tr>\n",
       "      <th>3233</th>\n",
       "      <td>78030</td>\n",
       "      <td>NaN</td>\n",
       "      <td>MULTIPOLYGON (((-65.00166 18.30651, -65.00167 ...</td>\n",
       "      <td>78</td>\n",
       "    </tr>\n",
       "  </tbody>\n",
       "</table>\n",
       "<p>3234 rows × 4 columns</p>\n",
       "</div>"
      ],
      "text/plain": [
       "      GEOID                            NAME  \\\n",
       "0     01001         Autauga County, Alabama   \n",
       "1     01003         Baldwin County, Alabama   \n",
       "2     01005         Barbour County, Alabama   \n",
       "3     01007            Bibb County, Alabama   \n",
       "4     01009          Blount County, Alabama   \n",
       "...     ...                             ...   \n",
       "3229  72151  Yabucoa Municipio, Puerto Rico   \n",
       "3230  72153    Yauco Municipio, Puerto Rico   \n",
       "3231  78010                             NaN   \n",
       "3232  78020                             NaN   \n",
       "3233  78030                             NaN   \n",
       "\n",
       "                                               geometry STATE  \n",
       "0     POLYGON ((-86.45876 32.40573, -86.46056 32.404...    01  \n",
       "1     POLYGON ((-87.93604 30.26147, -87.91825 30.253...    01  \n",
       "2     POLYGON ((-85.74174 31.61940, -85.73981 31.621...    01  \n",
       "3     POLYGON ((-86.87630 33.00306, -86.87644 33.000...    01  \n",
       "4     POLYGON ((-86.57753 33.80198, -86.57780 33.765...    01  \n",
       "...                                                 ...   ...  \n",
       "3229  POLYGON ((-65.82748 18.05507, -65.82910 18.052...    72  \n",
       "3230  POLYGON ((-66.87603 18.01490, -66.87813 18.016...    72  \n",
       "3231  MULTIPOLYGON (((-64.84404 17.68717, -64.84570 ...    78  \n",
       "3232  MULTIPOLYGON (((-64.79905 18.32969, -64.79862 ...    78  \n",
       "3233  MULTIPOLYGON (((-65.00166 18.30651, -65.00167 ...    78  \n",
       "\n",
       "[3234 rows x 4 columns]"
      ]
     },
     "execution_count": 8,
     "metadata": {},
     "output_type": "execute_result"
    }
   ],
   "source": [
    "# .iterrows() method is used to iterate over the rows of a DataFrame. It returns an iterator containing index of each row and the data in each row as a Series.\n",
    "for idx, row in county_gdf.iterrows():\n",
    "\n",
    "    # .at[] method is used to access a single value for a row/column label pair.\n",
    "    # row['GEOID'] is a string, so we can use string slicing to get the first two characters of the string.\n",
    "    county_gdf.at[idx, 'STATE'] = row['GEOID'][0:2]\n",
    "\n",
    "county_gdf"
   ]
  },
  {
   "cell_type": "markdown",
   "metadata": {},
   "source": [
    "## 1.3. Select counties only for conterminous United States"
   ]
  },
  {
   "cell_type": "code",
   "execution_count": 9,
   "metadata": {},
   "outputs": [],
   "source": [
    "# GEOID for Conterminous US States (Lower 48 States)\n",
    "lower_48_states = ['01', '04', '05', '06', '08', '09', '10', '11', '12', '13', '16', '17', '18', '19', '20',\n",
    "                   '21', '22', '23', '24', '25', '26', '27', '28', '29', '30', '31', '32', '33', '34', '35', \n",
    "                   '36', '37', '38', '39', '40', '41', '42', '44', '45', '46', '47', '48', '49', '50', '51', \n",
    "                   '53', '54', '55', '56']"
   ]
  },
  {
   "cell_type": "code",
   "execution_count": 10,
   "metadata": {},
   "outputs": [
    {
     "data": {
      "text/plain": [
       "0       False\n",
       "1       False\n",
       "2       False\n",
       "3       False\n",
       "4       False\n",
       "        ...  \n",
       "3229    False\n",
       "3230    False\n",
       "3231    False\n",
       "3232    False\n",
       "3233    False\n",
       "Name: STATE, Length: 3234, dtype: bool"
      ]
     },
     "execution_count": 10,
     "metadata": {},
     "output_type": "execute_result"
    }
   ],
   "source": [
    "# It is possible to compare the value within the Series to a list of values or a single value. The result is a boolean Series.\n",
    "county_gdf['STATE'] == '38' # North Dakota"
   ]
  },
  {
   "cell_type": "code",
   "execution_count": 11,
   "metadata": {},
   "outputs": [
    {
     "data": {
      "text/html": [
       "<div>\n",
       "<style scoped>\n",
       "    .dataframe tbody tr th:only-of-type {\n",
       "        vertical-align: middle;\n",
       "    }\n",
       "\n",
       "    .dataframe tbody tr th {\n",
       "        vertical-align: top;\n",
       "    }\n",
       "\n",
       "    .dataframe thead th {\n",
       "        text-align: right;\n",
       "    }\n",
       "</style>\n",
       "<table border=\"1\" class=\"dataframe\">\n",
       "  <thead>\n",
       "    <tr style=\"text-align: right;\">\n",
       "      <th></th>\n",
       "      <th>GEOID</th>\n",
       "      <th>NAME</th>\n",
       "      <th>geometry</th>\n",
       "      <th>STATE</th>\n",
       "    </tr>\n",
       "  </thead>\n",
       "  <tbody>\n",
       "    <tr>\n",
       "      <th>1991</th>\n",
       "      <td>38001</td>\n",
       "      <td>Adams County, North Dakota</td>\n",
       "      <td>POLYGON ((-102.99537 46.03213, -102.99525 46.1...</td>\n",
       "      <td>38</td>\n",
       "    </tr>\n",
       "    <tr>\n",
       "      <th>1992</th>\n",
       "      <td>38003</td>\n",
       "      <td>Barnes County, North Dakota</td>\n",
       "      <td>POLYGON ((-97.95019 47.24042, -97.94019 47.240...</td>\n",
       "      <td>38</td>\n",
       "    </tr>\n",
       "    <tr>\n",
       "      <th>1993</th>\n",
       "      <td>38005</td>\n",
       "      <td>Benson County, North Dakota</td>\n",
       "      <td>POLYGON ((-98.94480 48.00280, -98.94078 48.001...</td>\n",
       "      <td>38</td>\n",
       "    </tr>\n",
       "    <tr>\n",
       "      <th>1994</th>\n",
       "      <td>38007</td>\n",
       "      <td>Billings County, North Dakota</td>\n",
       "      <td>POLYGON ((-103.66701 47.12447, -103.66691 47.1...</td>\n",
       "      <td>38</td>\n",
       "    </tr>\n",
       "    <tr>\n",
       "      <th>1995</th>\n",
       "      <td>38009</td>\n",
       "      <td>Bottineau County, North Dakota</td>\n",
       "      <td>POLYGON ((-100.92058 48.99956, -100.91794 48.9...</td>\n",
       "      <td>38</td>\n",
       "    </tr>\n",
       "    <tr>\n",
       "      <th>1996</th>\n",
       "      <td>38011</td>\n",
       "      <td>Bowman County, North Dakota</td>\n",
       "      <td>POLYGON ((-104.04576 46.12395, -104.04524 46.1...</td>\n",
       "      <td>38</td>\n",
       "    </tr>\n",
       "    <tr>\n",
       "      <th>1997</th>\n",
       "      <td>38013</td>\n",
       "      <td>Burke County, North Dakota</td>\n",
       "      <td>POLYGON ((-102.93966 48.76401, -102.93946 48.8...</td>\n",
       "      <td>38</td>\n",
       "    </tr>\n",
       "    <tr>\n",
       "      <th>1998</th>\n",
       "      <td>38015</td>\n",
       "      <td>Burleigh County, North Dakota</td>\n",
       "      <td>POLYGON ((-100.83024 46.77585, -100.82912 46.7...</td>\n",
       "      <td>38</td>\n",
       "    </tr>\n",
       "    <tr>\n",
       "      <th>1999</th>\n",
       "      <td>38017</td>\n",
       "      <td>Cass County, North Dakota</td>\n",
       "      <td>POLYGON ((-96.79627 46.80343, -96.79610 46.803...</td>\n",
       "      <td>38</td>\n",
       "    </tr>\n",
       "    <tr>\n",
       "      <th>2000</th>\n",
       "      <td>38019</td>\n",
       "      <td>Cavalier County, North Dakota</td>\n",
       "      <td>POLYGON ((-99.00013 48.89118, -99.00045 48.891...</td>\n",
       "      <td>38</td>\n",
       "    </tr>\n",
       "    <tr>\n",
       "      <th>2001</th>\n",
       "      <td>38021</td>\n",
       "      <td>Dickey County, North Dakota</td>\n",
       "      <td>POLYGON ((-98.15172 46.28278, -98.13082 46.282...</td>\n",
       "      <td>38</td>\n",
       "    </tr>\n",
       "    <tr>\n",
       "      <th>2002</th>\n",
       "      <td>38023</td>\n",
       "      <td>Divide County, North Dakota</td>\n",
       "      <td>POLYGON ((-104.04868 48.86378, -104.04865 48.8...</td>\n",
       "      <td>38</td>\n",
       "    </tr>\n",
       "    <tr>\n",
       "      <th>2003</th>\n",
       "      <td>38025</td>\n",
       "      <td>Dunn County, North Dakota</td>\n",
       "      <td>POLYGON ((-103.09967 47.67452, -103.02697 47.6...</td>\n",
       "      <td>38</td>\n",
       "    </tr>\n",
       "    <tr>\n",
       "      <th>2004</th>\n",
       "      <td>38027</td>\n",
       "      <td>Eddy County, North Dakota</td>\n",
       "      <td>POLYGON ((-99.29738 47.76757, -99.29720 47.846...</td>\n",
       "      <td>38</td>\n",
       "    </tr>\n",
       "    <tr>\n",
       "      <th>2005</th>\n",
       "      <td>38029</td>\n",
       "      <td>Emmons County, North Dakota</td>\n",
       "      <td>POLYGON ((-100.66201 46.63460, -100.64564 46.6...</td>\n",
       "      <td>38</td>\n",
       "    </tr>\n",
       "    <tr>\n",
       "      <th>2006</th>\n",
       "      <td>38031</td>\n",
       "      <td>Foster County, North Dakota</td>\n",
       "      <td>POLYGON ((-99.26631 47.41439, -99.26615 47.500...</td>\n",
       "      <td>38</td>\n",
       "    </tr>\n",
       "    <tr>\n",
       "      <th>2007</th>\n",
       "      <td>38033</td>\n",
       "      <td>Golden Valley County, North Dakota</td>\n",
       "      <td>POLYGON ((-104.04590 46.83079, -104.04559 46.9...</td>\n",
       "      <td>38</td>\n",
       "    </tr>\n",
       "    <tr>\n",
       "      <th>2008</th>\n",
       "      <td>38035</td>\n",
       "      <td>Grand Forks County, North Dakota</td>\n",
       "      <td>POLYGON ((-97.88211 47.84599, -97.88210 47.852...</td>\n",
       "      <td>38</td>\n",
       "    </tr>\n",
       "    <tr>\n",
       "      <th>2009</th>\n",
       "      <td>38037</td>\n",
       "      <td>Grant County, North Dakota</td>\n",
       "      <td>POLYGON ((-102.09614 46.68771, -102.09640 46.6...</td>\n",
       "      <td>38</td>\n",
       "    </tr>\n",
       "    <tr>\n",
       "      <th>2010</th>\n",
       "      <td>38039</td>\n",
       "      <td>Griggs County, North Dakota</td>\n",
       "      <td>POLYGON ((-98.50007 47.53020, -98.50004 47.548...</td>\n",
       "      <td>38</td>\n",
       "    </tr>\n",
       "    <tr>\n",
       "      <th>2011</th>\n",
       "      <td>38041</td>\n",
       "      <td>Hettinger County, North Dakota</td>\n",
       "      <td>POLYGON ((-102.39101 46.63008, -102.34870 46.6...</td>\n",
       "      <td>38</td>\n",
       "    </tr>\n",
       "    <tr>\n",
       "      <th>2012</th>\n",
       "      <td>38043</td>\n",
       "      <td>Kidder County, North Dakota</td>\n",
       "      <td>POLYGON ((-100.11459 47.02514, -100.11444 47.0...</td>\n",
       "      <td>38</td>\n",
       "    </tr>\n",
       "    <tr>\n",
       "      <th>2013</th>\n",
       "      <td>38045</td>\n",
       "      <td>LaMoure County, North Dakota</td>\n",
       "      <td>POLYGON ((-99.03713 46.45737, -99.03714 46.465...</td>\n",
       "      <td>38</td>\n",
       "    </tr>\n",
       "    <tr>\n",
       "      <th>2014</th>\n",
       "      <td>38047</td>\n",
       "      <td>Logan County, North Dakota</td>\n",
       "      <td>POLYGON ((-99.91706 46.37054, -99.91687 46.370...</td>\n",
       "      <td>38</td>\n",
       "    </tr>\n",
       "    <tr>\n",
       "      <th>2015</th>\n",
       "      <td>38049</td>\n",
       "      <td>McHenry County, North Dakota</td>\n",
       "      <td>POLYGON ((-101.01491 48.06883, -101.01492 48.0...</td>\n",
       "      <td>38</td>\n",
       "    </tr>\n",
       "    <tr>\n",
       "      <th>2016</th>\n",
       "      <td>38051</td>\n",
       "      <td>McIntosh County, North Dakota</td>\n",
       "      <td>POLYGON ((-99.87940 46.05758, -99.87916 46.115...</td>\n",
       "      <td>38</td>\n",
       "    </tr>\n",
       "    <tr>\n",
       "      <th>2017</th>\n",
       "      <td>38053</td>\n",
       "      <td>McKenzie County, North Dakota</td>\n",
       "      <td>POLYGON ((-103.09925 47.58372, -103.09947 47.5...</td>\n",
       "      <td>38</td>\n",
       "    </tr>\n",
       "    <tr>\n",
       "      <th>2018</th>\n",
       "      <td>38055</td>\n",
       "      <td>McLean County, North Dakota</td>\n",
       "      <td>POLYGON ((-101.44014 47.47730, -101.43624 47.4...</td>\n",
       "      <td>38</td>\n",
       "    </tr>\n",
       "    <tr>\n",
       "      <th>2019</th>\n",
       "      <td>38057</td>\n",
       "      <td>Mercer County, North Dakota</td>\n",
       "      <td>POLYGON ((-101.76464 47.24118, -101.76449 47.2...</td>\n",
       "      <td>38</td>\n",
       "    </tr>\n",
       "    <tr>\n",
       "      <th>2020</th>\n",
       "      <td>38059</td>\n",
       "      <td>Morton County, North Dakota</td>\n",
       "      <td>POLYGON ((-101.27827 46.98107, -101.21924 46.9...</td>\n",
       "      <td>38</td>\n",
       "    </tr>\n",
       "    <tr>\n",
       "      <th>2021</th>\n",
       "      <td>38061</td>\n",
       "      <td>Mountrail County, North Dakota</td>\n",
       "      <td>POLYGON ((-102.65497 47.87501, -102.64966 47.8...</td>\n",
       "      <td>38</td>\n",
       "    </tr>\n",
       "    <tr>\n",
       "      <th>2022</th>\n",
       "      <td>38063</td>\n",
       "      <td>Nelson County, North Dakota</td>\n",
       "      <td>POLYGON ((-98.52560 47.73034, -98.52552 47.740...</td>\n",
       "      <td>38</td>\n",
       "    </tr>\n",
       "    <tr>\n",
       "      <th>2023</th>\n",
       "      <td>38065</td>\n",
       "      <td>Oliver County, North Dakota</td>\n",
       "      <td>POLYGON ((-101.76469 47.23158, -101.76449 47.2...</td>\n",
       "      <td>38</td>\n",
       "    </tr>\n",
       "    <tr>\n",
       "      <th>2024</th>\n",
       "      <td>38067</td>\n",
       "      <td>Pembina County, North Dakota</td>\n",
       "      <td>POLYGON ((-97.15955 48.78561, -97.15938 48.783...</td>\n",
       "      <td>38</td>\n",
       "    </tr>\n",
       "    <tr>\n",
       "      <th>2025</th>\n",
       "      <td>38069</td>\n",
       "      <td>Pierce County, North Dakota</td>\n",
       "      <td>POLYGON ((-100.23702 48.28316, -100.23702 48.2...</td>\n",
       "      <td>38</td>\n",
       "    </tr>\n",
       "    <tr>\n",
       "      <th>2026</th>\n",
       "      <td>38071</td>\n",
       "      <td>Ramsey County, North Dakota</td>\n",
       "      <td>POLYGON ((-98.81229 48.06040, -98.81479 48.061...</td>\n",
       "      <td>38</td>\n",
       "    </tr>\n",
       "    <tr>\n",
       "      <th>2027</th>\n",
       "      <td>38073</td>\n",
       "      <td>Ransom County, North Dakota</td>\n",
       "      <td>POLYGON ((-97.60613 46.62976, -97.60103 46.629...</td>\n",
       "      <td>38</td>\n",
       "    </tr>\n",
       "    <tr>\n",
       "      <th>2028</th>\n",
       "      <td>38075</td>\n",
       "      <td>Renville County, North Dakota</td>\n",
       "      <td>POLYGON ((-102.02148 48.87784, -102.02134 48.8...</td>\n",
       "      <td>38</td>\n",
       "    </tr>\n",
       "    <tr>\n",
       "      <th>2029</th>\n",
       "      <td>38077</td>\n",
       "      <td>Richland County, North Dakota</td>\n",
       "      <td>POLYGON ((-97.25945 46.13739, -97.25939 46.138...</td>\n",
       "      <td>38</td>\n",
       "    </tr>\n",
       "    <tr>\n",
       "      <th>2030</th>\n",
       "      <td>38079</td>\n",
       "      <td>Rolette County, North Dakota</td>\n",
       "      <td>POLYGON ((-100.18295 48.80618, -100.18298 48.8...</td>\n",
       "      <td>38</td>\n",
       "    </tr>\n",
       "    <tr>\n",
       "      <th>2031</th>\n",
       "      <td>38081</td>\n",
       "      <td>Sargent County, North Dakota</td>\n",
       "      <td>POLYGON ((-98.00804 46.02977, -98.00744 46.109...</td>\n",
       "      <td>38</td>\n",
       "    </tr>\n",
       "    <tr>\n",
       "      <th>2032</th>\n",
       "      <td>38083</td>\n",
       "      <td>Sheridan County, North Dakota</td>\n",
       "      <td>POLYGON ((-100.67329 47.52403, -100.67306 47.5...</td>\n",
       "      <td>38</td>\n",
       "    </tr>\n",
       "    <tr>\n",
       "      <th>2033</th>\n",
       "      <td>38085</td>\n",
       "      <td>Sioux County, North Dakota</td>\n",
       "      <td>POLYGON ((-100.56640 46.25699, -100.56440 46.2...</td>\n",
       "      <td>38</td>\n",
       "    </tr>\n",
       "    <tr>\n",
       "      <th>2034</th>\n",
       "      <td>38087</td>\n",
       "      <td>Slope County, North Dakota</td>\n",
       "      <td>POLYGON ((-104.04610 46.38392, -104.04505 46.5...</td>\n",
       "      <td>38</td>\n",
       "    </tr>\n",
       "    <tr>\n",
       "      <th>2035</th>\n",
       "      <td>38089</td>\n",
       "      <td>Stark County, North Dakota</td>\n",
       "      <td>POLYGON ((-103.23122 46.83964, -103.23126 46.8...</td>\n",
       "      <td>38</td>\n",
       "    </tr>\n",
       "    <tr>\n",
       "      <th>2036</th>\n",
       "      <td>38091</td>\n",
       "      <td>Steele County, North Dakota</td>\n",
       "      <td>POLYGON ((-97.98618 47.34071, -97.98597 47.355...</td>\n",
       "      <td>38</td>\n",
       "    </tr>\n",
       "    <tr>\n",
       "      <th>2037</th>\n",
       "      <td>38093</td>\n",
       "      <td>Stutsman County, North Dakota</td>\n",
       "      <td>POLYGON ((-99.44851 46.71871, -99.44841 46.720...</td>\n",
       "      <td>38</td>\n",
       "    </tr>\n",
       "    <tr>\n",
       "      <th>2038</th>\n",
       "      <td>38095</td>\n",
       "      <td>Towner County, North Dakota</td>\n",
       "      <td>POLYGON ((-99.52580 48.77623, -99.52574 48.805...</td>\n",
       "      <td>38</td>\n",
       "    </tr>\n",
       "    <tr>\n",
       "      <th>2039</th>\n",
       "      <td>38097</td>\n",
       "      <td>Traill County, North Dakota</td>\n",
       "      <td>POLYGON ((-97.47368 47.44046, -97.47351 47.440...</td>\n",
       "      <td>38</td>\n",
       "    </tr>\n",
       "    <tr>\n",
       "      <th>2040</th>\n",
       "      <td>38099</td>\n",
       "      <td>Walsh County, North Dakota</td>\n",
       "      <td>POLYGON ((-97.40383 48.54297, -97.35501 48.542...</td>\n",
       "      <td>38</td>\n",
       "    </tr>\n",
       "    <tr>\n",
       "      <th>2041</th>\n",
       "      <td>38101</td>\n",
       "      <td>Ward County, North Dakota</td>\n",
       "      <td>POLYGON ((-101.92208 48.22763, -101.92206 48.2...</td>\n",
       "      <td>38</td>\n",
       "    </tr>\n",
       "    <tr>\n",
       "      <th>2042</th>\n",
       "      <td>38103</td>\n",
       "      <td>Wells County, North Dakota</td>\n",
       "      <td>POLYGON ((-100.06931 47.84743, -99.95236 47.84...</td>\n",
       "      <td>38</td>\n",
       "    </tr>\n",
       "    <tr>\n",
       "      <th>2043</th>\n",
       "      <td>38105</td>\n",
       "      <td>Williams County, North Dakota</td>\n",
       "      <td>POLYGON ((-103.59761 48.13439, -103.59880 48.1...</td>\n",
       "      <td>38</td>\n",
       "    </tr>\n",
       "  </tbody>\n",
       "</table>\n",
       "</div>"
      ],
      "text/plain": [
       "      GEOID                                NAME  \\\n",
       "1991  38001          Adams County, North Dakota   \n",
       "1992  38003         Barnes County, North Dakota   \n",
       "1993  38005         Benson County, North Dakota   \n",
       "1994  38007       Billings County, North Dakota   \n",
       "1995  38009      Bottineau County, North Dakota   \n",
       "1996  38011         Bowman County, North Dakota   \n",
       "1997  38013          Burke County, North Dakota   \n",
       "1998  38015       Burleigh County, North Dakota   \n",
       "1999  38017           Cass County, North Dakota   \n",
       "2000  38019       Cavalier County, North Dakota   \n",
       "2001  38021         Dickey County, North Dakota   \n",
       "2002  38023         Divide County, North Dakota   \n",
       "2003  38025           Dunn County, North Dakota   \n",
       "2004  38027           Eddy County, North Dakota   \n",
       "2005  38029         Emmons County, North Dakota   \n",
       "2006  38031         Foster County, North Dakota   \n",
       "2007  38033  Golden Valley County, North Dakota   \n",
       "2008  38035    Grand Forks County, North Dakota   \n",
       "2009  38037          Grant County, North Dakota   \n",
       "2010  38039         Griggs County, North Dakota   \n",
       "2011  38041      Hettinger County, North Dakota   \n",
       "2012  38043         Kidder County, North Dakota   \n",
       "2013  38045        LaMoure County, North Dakota   \n",
       "2014  38047          Logan County, North Dakota   \n",
       "2015  38049        McHenry County, North Dakota   \n",
       "2016  38051       McIntosh County, North Dakota   \n",
       "2017  38053       McKenzie County, North Dakota   \n",
       "2018  38055         McLean County, North Dakota   \n",
       "2019  38057         Mercer County, North Dakota   \n",
       "2020  38059         Morton County, North Dakota   \n",
       "2021  38061      Mountrail County, North Dakota   \n",
       "2022  38063         Nelson County, North Dakota   \n",
       "2023  38065         Oliver County, North Dakota   \n",
       "2024  38067        Pembina County, North Dakota   \n",
       "2025  38069         Pierce County, North Dakota   \n",
       "2026  38071         Ramsey County, North Dakota   \n",
       "2027  38073         Ransom County, North Dakota   \n",
       "2028  38075       Renville County, North Dakota   \n",
       "2029  38077       Richland County, North Dakota   \n",
       "2030  38079        Rolette County, North Dakota   \n",
       "2031  38081        Sargent County, North Dakota   \n",
       "2032  38083       Sheridan County, North Dakota   \n",
       "2033  38085          Sioux County, North Dakota   \n",
       "2034  38087          Slope County, North Dakota   \n",
       "2035  38089          Stark County, North Dakota   \n",
       "2036  38091         Steele County, North Dakota   \n",
       "2037  38093       Stutsman County, North Dakota   \n",
       "2038  38095         Towner County, North Dakota   \n",
       "2039  38097         Traill County, North Dakota   \n",
       "2040  38099          Walsh County, North Dakota   \n",
       "2041  38101           Ward County, North Dakota   \n",
       "2042  38103          Wells County, North Dakota   \n",
       "2043  38105       Williams County, North Dakota   \n",
       "\n",
       "                                               geometry STATE  \n",
       "1991  POLYGON ((-102.99537 46.03213, -102.99525 46.1...    38  \n",
       "1992  POLYGON ((-97.95019 47.24042, -97.94019 47.240...    38  \n",
       "1993  POLYGON ((-98.94480 48.00280, -98.94078 48.001...    38  \n",
       "1994  POLYGON ((-103.66701 47.12447, -103.66691 47.1...    38  \n",
       "1995  POLYGON ((-100.92058 48.99956, -100.91794 48.9...    38  \n",
       "1996  POLYGON ((-104.04576 46.12395, -104.04524 46.1...    38  \n",
       "1997  POLYGON ((-102.93966 48.76401, -102.93946 48.8...    38  \n",
       "1998  POLYGON ((-100.83024 46.77585, -100.82912 46.7...    38  \n",
       "1999  POLYGON ((-96.79627 46.80343, -96.79610 46.803...    38  \n",
       "2000  POLYGON ((-99.00013 48.89118, -99.00045 48.891...    38  \n",
       "2001  POLYGON ((-98.15172 46.28278, -98.13082 46.282...    38  \n",
       "2002  POLYGON ((-104.04868 48.86378, -104.04865 48.8...    38  \n",
       "2003  POLYGON ((-103.09967 47.67452, -103.02697 47.6...    38  \n",
       "2004  POLYGON ((-99.29738 47.76757, -99.29720 47.846...    38  \n",
       "2005  POLYGON ((-100.66201 46.63460, -100.64564 46.6...    38  \n",
       "2006  POLYGON ((-99.26631 47.41439, -99.26615 47.500...    38  \n",
       "2007  POLYGON ((-104.04590 46.83079, -104.04559 46.9...    38  \n",
       "2008  POLYGON ((-97.88211 47.84599, -97.88210 47.852...    38  \n",
       "2009  POLYGON ((-102.09614 46.68771, -102.09640 46.6...    38  \n",
       "2010  POLYGON ((-98.50007 47.53020, -98.50004 47.548...    38  \n",
       "2011  POLYGON ((-102.39101 46.63008, -102.34870 46.6...    38  \n",
       "2012  POLYGON ((-100.11459 47.02514, -100.11444 47.0...    38  \n",
       "2013  POLYGON ((-99.03713 46.45737, -99.03714 46.465...    38  \n",
       "2014  POLYGON ((-99.91706 46.37054, -99.91687 46.370...    38  \n",
       "2015  POLYGON ((-101.01491 48.06883, -101.01492 48.0...    38  \n",
       "2016  POLYGON ((-99.87940 46.05758, -99.87916 46.115...    38  \n",
       "2017  POLYGON ((-103.09925 47.58372, -103.09947 47.5...    38  \n",
       "2018  POLYGON ((-101.44014 47.47730, -101.43624 47.4...    38  \n",
       "2019  POLYGON ((-101.76464 47.24118, -101.76449 47.2...    38  \n",
       "2020  POLYGON ((-101.27827 46.98107, -101.21924 46.9...    38  \n",
       "2021  POLYGON ((-102.65497 47.87501, -102.64966 47.8...    38  \n",
       "2022  POLYGON ((-98.52560 47.73034, -98.52552 47.740...    38  \n",
       "2023  POLYGON ((-101.76469 47.23158, -101.76449 47.2...    38  \n",
       "2024  POLYGON ((-97.15955 48.78561, -97.15938 48.783...    38  \n",
       "2025  POLYGON ((-100.23702 48.28316, -100.23702 48.2...    38  \n",
       "2026  POLYGON ((-98.81229 48.06040, -98.81479 48.061...    38  \n",
       "2027  POLYGON ((-97.60613 46.62976, -97.60103 46.629...    38  \n",
       "2028  POLYGON ((-102.02148 48.87784, -102.02134 48.8...    38  \n",
       "2029  POLYGON ((-97.25945 46.13739, -97.25939 46.138...    38  \n",
       "2030  POLYGON ((-100.18295 48.80618, -100.18298 48.8...    38  \n",
       "2031  POLYGON ((-98.00804 46.02977, -98.00744 46.109...    38  \n",
       "2032  POLYGON ((-100.67329 47.52403, -100.67306 47.5...    38  \n",
       "2033  POLYGON ((-100.56640 46.25699, -100.56440 46.2...    38  \n",
       "2034  POLYGON ((-104.04610 46.38392, -104.04505 46.5...    38  \n",
       "2035  POLYGON ((-103.23122 46.83964, -103.23126 46.8...    38  \n",
       "2036  POLYGON ((-97.98618 47.34071, -97.98597 47.355...    38  \n",
       "2037  POLYGON ((-99.44851 46.71871, -99.44841 46.720...    38  \n",
       "2038  POLYGON ((-99.52580 48.77623, -99.52574 48.805...    38  \n",
       "2039  POLYGON ((-97.47368 47.44046, -97.47351 47.440...    38  \n",
       "2040  POLYGON ((-97.40383 48.54297, -97.35501 48.542...    38  \n",
       "2041  POLYGON ((-101.92208 48.22763, -101.92206 48.2...    38  \n",
       "2042  POLYGON ((-100.06931 47.84743, -99.95236 47.84...    38  \n",
       "2043  POLYGON ((-103.59761 48.13439, -103.59880 48.1...    38  "
      ]
     },
     "execution_count": 11,
     "metadata": {},
     "output_type": "execute_result"
    }
   ],
   "source": [
    "# .loc method is used to access a group of rows and columns by label(s) or a boolean array.\n",
    "county_gdf.loc[county_gdf['STATE'] == '38']"
   ]
  },
  {
   "cell_type": "code",
   "execution_count": 12,
   "metadata": {},
   "outputs": [
    {
     "data": {
      "text/html": [
       "<div>\n",
       "<style scoped>\n",
       "    .dataframe tbody tr th:only-of-type {\n",
       "        vertical-align: middle;\n",
       "    }\n",
       "\n",
       "    .dataframe tbody tr th {\n",
       "        vertical-align: top;\n",
       "    }\n",
       "\n",
       "    .dataframe thead th {\n",
       "        text-align: right;\n",
       "    }\n",
       "</style>\n",
       "<table border=\"1\" class=\"dataframe\">\n",
       "  <thead>\n",
       "    <tr style=\"text-align: right;\">\n",
       "      <th></th>\n",
       "      <th>GEOID</th>\n",
       "      <th>NAME</th>\n",
       "      <th>geometry</th>\n",
       "      <th>STATE</th>\n",
       "    </tr>\n",
       "  </thead>\n",
       "  <tbody>\n",
       "    <tr>\n",
       "      <th>0</th>\n",
       "      <td>01001</td>\n",
       "      <td>Autauga County, Alabama</td>\n",
       "      <td>POLYGON ((-86.45876 32.40573, -86.46056 32.404...</td>\n",
       "      <td>01</td>\n",
       "    </tr>\n",
       "    <tr>\n",
       "      <th>1</th>\n",
       "      <td>01003</td>\n",
       "      <td>Baldwin County, Alabama</td>\n",
       "      <td>POLYGON ((-87.93604 30.26147, -87.91825 30.253...</td>\n",
       "      <td>01</td>\n",
       "    </tr>\n",
       "    <tr>\n",
       "      <th>2</th>\n",
       "      <td>01005</td>\n",
       "      <td>Barbour County, Alabama</td>\n",
       "      <td>POLYGON ((-85.74174 31.61940, -85.73981 31.621...</td>\n",
       "      <td>01</td>\n",
       "    </tr>\n",
       "    <tr>\n",
       "      <th>3</th>\n",
       "      <td>01007</td>\n",
       "      <td>Bibb County, Alabama</td>\n",
       "      <td>POLYGON ((-86.87630 33.00306, -86.87644 33.000...</td>\n",
       "      <td>01</td>\n",
       "    </tr>\n",
       "    <tr>\n",
       "      <th>4</th>\n",
       "      <td>01009</td>\n",
       "      <td>Blount County, Alabama</td>\n",
       "      <td>POLYGON ((-86.57753 33.80198, -86.57780 33.765...</td>\n",
       "      <td>01</td>\n",
       "    </tr>\n",
       "    <tr>\n",
       "      <th>...</th>\n",
       "      <td>...</td>\n",
       "      <td>...</td>\n",
       "      <td>...</td>\n",
       "      <td>...</td>\n",
       "    </tr>\n",
       "    <tr>\n",
       "      <th>3138</th>\n",
       "      <td>56037</td>\n",
       "      <td>Sweetwater County, Wyoming</td>\n",
       "      <td>POLYGON ((-110.04890 41.46490, -110.04800 41.5...</td>\n",
       "      <td>56</td>\n",
       "    </tr>\n",
       "    <tr>\n",
       "      <th>3139</th>\n",
       "      <td>56039</td>\n",
       "      <td>Teton County, Wyoming</td>\n",
       "      <td>POLYGON ((-111.04558 43.61783, -111.04563 43.6...</td>\n",
       "      <td>56</td>\n",
       "    </tr>\n",
       "    <tr>\n",
       "      <th>3140</th>\n",
       "      <td>56041</td>\n",
       "      <td>Uinta County, Wyoming</td>\n",
       "      <td>POLYGON ((-110.58367 41.57916, -110.57956 41.5...</td>\n",
       "      <td>56</td>\n",
       "    </tr>\n",
       "    <tr>\n",
       "      <th>3141</th>\n",
       "      <td>56043</td>\n",
       "      <td>Washakie County, Wyoming</td>\n",
       "      <td>POLYGON ((-108.55056 44.16846, -108.50652 44.1...</td>\n",
       "      <td>56</td>\n",
       "    </tr>\n",
       "    <tr>\n",
       "      <th>3142</th>\n",
       "      <td>56045</td>\n",
       "      <td>Weston County, Wyoming</td>\n",
       "      <td>POLYGON ((-105.07928 44.17618, -105.07816 44.1...</td>\n",
       "      <td>56</td>\n",
       "    </tr>\n",
       "  </tbody>\n",
       "</table>\n",
       "<p>3108 rows × 4 columns</p>\n",
       "</div>"
      ],
      "text/plain": [
       "      GEOID                        NAME  \\\n",
       "0     01001     Autauga County, Alabama   \n",
       "1     01003     Baldwin County, Alabama   \n",
       "2     01005     Barbour County, Alabama   \n",
       "3     01007        Bibb County, Alabama   \n",
       "4     01009      Blount County, Alabama   \n",
       "...     ...                         ...   \n",
       "3138  56037  Sweetwater County, Wyoming   \n",
       "3139  56039       Teton County, Wyoming   \n",
       "3140  56041       Uinta County, Wyoming   \n",
       "3141  56043    Washakie County, Wyoming   \n",
       "3142  56045      Weston County, Wyoming   \n",
       "\n",
       "                                               geometry STATE  \n",
       "0     POLYGON ((-86.45876 32.40573, -86.46056 32.404...    01  \n",
       "1     POLYGON ((-87.93604 30.26147, -87.91825 30.253...    01  \n",
       "2     POLYGON ((-85.74174 31.61940, -85.73981 31.621...    01  \n",
       "3     POLYGON ((-86.87630 33.00306, -86.87644 33.000...    01  \n",
       "4     POLYGON ((-86.57753 33.80198, -86.57780 33.765...    01  \n",
       "...                                                 ...   ...  \n",
       "3138  POLYGON ((-110.04890 41.46490, -110.04800 41.5...    56  \n",
       "3139  POLYGON ((-111.04558 43.61783, -111.04563 43.6...    56  \n",
       "3140  POLYGON ((-110.58367 41.57916, -110.57956 41.5...    56  \n",
       "3141  POLYGON ((-108.55056 44.16846, -108.50652 44.1...    56  \n",
       "3142  POLYGON ((-105.07928 44.17618, -105.07816 44.1...    56  \n",
       "\n",
       "[3108 rows x 4 columns]"
      ]
     },
     "execution_count": 12,
     "metadata": {},
     "output_type": "execute_result"
    }
   ],
   "source": [
    "# It is also possible to use the .isin() method to filter a DataFrame based on a list of values.\n",
    "county_gdf = county_gdf.loc[county_gdf['STATE'].isin(lower_48_states)]\n",
    "county_gdf"
   ]
  },
  {
   "cell_type": "code",
   "execution_count": 13,
   "metadata": {},
   "outputs": [
    {
     "data": {
      "text/html": [
       "<div>\n",
       "<style scoped>\n",
       "    .dataframe tbody tr th:only-of-type {\n",
       "        vertical-align: middle;\n",
       "    }\n",
       "\n",
       "    .dataframe tbody tr th {\n",
       "        vertical-align: top;\n",
       "    }\n",
       "\n",
       "    .dataframe thead th {\n",
       "        text-align: right;\n",
       "    }\n",
       "</style>\n",
       "<table border=\"1\" class=\"dataframe\">\n",
       "  <thead>\n",
       "    <tr style=\"text-align: right;\">\n",
       "      <th></th>\n",
       "      <th>GEOID</th>\n",
       "      <th>NAME</th>\n",
       "      <th>geometry</th>\n",
       "      <th>STATE</th>\n",
       "    </tr>\n",
       "  </thead>\n",
       "  <tbody>\n",
       "    <tr>\n",
       "      <th>0</th>\n",
       "      <td>01001</td>\n",
       "      <td>Autauga County, Alabama</td>\n",
       "      <td>POLYGON ((-86.45876 32.40573, -86.46056 32.404...</td>\n",
       "      <td>01</td>\n",
       "    </tr>\n",
       "    <tr>\n",
       "      <th>1</th>\n",
       "      <td>01003</td>\n",
       "      <td>Baldwin County, Alabama</td>\n",
       "      <td>POLYGON ((-87.93604 30.26147, -87.91825 30.253...</td>\n",
       "      <td>01</td>\n",
       "    </tr>\n",
       "    <tr>\n",
       "      <th>2</th>\n",
       "      <td>01005</td>\n",
       "      <td>Barbour County, Alabama</td>\n",
       "      <td>POLYGON ((-85.74174 31.61940, -85.73981 31.621...</td>\n",
       "      <td>01</td>\n",
       "    </tr>\n",
       "    <tr>\n",
       "      <th>3</th>\n",
       "      <td>01007</td>\n",
       "      <td>Bibb County, Alabama</td>\n",
       "      <td>POLYGON ((-86.87630 33.00306, -86.87644 33.000...</td>\n",
       "      <td>01</td>\n",
       "    </tr>\n",
       "    <tr>\n",
       "      <th>4</th>\n",
       "      <td>01009</td>\n",
       "      <td>Blount County, Alabama</td>\n",
       "      <td>POLYGON ((-86.57753 33.80198, -86.57780 33.765...</td>\n",
       "      <td>01</td>\n",
       "    </tr>\n",
       "  </tbody>\n",
       "</table>\n",
       "</div>"
      ],
      "text/plain": [
       "   GEOID                     NAME  \\\n",
       "0  01001  Autauga County, Alabama   \n",
       "1  01003  Baldwin County, Alabama   \n",
       "2  01005  Barbour County, Alabama   \n",
       "3  01007     Bibb County, Alabama   \n",
       "4  01009   Blount County, Alabama   \n",
       "\n",
       "                                            geometry STATE  \n",
       "0  POLYGON ((-86.45876 32.40573, -86.46056 32.404...    01  \n",
       "1  POLYGON ((-87.93604 30.26147, -87.91825 30.253...    01  \n",
       "2  POLYGON ((-85.74174 31.61940, -85.73981 31.621...    01  \n",
       "3  POLYGON ((-86.87630 33.00306, -86.87644 33.000...    01  \n",
       "4  POLYGON ((-86.57753 33.80198, -86.57780 33.765...    01  "
      ]
     },
     "execution_count": 13,
     "metadata": {},
     "output_type": "execute_result"
    }
   ],
   "source": [
    "# Displaying the entire DataFrame takes lots of spaces, so we can use the .head() method to display the first five rows of the DataFrame.\n",
    "county_gdf.head()"
   ]
  },
  {
   "cell_type": "code",
   "execution_count": 14,
   "metadata": {},
   "outputs": [
    {
     "data": {
      "text/plain": [
       "<Axes: >"
      ]
     },
     "execution_count": 14,
     "metadata": {},
     "output_type": "execute_result"
    },
    {
     "data": {
      "image/png": "[encoded data removed]",
      "text/plain": [
       "<Figure size 640x480 with 1 Axes>"
      ]
     },
     "metadata": {},
     "output_type": "display_data"
    }
   ],
   "source": [
    "# You can use .plot() method to plot the GeoDataFrame. If there is no 'geometry' column, it will plot a numerical values.\n",
    "county_gdf.plot()"
   ]
  },
  {
   "cell_type": "code",
   "execution_count": 15,
   "metadata": {},
   "outputs": [],
   "source": [
    "county_gdf.to_file('./data/county_cleaned.shp')"
   ]
  },
  {
   "cell_type": "markdown",
   "metadata": {},
   "source": [
    "---\n",
    "### *Exercise*\n",
    "1. (4 points) The following in the syntax for the `loc` function in Pandas. Select rows for New York State (State ID: 36) and assign it to a new variable called `ny_gdf`. <br>\n",
    "\n",
    "    ```python\n",
    "    ny_gdf = county_gdf.loc[county_gdf['COLUMN NAME'] == 'STATE ID']\n",
    "    ```\n",
    "\n",
    "---"
   ]
  },
  {
   "cell_type": "code",
   "execution_count": null,
   "metadata": {},
   "outputs": [],
   "source": [
    "# Your code here\n",
    "\n",
    "ny_gdf = county_gdf.loc[county_gdf['COLUMN NAME'] == 'STATE ID']\n",
    "ny_gdf\n"
   ]
  },
  {
   "cell_type": "code",
   "execution_count": null,
   "metadata": {},
   "outputs": [],
   "source": [
    "\"\"\" Test code for the previous function. \n",
    "This cell should NOT give any errors when it is run.\"\"\"\n",
    "\n",
    "assert ny_gdf['STATE'].unique() == '36'\n",
    "assert ny_gdf.shape[0] == 62\n",
    "\n",
    "print(\"Success!\")"
   ]
  },
  {
   "cell_type": "markdown",
   "metadata": {},
   "source": [
    "# 2. Preprocessing GDP data with Pandas\n",
    "## 2.1. Load Excel File with Pandas"
   ]
  },
  {
   "cell_type": "code",
   "execution_count": null,
   "metadata": {},
   "outputs": [],
   "source": [
    "# To read a Excel file, you can use `pandas` package and .read_excel() method.\n",
    "# You can also use .read_csv() method to read a CSV file.\n",
    "# the output of .read_excel() and .read_csv() method is a DataFrame\n",
    "gdp_df = pd.read_excel('data/GDP_data_cleaned.xlsx')\n",
    "gdp_df"
   ]
  },
  {
   "cell_type": "code",
   "execution_count": null,
   "metadata": {},
   "outputs": [],
   "source": [
    "type(gdp_df)"
   ]
  },
  {
   "cell_type": "markdown",
   "metadata": {},
   "source": [
    "## 2.2. Check the data type of columns of the Pandas DataFrame and change the data type accordingly"
   ]
  },
  {
   "cell_type": "code",
   "execution_count": null,
   "metadata": {},
   "outputs": [],
   "source": [
    "# Using .dtypes attribute, you can check the data type of each column.\n",
    "gdp_df.dtypes"
   ]
  },
  {
   "cell_type": "code",
   "execution_count": null,
   "metadata": {},
   "outputs": [],
   "source": [
    "# Since the 'GeoFips' column is a numerical value, we need to convert it to a string.\n",
    "# You can use .astype() method to convert the data type of a column.\n",
    "gdp_df['GeoFips'] = gdp_df['GeoFips'].astype(str)\n",
    "gdp_df.dtypes"
   ]
  },
  {
   "cell_type": "markdown",
   "metadata": {},
   "source": [
    "## 2.3. Solve the problem of missing leading zero (e.g., Alabama: 01)\n",
    "\n",
    "You will notice that the entry of GeoFips column is missing the leading zero for the state code. For example, the state code for Alabama is '01', but the entry of GeoFips column is '1' (no leading zero). It is a common problem when you save string into excel or csv file. Now, we need to add the leading zero to the state code."
   ]
  },
  {
   "cell_type": "code",
   "execution_count": null,
   "metadata": {},
   "outputs": [],
   "source": [
    "gdp_df"
   ]
  },
  {
   "cell_type": "code",
   "execution_count": null,
   "metadata": {},
   "outputs": [],
   "source": [
    "# .iterrows() method is used to iterate over the rows of a DataFrame. It returns an iterator containing index of each row and the data in each row as a Series.\n",
    "for idx, row in gdp_df.iterrows():\n",
    "    \n",
    "    # Check the length of the GeoFips column (i.e., len(row['GeoFips']))\n",
    "    if len(row['GeoFips']) == 4: # if the length of the GeoFips column is 4, it means that there is a missing leading zero.\n",
    "        gdp_df.at[idx, 'GEOID'] = '0' + row['GeoFips'] # add a leading zero to the GeoFips column\n",
    "    elif len(row['GeoFips']) == 5: # if the length of the GeoFips column is 5, it means that there is no missing leading zero.\n",
    "        gdp_df.at[idx, 'GEOID'] = row['GeoFips']\n",
    "    else:  # You can also check if there are any unexpected length of GeoFips column.\n",
    "        print('Unexpected Length of GeoFips')\n",
    "\n",
    "gdp_df"
   ]
  },
  {
   "cell_type": "markdown",
   "metadata": {},
   "source": [
    "## 2.4. Select rows based on a condition\n",
    "\n",
    "Each county has three records (Real GDP, Chain-type quantity indexes for real GDP, Current-dollar GDP) with the same value of GeoFips. We only need the record of Real GDP. So, we need to select the rows based on the value of Line Code column (Real GDP has the value of 1 in the `LineCode` column)."
   ]
  },
  {
   "cell_type": "markdown",
   "metadata": {},
   "source": [
    ".loc method syntax is `df.loc[row condition, column condition]`. <br>\n",
    "You can enter the list of columns you want to select in the column condition. If you want to select all columns, you can use `:`."
   ]
  },
  {
   "cell_type": "code",
   "execution_count": null,
   "metadata": {},
   "outputs": [],
   "source": [
    "gdp_df = gdp_df.loc[gdp_df['LineCode'] == 1, ['GEOID', 'GeoName', 'GDP']]\n",
    "gdp_df"
   ]
  },
  {
   "cell_type": "markdown",
   "metadata": {},
   "source": [
    "# 3. Plotting county-level GDP for the conterminous United States\n",
    "## 3.1. Join (Merge) county geometry and GDP data\n",
    "\n",
    "Currently, `county_gdf` has geometry data and `gdp_df` has GDP data. We need to join (merge) these two datasets to make a choropleth map."
   ]
  },
  {
   "cell_type": "code",
   "execution_count": null,
   "metadata": {},
   "outputs": [],
   "source": [
    "# Checking `count_gdf`\n",
    "county_gdf"
   ]
  },
  {
   "cell_type": "code",
   "execution_count": null,
   "metadata": {},
   "outputs": [],
   "source": [
    "# Checking `gdp_df`\n",
    "gdp_df"
   ]
  },
  {
   "cell_type": "markdown",
   "metadata": {},
   "source": [
    "Both `county_gdf` and `gdp_df` have the column of `GEOID`, so that it can be used for the join. "
   ]
  },
  {
   "cell_type": "code",
   "execution_count": null,
   "metadata": {},
   "outputs": [],
   "source": [
    "# It is also recommend to check the data type of the column(s) that you want to merge.\n",
    "gdp_df.dtypes"
   ]
  },
  {
   "cell_type": "code",
   "execution_count": null,
   "metadata": {},
   "outputs": [],
   "source": [
    "county_gdf.dtypes"
   ]
  },
  {
   "cell_type": "markdown",
   "metadata": {},
   "source": [
    "Merge (join) method syntax is `df1.merge(df2, on='COLUMN NAME')`. <br>\n",
    "\n",
    "resource: https://pandas.pydata.org/docs/reference/api/pandas.DataFrame.merge.html"
   ]
  },
  {
   "cell_type": "code",
   "execution_count": null,
   "metadata": {},
   "outputs": [],
   "source": [
    "gdp_gdf = county_gdf.merge(gdp_df, on='GEOID', how='left')\n",
    "gdp_gdf"
   ]
  },
  {
   "cell_type": "code",
   "execution_count": null,
   "metadata": {},
   "outputs": [],
   "source": [
    "# Since we did the left-join, there are some missing values in the GDP column.\n",
    "# The following code is to select the rows that have missing values (NULL/NaN value ) in the GDP column.\n",
    "\n",
    "gdp_gdf.loc[gdp_gdf['GDP'].isna()]"
   ]
  },
  {
   "cell_type": "code",
   "execution_count": null,
   "metadata": {},
   "outputs": [],
   "source": [
    "# We can simply replace the NaN values with 0, using .fillna() method.\n",
    "gdp_gdf['GDP'] = gdp_gdf['GDP'].fillna(0)"
   ]
  },
  {
   "cell_type": "code",
   "execution_count": null,
   "metadata": {},
   "outputs": [],
   "source": [
    "# NaN values are gone!\n",
    "gdp_gdf.loc[gdp_gdf['GDP'].isna()]"
   ]
  },
  {
   "cell_type": "code",
   "execution_count": null,
   "metadata": {},
   "outputs": [],
   "source": [
    "gdp_gdf"
   ]
  },
  {
   "cell_type": "markdown",
   "metadata": {},
   "source": [
    "## 3.2. Make a choropleth map of GDP data \n",
    "\n",
    "GeoDataFrame has a built-in function called `plot` to make a choropleth map. <br>\n",
    "\n",
    "Syntax: `GeoDataFrame.plot(column='COLUMN NAME', cmap='COLOR MAP NAME', legend=True, figsize=(WIDTH, HEIGHT))`"
   ]
  },
  {
   "cell_type": "code",
   "execution_count": null,
   "metadata": {},
   "outputs": [],
   "source": [
    "gdp_gdf.plot(column='GDP', figsize=(10,10), legend=True)"
   ]
  },
  {
   "cell_type": "markdown",
   "metadata": {},
   "source": [
    "`camp` attribute is used to change the color map. <br>\n",
    "various color maps: https://matplotlib.org/stable/users/explain/colors/colormaps.html"
   ]
  },
  {
   "cell_type": "code",
   "execution_count": null,
   "metadata": {},
   "outputs": [],
   "source": [
    "gdp_gdf.plot(column='GDP', cmap='Blues', figsize=(10,10), legend=True)"
   ]
  },
  {
   "cell_type": "markdown",
   "metadata": {},
   "source": [
    "`scheme` attribute is used to change the classification method. <br>\n",
    "various classification methods: https://pysal.org/mapclassify/api.html"
   ]
  },
  {
   "cell_type": "code",
   "execution_count": null,
   "metadata": {},
   "outputs": [],
   "source": [
    "gdp_gdf.plot(column='GDP', cmap='Blues', scheme='NaturalBreaks', figsize=(10,10), legend=True)"
   ]
  },
  {
   "cell_type": "code",
   "execution_count": null,
   "metadata": {},
   "outputs": [],
   "source": [
    "gdp_gdf.plot(column='GDP', cmap='Blues', scheme='NaturalBreaks', figsize=(10,10), legend=True, k=7)"
   ]
  },
  {
   "cell_type": "markdown",
   "metadata": {},
   "source": [
    "The current coordinate system of `gdp_gdf` is NAD83, and we want to change it to a Projected Coordinate System. <br>\n",
    "You can use `to_crs` function to change the coordinate system based on a epsg code. <br>\n",
    "You can find the EPSG code of the coordinate system you want to use from https://epsg.io/. <br>"
   ]
  },
  {
   "cell_type": "code",
   "execution_count": null,
   "metadata": {},
   "outputs": [],
   "source": [
    "gdp_gdf = gdp_gdf.to_crs(epsg=5070)\n",
    "gdp_gdf.plot(column='GDP', cmap='Blues', scheme='NaturalBreaks', figsize=(10,10), legend=True, k=7)"
   ]
  },
  {
   "cell_type": "markdown",
   "metadata": {},
   "source": [
    "The current map is missing the state boundary, making the interpretation of the map difficult. <br>\n",
    "We can create a new layer of state boundary using `state_gdf` and add it to the current map. <br>"
   ]
  },
  {
   "cell_type": "code",
   "execution_count": null,
   "metadata": {},
   "outputs": [],
   "source": [
    "county_gdf"
   ]
  },
  {
   "cell_type": "code",
   "execution_count": null,
   "metadata": {},
   "outputs": [],
   "source": [
    "# .dissolve() method is used to dissolve a GeoDataFrame based on a column.\n",
    "state_gdf = county_gdf.dissolve('STATE')\n",
    "state_gdf"
   ]
  },
  {
   "cell_type": "code",
   "execution_count": null,
   "metadata": {},
   "outputs": [],
   "source": [
    "state_gdf.plot()"
   ]
  },
  {
   "cell_type": "code",
   "execution_count": null,
   "metadata": {},
   "outputs": [],
   "source": [
    "# To overlay two layers, we need to match the crs of the state_gdf to the crs of the gdp_gdf.\n",
    "state_gdf = state_gdf.to_crs(epsg=5070)\n",
    "state_gdf.plot()"
   ]
  },
  {
   "cell_type": "code",
   "execution_count": null,
   "metadata": {},
   "outputs": [],
   "source": [
    "# You can use .boundary attribute to get the boundary of the GeoDataFrame.\n",
    "state_gdf.boundary.plot()"
   ]
  },
  {
   "cell_type": "code",
   "execution_count": null,
   "metadata": {},
   "outputs": [],
   "source": [
    "fig, ax = plt.subplots(figsize=(10,10))\n",
    "\n",
    "gdp_gdf.plot(column='GDP', cmap='Blues', scheme='NaturalBreaks', figsize=(10,10), legend=True, k=7, ax=ax, legend_kwds={'loc': 'lower left'})\n",
    "state_gdf.boundary.plot(ax=ax, color='black', linewidth=0.5, alpha=0.5)\n",
    "plt.show()"
   ]
  },
  {
   "cell_type": "markdown",
   "metadata": {},
   "source": [
    "To see the top 10 counties with the highest GDP, we can sort the GeoDataFrame by the GDP column and select the top 10 rows. <br>\n",
    "\n",
    "syntax: `GeoDataFrame.sort_values(by='COLUMN NAME', ascending=False)`"
   ]
  },
  {
   "cell_type": "code",
   "execution_count": null,
   "metadata": {},
   "outputs": [],
   "source": [
    "gdp_gdf = gdp_gdf.sort_values(by='GDP', ascending=False)\n",
    "gdp_gdf.head(10)"
   ]
  },
  {
   "cell_type": "markdown",
   "metadata": {},
   "source": [
    "# Summary\n",
    "\n",
    "the following is the backbone of the code for the analysis. <br>"
   ]
  },
  {
   "cell_type": "code",
   "execution_count": null,
   "metadata": {},
   "outputs": [],
   "source": [
    "import geopandas as gpd\n",
    "import pandas as pd\n",
    "import matplotlib.pyplot as plt\n",
    "\n",
    "# Read the county shapefile\n",
    "county_gdf = gpd.read_file('./data/county_simplified.shp')\n",
    "\n",
    "# Assign the first two characters of the GEOID column to the STATE column\n",
    "for idx, row in county_gdf.iterrows():\n",
    "    county_gdf.at[idx, 'STATE'] = row['GEOID'][0:2]\n",
    "\n",
    "# GEOID for Conterminous US States (Lower 48 States)\n",
    "lower_48_states = ['01', '04', '05', '06', '08', '09', '10', '11', '12', '13', '16', '17', '18', '19', '20',\n",
    "                   '21', '22', '23', '24', '25', '26', '27', '28', '29', '30', '31', '32', '33', '34', '35', \n",
    "                   '36', '37', '38', '39', '40', '41', '42', '44', '45', '46', '47', '48', '49', '50', '51', \n",
    "                   '53', '54', '55', '56']\n",
    "\n",
    "\n",
    "# It is also possible to use the .isin() method to filter a DataFrame based on a list of values.\n",
    "county_gdf = county_gdf.loc[county_gdf['STATE'].isin(lower_48_states)]\n",
    "county_gdf"
   ]
  },
  {
   "cell_type": "code",
   "execution_count": null,
   "metadata": {},
   "outputs": [],
   "source": [
    "# Read the GDP Excel data\n",
    "gdp_df = pd.read_excel('data/GDP_data_cleaned.xlsx')\n",
    "\n",
    "# convert the GeoFips column to string\n",
    "gdp_df['GeoFips'] = gdp_df['GeoFips'].astype(str) \n",
    "\n",
    "# Add a leading zero to the GeoFips column if the length of the GeoFips column is 4\n",
    "for idx, row in gdp_df.iterrows():\n",
    "    if len(row['GeoFips']) == 4: \n",
    "        gdp_df.at[idx, 'GEOID'] = '0' + row['GeoFips'] \n",
    "    elif len(row['GeoFips']) == 5: \n",
    "        gdp_df.at[idx, 'GEOID'] = row['GeoFips']\n",
    "    else:  \n",
    "        print('Unexpected Length of GeoFips')\n",
    "\n",
    "gdp_df"
   ]
  },
  {
   "cell_type": "code",
   "execution_count": null,
   "metadata": {},
   "outputs": [],
   "source": [
    "# Join the county GeoDataFrame (county_gdf) and the GDP DataFrame (gdp_df)\n",
    "gdp_gdf = county_gdf.merge(gdp_df, on='GEOID', how='left')\n",
    "\n",
    "# Fill the NaN values in the GDP column with 0\n",
    "gdp_gdf['GDP'] = gdp_gdf['GDP'].fillna(0)\n",
    "\n",
    "# Change coordinate system for better visualization\n",
    "gdp_gdf = gdp_gdf.to_crs(epsg=5070)\n",
    "\n",
    "gdp_gdf"
   ]
  },
  {
   "cell_type": "code",
   "execution_count": null,
   "metadata": {},
   "outputs": [],
   "source": [
    "# .dissolve() method is used to dissolve a GeoDataFrame based on a column.\n",
    "state_gdf = county_gdf.dissolve('STATE')\n",
    "\n",
    "# To overlay two layers, we need to match the crs of the state_gdf to the crs of the gdp_gdf.\n",
    "state_gdf = state_gdf.to_crs(epsg=5070)\n"
   ]
  },
  {
   "cell_type": "code",
   "execution_count": null,
   "metadata": {},
   "outputs": [],
   "source": [
    "# Plot the GDP by county\n",
    "\n",
    "fig, ax = plt.subplots(figsize=(10,10))\n",
    "\n",
    "gdp_gdf.plot(column='GDP', cmap='Blues', scheme='NaturalBreaks', figsize=(10,10), legend=True, k=7, ax=ax, legend_kwds={'loc': 'lower left'})\n",
    "state_gdf.boundary.plot(ax=ax, color='black', linewidth=0.5, alpha=0.5)\n",
    "\n",
    "plt.show()"
   ]
  },
  {
   "cell_type": "markdown",
   "metadata": {},
   "source": [
    "# 4. Hands-on practice using population data with Pandas and GeoPandas\n",
    "\n",
    "For this section, you will be using the population data to make a choropleth map of population for the conterminous United States. <br>\n",
    "The major structure will be very similar to the GDP map. If you are stuck, you can consult with the summary above<br>\n",
    "To complete the hands-on practice, please follow the steps below. <br>"
   ]
  },
  {
   "cell_type": "markdown",
   "metadata": {},
   "source": [
    "## 4.1. Preprocessing the population data with Pandas "
   ]
  },
  {
   "cell_type": "code",
   "execution_count": null,
   "metadata": {},
   "outputs": [],
   "source": [
    "# Read the population data from the American Community Survey (ACS)\n",
    "pop_df = pd.read_csv('./data/ACSDP5Y2020.DP05-Data.csv')\n",
    "pop_df"
   ]
  },
  {
   "cell_type": "markdown",
   "metadata": {},
   "source": [
    "---\n",
    "### *Exercise*\n",
    "2. (5 points) The following in the syntax for the `loc` function in Pandas. Select three columns ('GEO_ID', 'NAME', 'DP05_001E') for `pop_df` and assign the selection back to `pop_df` <br>\n",
    "\n",
    "    'GEO_ID' is the IDs of counties <br>\n",
    "    'NAME' is the county name. <br>\n",
    "    'DP05_001E' is the population per county. <br>\n",
    "\n",
    "    ```python\n",
    "    `DataFrame` = `DataFrame`.loc[row condition, column condition]\n",
    "    ```\n",
    "---"
   ]
  },
  {
   "cell_type": "code",
   "execution_count": null,
   "metadata": {},
   "outputs": [],
   "source": [
    "# Your code here\n",
    "pop_df = pop_df.loc['ROW CONDITION', 'COLUMN CONDITION']\n",
    "pop_df"
   ]
  },
  {
   "cell_type": "code",
   "execution_count": null,
   "metadata": {},
   "outputs": [],
   "source": [
    "\"\"\" Test code for the previous function. \n",
    "This cell should NOT give any errors when it is run.\"\"\"\n",
    "\n",
    "assert pop_df.columns.to_list() == ['GEO_ID', 'NAME', 'DP05_0001E']\n",
    "assert pop_df.shape == (3221, 3)\n",
    "\n",
    "print(\"Success!\")"
   ]
  },
  {
   "cell_type": "markdown",
   "metadata": {},
   "source": [
    "---\n",
    "### *Exercise*\n",
    "3. Get the two-digit state ID and five-digit county ID from the `GEO_ID` column. Currently the information in the `GEO_ID` column is something like '0500000US01001'. <br>\n",
    "3.1. (3 points) Iterate through population dataframe (`pop_df`) using for loop and .iterrows() method. <br><br>\n",
    "3.2. (3 points) Within the for loop, slice the information in the `GEO_ID` column using its index to get the two-digit state ID and five-digit county ID. For the five-digit county ID, you can assign it to `GEOID` column and two-digit state ID need to be assigned to `STATE` column. <br>\n",
    "Hint: df.at[index, 'COLUMN NAME'] = 'VALUE' <br>\n",
    "\n",
    "\n",
    "Expected results are as follows: <br>\n",
    "<img src=\"./images/q3.jpg\">\n",
    "---"
   ]
  },
  {
   "cell_type": "code",
   "execution_count": null,
   "metadata": {},
   "outputs": [],
   "source": [
    "# Your code here\n",
    "\n",
    "pop_df"
   ]
  },
  {
   "cell_type": "code",
   "execution_count": null,
   "metadata": {},
   "outputs": [],
   "source": [
    "\"\"\" Test code for the previous function. \n",
    "This cell should NOT give any errors when it is run.\"\"\"\n",
    "\n",
    "assert 'STATE' in pop_df.columns.to_list()\n",
    "assert 'GEOID' in pop_df.columns.to_list()\n",
    "assert pop_df.at[0, 'STATE'] == '01'\n",
    "assert pop_df.shape == (3221, 5)\n",
    "\n",
    "print(\"Success!\")"
   ]
  },
  {
   "cell_type": "markdown",
   "metadata": {},
   "source": [
    "The following cell is to select counties for the conterminous United States. <br>"
   ]
  },
  {
   "cell_type": "code",
   "execution_count": null,
   "metadata": {},
   "outputs": [],
   "source": [
    "pop_df = pop_df.loc[pop_df['STATE'].isin(lower_48_states)].reset_index(drop=True)\n",
    "pop_df"
   ]
  },
  {
   "cell_type": "markdown",
   "metadata": {},
   "source": [
    "## 4.2. Plotting county-level population for the conterminous United States"
   ]
  },
  {
   "cell_type": "markdown",
   "metadata": {},
   "source": [
    "---\n",
    "### *Exercise*\n",
    "4. (5 points) Join `county_gdf` and `pop_df` using the `.merge()` method. Merge method syntax is `df1.merge(df2, on='COLUMN NAME', how='left')`. <br>\n",
    "You want you merge `pop_df` into `county_gdf` based on the `GEOID` column, and assigned the result into a new GeoDataFrame with the name of `pop_gdf`. <br>\n",
    "<br>\n",
    "resource: https://pandas.pydata.org/docs/reference/api/pandas.DataFrame.merge.html\n",
    "\n",
    "Expected results are as follows: <br>\n",
    "<img src=\"./images/q4.jpg\">\n",
    "\n",
    "---\n",
    "\n"
   ]
  },
  {
   "cell_type": "code",
   "execution_count": null,
   "metadata": {},
   "outputs": [],
   "source": [
    "# Your code here\n",
    "\n",
    "pop_gdf"
   ]
  },
  {
   "cell_type": "code",
   "execution_count": null,
   "metadata": {},
   "outputs": [],
   "source": [
    "\"\"\" Test code for the previous function. \n",
    "This cell should NOT give any errors when it is run.\"\"\"\n",
    "\n",
    "assert 'GEOID' in pop_gdf.columns.to_list()\n",
    "assert 'geometry' in pop_gdf.columns.to_list()\n",
    "assert 'DP05_0001E' in pop_gdf.columns.to_list()\n",
    "assert pop_gdf.shape == (3108, 8)\n",
    "\n",
    "print(\"Success!\")"
   ]
  },
  {
   "cell_type": "markdown",
   "metadata": {},
   "source": [
    "---\n",
    "### *Exercise*\n",
    "5. (5 points) Change the projection of `county_gdf` to `NAD83 / Conus Albers (EPSG: 5070)` using the `to_crs` method. You can simply use the syntax below. <br>\n",
    "    ```python\n",
    "    `GeoDataFrmae` = `GeoDataFrmae`.to_crs(epsg=`EPSG CODE`)\n",
    "    ```\n",
    "---\n",
    "\n"
   ]
  },
  {
   "cell_type": "code",
   "execution_count": null,
   "metadata": {},
   "outputs": [],
   "source": [
    "# Your code here\n",
    "\n"
   ]
  },
  {
   "cell_type": "code",
   "execution_count": null,
   "metadata": {},
   "outputs": [],
   "source": [
    "\"\"\" Test code for the previous function. \n",
    "This cell should NOT give any errors when it is run.\"\"\"\n",
    "\n",
    "assert pop_gdf.crs.to_string() == 'EPSG:5070'\n",
    "\n",
    "print(\"Success!\")"
   ]
  },
  {
   "cell_type": "markdown",
   "metadata": {},
   "source": [
    "---\n",
    "### *Exercise*\n",
    "6. (5 points) Create a choropleth map of population for the conterminous United States. <br>\n",
    "    - Consult using the code below and fill in a proper information for the attributes below <br>\n",
    "    - `column`: column with the population information <br>\n",
    "    - `cmap` : Green color map (resource: https://matplotlib.org/stable/users/explain/colors/colormaps.html) <br>\n",
    "    - `scheme`: Natural Break classification method <br>\n",
    "    - `legend`: True (to show the legend) <br>\n",
    "    - `k`: 7 (number of classes) <br>\n",
    "\n",
    "    ```python\n",
    "    fig, ax = plt.subplots(figsize=(10,10)) # Define the canvas for the map\n",
    "\n",
    "    # Plot the population data\n",
    "    pop_gdf.plot(column='COLUMN NAME', cmap='COLOR MAP NAME', scheme='CLASSIFICATION METHOD', legend=True, k=NUMBER OF CLASSES, ax=axis)\n",
    "\n",
    "    # Plot the state boundary\n",
    "    state_gdf.boundary.plot(ax=ax, color='black', linewidth=0.5, alpha=0.5)\n",
    "\n",
    "    # Show the map\n",
    "    plt.show()\n",
    "    ```\n",
    "\n",
    "Expected results are as follows: <br>\n",
    "<img src=\"./images/q6.jpg\">\n",
    "\n",
    "---\n"
   ]
  },
  {
   "cell_type": "code",
   "execution_count": null,
   "metadata": {},
   "outputs": [],
   "source": [
    "# Your code here\n",
    "fig, ax = plt.subplots(figsize=(10,10)) # Define the canvas for the map\n",
    "\n",
    "# Plot the population data\n",
    "pop_gdf.plot(column='COLUMN NAME', cmap='COLOR MAP NAME', scheme='CLASSIFICATION METHOD', legend=True, k=NUMBER OF CLASSES, ax=axis)\n",
    "\n",
    "# Plot the state boundary\n",
    "state_gdf.boundary.plot(ax=ax, color='black', linewidth=0.5, alpha=0.5)\n",
    "\n",
    "# Show the map\n",
    "plt.show()"
   ]
  },
  {
   "cell_type": "code",
   "execution_count": null,
   "metadata": {},
   "outputs": [],
   "source": [
    "fig, axes = plt.subplots(1, 2, figsize=(20,10))\n",
    "\n",
    "gdp_gdf.plot(column='GDP', cmap='Blues', scheme='NaturalBreaks', figsize=(10,10), legend=True, k=7, ax=axes[0])\n",
    "state_gdf.boundary.plot(ax=axes[0], color='black', linewidth=0.5, alpha=0.5)\n",
    "\n",
    "pop_gdf.plot(column='DP05_0001E', cmap='Greens', scheme='NaturalBreaks', figsize=(10,10), legend=True, k=7, ax=axes[1])\n",
    "state_gdf.boundary.plot(ax=axes[1], color='black', linewidth=0.5, alpha=0.5)\n",
    "plt.show()"
   ]
  },
  {
   "cell_type": "markdown",
   "metadata": {},
   "source": [
    "# Done"
   ]
  }
 ],
 "metadata": {
  "kernelspec": {
   "display_name": "Python 3",
   "language": "python",
   "name": "python3"
  },
  "language_info": {
   "codemirror_mode": {
    "name": "ipython",
    "version": 3
   },
   "file_extension": ".py",
   "mimetype": "text/x-python",
   "name": "python",
   "nbconvert_exporter": "python",
   "pygments_lexer": "ipython3",
   "version": "3.11.5"
  }
 },
 "nbformat": 4,
 "nbformat_minor": 4
}
