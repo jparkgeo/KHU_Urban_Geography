{
 "cells": [
  {
   "cell_type": "markdown",
   "id": "df56526e",
   "metadata": {},
   "source": [
    "# Python Basics\n",
    "\n",
    "This Jupyter notebook covers the basics of Python, particularly, 1) data type, 2)data containers, and 3) control flows. "
   ]
  },
  {
   "cell_type": "markdown",
   "id": "9a411a38",
   "metadata": {},
   "source": [
    "## 1. Python Data Type\n",
    "\n",
    "Python has a handful of data types to store data effectively and efficiently. The followings are the data type we will cover in this course. \n",
    "\n",
    "- String: str()\n",
    "    - 'Hello world'\n",
    "- Integer: int()\n",
    "    - 1, 2, 3...\n",
    "- Floating-point number: float()\n",
    "    - 3.141592...\n",
    "- Boolean: bool() \n",
    "    - True or False\n"
   ]
  },
  {
   "cell_type": "markdown",
   "id": "ed2e0b7a",
   "metadata": {},
   "source": [
    "The following is a quick example of how you assign variables in Python. <br> \n",
    "Note that we did not need to declare variable types. We could just assign anything to a variable and it works. This is the power of an interpreted (as opposed to compiled) language. "
   ]
  },
  {
   "cell_type": "code",
   "execution_count": null,
   "id": "16bbb386",
   "metadata": {},
   "outputs": [],
   "source": [
    "s = 'Hello world' # String\n",
    "i = 1 # Integer\n",
    "f = 3.141592 # Floating point number (float)\n",
    "b = True\n",
    "\n",
    "# Print the variables and their types\n",
    "print(s, type(s))\n",
    "print(i, type(i))\n",
    "print(f, type(f))\n",
    "print(b, type(b))"
   ]
  },
  {
   "cell_type": "markdown",
   "id": "ef31adfe",
   "metadata": {},
   "source": [
    "### 1.1. String\n",
    "\n",
    "Strings are made using various kinds of (matching) quotes. Examples:"
   ]
  },
  {
   "cell_type": "code",
   "execution_count": null,
   "id": "8a4cceb4",
   "metadata": {},
   "outputs": [],
   "source": [
    "s1 = 'hello'\n",
    "s2 = \"world\"\n",
    "s3 = '''strings can \n",
    "also go 'over'\n",
    "multiple \"lines\".'''\n",
    "\n",
    "print(s1)\n",
    "print(s2)\n",
    "print(s3)"
   ]
  },
  {
   "cell_type": "markdown",
   "id": "d175e260",
   "metadata": {},
   "source": [
    "You can also 'add' strings using 'operator overloading', meaning that the plus sign can take on different meanings depending on the data types of the variables you are using it on."
   ]
  },
  {
   "cell_type": "code",
   "execution_count": null,
   "id": "e94b6649",
   "metadata": {},
   "outputs": [],
   "source": [
    "print(s1 + ' ' + s2)  # note, we need the space otherwise we would get 'helloworld'"
   ]
  },
  {
   "cell_type": "markdown",
   "id": "ef9b02cd",
   "metadata": {},
   "source": [
    "Another methods of putting strings together is called 'formatted string literals' (also called f-strings for short). "
   ]
  },
  {
   "cell_type": "code",
   "execution_count": null,
   "id": "fe80994b",
   "metadata": {},
   "outputs": [],
   "source": [
    "# Here, we assign the string directly inside of the parenthesis.\n",
    "print(f'{s1} {s2}') "
   ]
  },
  {
   "cell_type": "markdown",
   "id": "57c957db",
   "metadata": {},
   "source": [
    "---\n",
    "### *Exercise*\n",
    "\n",
    "1. Create two variables, called `first` and `last`, and assign your first and last name, respectively.\n",
    "2. Comebine those two variables into a new variable and make a new variable called `name`. It should have a space between your first and last name. \n",
    "\n",
    "---"
   ]
  },
  {
   "cell_type": "code",
   "execution_count": null,
   "id": "82b3f642",
   "metadata": {},
   "outputs": [],
   "source": [
    "# Your code here\n",
    "first = 'Jinwoo'\n",
    "last = 'Park'\n",
    "\n",
    "name = first + ' ' + last\n",
    "name = f'{first} {last}'"
   ]
  },
  {
   "cell_type": "code",
   "execution_count": null,
   "id": "3c5a2b61",
   "metadata": {},
   "outputs": [],
   "source": [
    "\"\"\" Test code for the previous function. \n",
    "This cell should NOT give any errors when it is run.\"\"\"\n",
    "\n",
    "# Check your result here. \n",
    "print(f'{first} {last}')\n",
    "print(name)\n",
    "\n",
    "assert f'{first} {last}' == name\n",
    "print(\"Success!\")"
   ]
  },
  {
   "cell_type": "markdown",
   "id": "2b3ac80b",
   "metadata": {},
   "source": [
    "### 1.2. Numeric types (i.e., Integer and Float)"
   ]
  },
  {
   "cell_type": "code",
   "execution_count": null,
   "id": "a1313ee8",
   "metadata": {},
   "outputs": [],
   "source": [
    "year = 2024  # if you assign INTEGER to a variable, the type will be an INTEGER\n",
    "pi = 3.141592  # if you assign FLOAT to a variable, the type will be an FLOAT. \n",
    "\n",
    "print(year, type(year))\n",
    "print(pi, type(pi))"
   ]
  },
  {
   "cell_type": "code",
   "execution_count": null,
   "id": "74711bd9-86ec-4001-b2f3-28b7dc6b386c",
   "metadata": {},
   "outputs": [],
   "source": [
    "a = 5.\n",
    "print(a, type(a))"
   ]
  },
  {
   "cell_type": "markdown",
   "id": "57e4a1ec",
   "metadata": {},
   "source": [
    "You can use the following arithmetic operator in Python. \n",
    "\n",
    "| Name | Operator | Example |\n",
    "| --- | --- | --- |\n",
    "| Addition | + | x + y |\n",
    "| Subtraction | - | x - y |\n",
    "| Multiplication | * | x * y |\n",
    "| Division | / | x / y |\n",
    "| Exponentiation | ** | x ** y |\n",
    "| Floor division | // | x // y |\n",
    "| Modulus | % | x % y |"
   ]
  },
  {
   "cell_type": "code",
   "execution_count": null,
   "id": "aedc3d4a",
   "metadata": {},
   "outputs": [],
   "source": [
    "aa = 25\n",
    "bb = 3\n",
    "\n",
    "print(f'Addition:        {aa} + {bb} = {aa + bb}') \n",
    "print(f'Subtraction:     {aa} - {bb} = {aa - bb}') \n",
    "print(f'Multiplication:  {aa} * {bb} = {aa * bb}') \n",
    "print(f'Division:        {aa} / {bb} = {aa / bb}') \n",
    "print(f'Exponentiation:  {aa} ** {bb} = {aa ** bb}') \n",
    "print(f'Quotient:        {aa} // {bb} = {aa // bb}') \n",
    "print(f'Remainder:       {aa} % {bb} = {aa % bb}') "
   ]
  },
  {
   "cell_type": "markdown",
   "id": "8faa85e2",
   "metadata": {},
   "source": [
    "If you sum an integer and a float, its type will be float, regardless of the result of the sum."
   ]
  },
  {
   "cell_type": "code",
   "execution_count": null,
   "id": "feb64506",
   "metadata": {},
   "outputs": [],
   "source": [
    "n1 = 1\n",
    "n2 = 1.0\n",
    "n3 = n1 + n2\n",
    "\n",
    "print(n1, type(n1))\n",
    "print(n2, type(n2))\n",
    "print(n3, type(n3))"
   ]
  },
  {
   "cell_type": "markdown",
   "id": "72c86c79",
   "metadata": {},
   "source": [
    "You can easily change the type of numerical variables with `int()` and `float()`. <br>\n",
    "Note that `int()` will only keep the integer part of float (e.g., 3.141592 -> 3). "
   ]
  },
  {
   "cell_type": "code",
   "execution_count": null,
   "id": "f9b4af01",
   "metadata": {},
   "outputs": [],
   "source": [
    "# From integer to float\n",
    "print(n1, type(n1))\n",
    "\n",
    "n4 = float(n1)\n",
    "print(n4, type(n4))\n",
    "\n",
    "# From float to integer\n",
    "print(pi, type(pi))\n",
    "\n",
    "n5 = int(pi)\n",
    "print(n5, type(n5))"
   ]
  },
  {
   "cell_type": "markdown",
   "id": "0d3b0a53",
   "metadata": {},
   "source": [
    "If you want to round the rational number, instead of just removing decimal points, use the function `round()`."
   ]
  },
  {
   "cell_type": "code",
   "execution_count": null,
   "id": "f7121788",
   "metadata": {
    "scrolled": true
   },
   "outputs": [],
   "source": [
    "# round(number, digit) takes two arguments. \n",
    "# The first is the number to be rounded, the second is the number of decimals (default is 0).\n",
    "print(round(pi, 1))  \n",
    "print(round(pi, 2))\n",
    "print(round(pi, 3))\n",
    "print(round(pi, 4))\n",
    "print(round(pi, 5))"
   ]
  },
  {
   "cell_type": "markdown",
   "id": "a25c4698",
   "metadata": {},
   "source": [
    "---\n",
    "### *Exercise*\n",
    "\n",
    "3. Calculate the perimeter and the area of a circle with a radius of 5 (You can use pi assigned in the previus cell). <br><br>\n",
    "$$ C = 2 \\pi r $$\n",
    "$$ A = \\pi r ^2 $$\n",
    "\n",
    "4. Assign the perimeter and the area to C and A, respectively. \n",
    "\n",
    "```python\n",
    "pi = 3.141592\n",
    "r = 5\n",
    "\n",
    "C = `DO SOMETHING`\n",
    "A = `DO SOMETHING`\n",
    "```\n",
    "---"
   ]
  },
  {
   "cell_type": "code",
   "execution_count": null,
   "id": "b021d704",
   "metadata": {},
   "outputs": [],
   "source": [
    "# Your code here\n",
    "pi = 3.141592\n",
    "r = 5\n",
    "\n",
    "C = `DO SOMETHING`\n",
    "A = `DO SOMETHING`"
   ]
  },
  {
   "cell_type": "code",
   "execution_count": null,
   "id": "2f25e6eb",
   "metadata": {},
   "outputs": [],
   "source": [
    "\"\"\" Test code for the previous function. \n",
    "This cell should NOT give any errors when it is run.\"\"\"\n",
    "\n",
    "# Check your result here. \n",
    "print(f'Perimeter of a circle: {C}')\n",
    "print(f'Area of a circle: {A}')\n",
    "\n",
    "assert round(C, 2) == 31.42\n",
    "assert round(A, 2) == 78.54\n",
    "print(\"Success!\")"
   ]
  },
  {
   "cell_type": "markdown",
   "id": "3324ee88",
   "metadata": {},
   "source": [
    "### 1.3. Boolean \n",
    "\n",
    "A `Boolean` variable denotes ture or false values based on two case-sensitive keywords, `True` and `False`."
   ]
  },
  {
   "cell_type": "code",
   "execution_count": null,
   "id": "7889c179",
   "metadata": {},
   "outputs": [],
   "source": [
    "b1 = True\n",
    "b2 = False\n",
    "print(b1, b2)"
   ]
  },
  {
   "cell_type": "markdown",
   "id": "6c5ef262",
   "metadata": {},
   "source": [
    "Note that `True` is NOT equal to `'True'`. `'True'` is a string, not a boolean. "
   ]
  },
  {
   "cell_type": "code",
   "execution_count": null,
   "id": "ce08bf03",
   "metadata": {},
   "outputs": [],
   "source": [
    "print(f'Type of True: {type(True)}')\n",
    "print(f'Type of \"True\": {type(\"True\")}')"
   ]
  },
  {
   "cell_type": "markdown",
   "id": "653a2499",
   "metadata": {},
   "source": [
    "Each data type of Python has a representation of boolean. For example, numereical value 0 is `False`, but other numbers are `True`. In addition, empty string (e.g., `''`) is `False`, but nonempty string is `True`. "
   ]
  },
  {
   "cell_type": "code",
   "execution_count": null,
   "id": "971b8070",
   "metadata": {},
   "outputs": [],
   "source": [
    "# Integer / Float\n",
    "print(bool(0)) \n",
    "print(bool(1)) \n",
    "print(bool(-1.8))\n",
    "print(bool(100))"
   ]
  },
  {
   "cell_type": "code",
   "execution_count": null,
   "id": "17f48f9b",
   "metadata": {},
   "outputs": [],
   "source": [
    "# String\n",
    "print(bool(''))\n",
    "print(bool('Something'))\n",
    "print(bool('Words'))"
   ]
  },
  {
   "cell_type": "markdown",
   "id": "631ac647",
   "metadata": {},
   "source": [
    "The variable type, Boolean, is usually used for testing conditions, rather than storing True and False. \n",
    "<br><br>\n",
    "We can test the values of variables using different operators. These tests return a `Boolean` value. Either `True` or `False`. `False` is the same as zero, `True` is nonzero. Note that assignment `=` is different than a test of equality `==`."
   ]
  },
  {
   "cell_type": "code",
   "execution_count": null,
   "id": "c3565aaf",
   "metadata": {},
   "outputs": [],
   "source": [
    "a = 5"
   ]
  },
  {
   "cell_type": "code",
   "execution_count": null,
   "id": "12d6ad3c",
   "metadata": {},
   "outputs": [],
   "source": [
    "print(f'a < 99:  {a < 99}')\n",
    "print(f'a > 99:  {a > 99}')\n",
    "print(f'a == 5.:  {a == 5.}')"
   ]
  },
  {
   "cell_type": "markdown",
   "id": "f1a5a503",
   "metadata": {},
   "source": [
    "These statements have returned \"booleans\", which are True and False only. These are commonly used to check for conditions within a script or function to determine the next course of action.\n",
    "\n",
    "NOTE: booleans are NOT equivalent to a string that says \"True\" or \"False\". We can test this:"
   ]
  },
  {
   "cell_type": "code",
   "execution_count": null,
   "id": "9b096c93",
   "metadata": {},
   "outputs": [],
   "source": [
    "True == 'True'"
   ]
  },
  {
   "cell_type": "markdown",
   "id": "2681a47b",
   "metadata": {},
   "source": [
    "There are other things that can be tested, not just mathematical equalities. For example, to test if an element is inside of a list or string (or any sequence, more on sequences below..), do"
   ]
  },
  {
   "cell_type": "code",
   "execution_count": null,
   "id": "709c9ebd",
   "metadata": {},
   "outputs": [],
   "source": [
    "foo = [1, 2, 3, 4, 5 ,6] # List\n",
    "5 in foo"
   ]
  },
  {
   "cell_type": "code",
   "execution_count": null,
   "id": "88b23285",
   "metadata": {},
   "outputs": [],
   "source": [
    "print('this' in 'What is this?')\n",
    "print('that' in 'What is this?')"
   ]
  },
  {
   "cell_type": "markdown",
   "id": "25b2f350",
   "metadata": {},
   "source": [
    "## 2. Containers\n",
    "\n",
    "- List: list()\n",
    "    - [variable1, variable2, variable3...]\n",
    "- Tuple: tuple()\n",
    "    - (variable1, variable2, variable3...)\n",
    "- Dictionary: dict()\n",
    "    - {key1: value1, key2: value2, key3: value3 ...}\n",
    "\n",
    "Often you need lists or sequences of different values (e.g., a timeseries of temperature – a list of values representing the temperature on sequential days). There are three containers in the core python language. There are a few more specialized containers (e.g., numpy arrays and pandas dataframes) for use in scientific computing that we will learn much more about later; they are very similar to the containers we will learn about here."
   ]
  },
  {
   "cell_type": "markdown",
   "id": "df391315",
   "metadata": {},
   "source": [
    "### 2.1. List\n",
    "\n",
    "Lists are perhaps the most common container type. They are used for sequential data. Create them with square brackets with comma separated values within:"
   ]
  },
  {
   "cell_type": "code",
   "execution_count": null,
   "id": "0a46efb8",
   "metadata": {
    "scrolled": true
   },
   "outputs": [],
   "source": [
    "foo = [1., 2., 3, 'four', 'five', [6., 7., 8], 'nine']\n",
    "type(foo)"
   ]
  },
  {
   "cell_type": "markdown",
   "id": "4c95c15d",
   "metadata": {},
   "source": [
    "Note that lists (unlike arrays, as we will later learn) can be heterogeneous. That is, the elements in the list don't have to have the same kind of data type. Here we have a list with floats, ints, strings, and even another (nested) list!\n",
    "\n",
    "We can retrieve the individual elements of a list by 'indexing' the list. We do this with square brackets, using zero-based indexes – that is 0 is the first element – as such:"
   ]
  },
  {
   "cell_type": "code",
   "execution_count": null,
   "id": "3032ee31",
   "metadata": {},
   "outputs": [],
   "source": [
    "foo[0]"
   ]
  },
  {
   "cell_type": "code",
   "execution_count": null,
   "id": "3fe60177",
   "metadata": {},
   "outputs": [],
   "source": [
    "foo[5]  # Nested list (a list in a list)"
   ]
  },
  {
   "cell_type": "code",
   "execution_count": null,
   "id": "7fd9aa43",
   "metadata": {},
   "outputs": [],
   "source": [
    "foo[5][1]  # Python is sequential, we can access an element within an element using sequential indexing."
   ]
  },
  {
   "cell_type": "code",
   "execution_count": null,
   "id": "78f60da3",
   "metadata": {},
   "outputs": [],
   "source": [
    "foo[-1]    # This is the way to access the last element."
   ]
  },
  {
   "cell_type": "code",
   "execution_count": null,
   "id": "20f4ea46",
   "metadata": {},
   "outputs": [],
   "source": [
    "foo[-3]    # ...and the third to last element"
   ]
  },
  {
   "cell_type": "code",
   "execution_count": null,
   "id": "8146b057",
   "metadata": {},
   "outputs": [],
   "source": [
    "foo[-3][2]   # we can also index strings."
   ]
  },
  {
   "cell_type": "code",
   "execution_count": null,
   "id": "b6bb0032",
   "metadata": {},
   "outputs": [],
   "source": [
    "list_a = [0, 1, 2, 3]\n",
    "list_a"
   ]
  },
  {
   "cell_type": "code",
   "execution_count": null,
   "id": "11daa52c",
   "metadata": {},
   "outputs": [],
   "source": [
    "list_a.append(4)\n",
    "list_a"
   ]
  },
  {
   "cell_type": "code",
   "execution_count": null,
   "id": "ed1edaf3",
   "metadata": {
    "scrolled": true,
    "tags": []
   },
   "outputs": [],
   "source": [
    "# create a sequence of 10 elements, starting with zero, up to but not including 10.\n",
    "bar = [10, 11, 12, 13, 14, 15, 16, 17, 18, 19]\n",
    "\n",
    "# or you can use function range(start, end, step) to create the same list\n",
    "bar_ = list(range(10, 20, 1))\n",
    "print(bar)\n",
    "print(bar_)\n",
    "print(bar == bar_)"
   ]
  },
  {
   "cell_type": "markdown",
   "id": "7eb3c4d0",
   "metadata": {},
   "source": [
    "---\n",
    "### *Exercise*\n",
    "\n",
    "5. Find the value at the index of 3 in the list `bar` and then assign it to a variable `slice` <br><br>\n",
    "```python\n",
    "bar = [10, 11, 12, 13, 14, 15, 16, 17, 18, 19]\n",
    "slice = `DO SOMETHING`\n",
    "print(slice)\n",
    "```\n",
    "---"
   ]
  },
  {
   "cell_type": "code",
   "execution_count": null,
   "id": "1090aa91",
   "metadata": {},
   "outputs": [],
   "source": [
    "# Your code here\n",
    "bar = [10, 11, 12, 13, 14, 15, 16, 17, 18, 19]\n",
    "slice = `DO SOMETHING`\n",
    "print(slice)"
   ]
  },
  {
   "cell_type": "code",
   "execution_count": null,
   "id": "14b943c7",
   "metadata": {},
   "outputs": [],
   "source": [
    "\"\"\" Test code for the previous function. \n",
    "This cell should NOT give any errors when it is run.\"\"\"\n",
    "\n",
    "# Check your result here. \n",
    "assert slice == 12\n",
    "print(\"Success!\")"
   ]
  },
  {
   "cell_type": "markdown",
   "id": "a42c0248",
   "metadata": {},
   "source": [
    "### 2.2. Tuples\n",
    "\n",
    "Tuples (pronounced too'-puls) are sequences that can't be modified, and don't have methods. Thus, they are designed to be immutable sequences. They are created like lists, but with parentheses instead of square brackets."
   ]
  },
  {
   "cell_type": "code",
   "execution_count": null,
   "id": "1b60ac59",
   "metadata": {},
   "outputs": [],
   "source": [
    "bar = list(range(0, 10, 1))\n",
    "print(bar)\n",
    "bar[3] = -999\n",
    "# print(bar)"
   ]
  },
  {
   "cell_type": "code",
   "execution_count": null,
   "id": "7c7ddc7d",
   "metadata": {},
   "outputs": [],
   "source": [
    "# foo = (3, 5, 7, 9)\n",
    "# foo[2] = -999  # gives an assignment error. Commented so that all cells run."
   ]
  },
  {
   "cell_type": "code",
   "execution_count": null,
   "id": "55406f84-8f49-468f-988c-abf67d568498",
   "metadata": {},
   "outputs": [],
   "source": [
    "foo[1]"
   ]
  },
  {
   "cell_type": "markdown",
   "id": "61da8911",
   "metadata": {},
   "source": [
    "### 2.3. Dictionaries\n",
    "\n",
    "Dictionaries are used for unordered sequences that are referenced by arbitrary 'keys' instead of by a (sequential) index. Dictionaries are created using curly braces with keys and values separated by a colon, and key:value pairs separated by commas, as"
   ]
  },
  {
   "cell_type": "code",
   "execution_count": null,
   "id": "cc0860ea",
   "metadata": {},
   "outputs": [],
   "source": [
    "dict_car = {\n",
    "    \"Brand\" : \"Hyundai\",\n",
    "    \"Model\" : \"Santa Fe\",\n",
    "    \"Year\"  : 2024\n",
    "}\n",
    "print(dict_car)"
   ]
  },
  {
   "cell_type": "markdown",
   "id": "7b75aacd",
   "metadata": {},
   "source": [
    "Elements are referenced and assigned by keys:"
   ]
  },
  {
   "cell_type": "code",
   "execution_count": null,
   "id": "3391b95a",
   "metadata": {},
   "outputs": [],
   "source": [
    "dict_car['brand']"
   ]
  },
  {
   "cell_type": "code",
   "execution_count": null,
   "id": "bd26d7d4",
   "metadata": {},
   "outputs": [],
   "source": [
    "dict_car['model']"
   ]
  },
  {
   "cell_type": "markdown",
   "id": "25cc737b",
   "metadata": {},
   "source": [
    "The sets of a key and a value can be added or replaced as follows. "
   ]
  },
  {
   "cell_type": "code",
   "execution_count": null,
   "id": "102b2412-4841-444e-babc-f0c2da7776f4",
   "metadata": {},
   "outputs": [],
   "source": [
    "bar[3] = -999"
   ]
  },
  {
   "cell_type": "code",
   "execution_count": null,
   "id": "49e4a9e1",
   "metadata": {},
   "outputs": [],
   "source": [
    "# Add value with a key\n",
    "dict_car['color'] = 'Black'\n",
    "print(dict_car)"
   ]
  },
  {
   "cell_type": "code",
   "execution_count": null,
   "id": "a98c0a60",
   "metadata": {},
   "outputs": [],
   "source": [
    "# Replacing value with a key\n",
    "print(dict_car['year'])\n",
    "dict_car['year'] = list(range(2020, 2025, 1)) # [2020, 2021, 2022, 2023, ... ]\n",
    "print(dict_car['year'])"
   ]
  },
  {
   "cell_type": "code",
   "execution_count": null,
   "id": "d16c0598-72a6-4086-a79b-cc26fe398ef5",
   "metadata": {},
   "outputs": [],
   "source": [
    "dict_car"
   ]
  },
  {
   "cell_type": "markdown",
   "id": "c7f1a338",
   "metadata": {},
   "source": [
    "The keys and values can be extracted as lists using methods of the dictionary class."
   ]
  },
  {
   "cell_type": "code",
   "execution_count": null,
   "id": "e11a958e",
   "metadata": {},
   "outputs": [],
   "source": [
    "dict_car.keys()"
   ]
  },
  {
   "cell_type": "code",
   "execution_count": null,
   "id": "1049badb",
   "metadata": {},
   "outputs": [],
   "source": [
    "dict_car.values()"
   ]
  },
  {
   "cell_type": "markdown",
   "id": "50bd44e7",
   "metadata": {},
   "source": [
    "## 3. Control Flows\n",
    "\n",
    "- Loops\n",
    "    - For loop (or for statement)\n",
    "    - While loop (or while statement)\n",
    "\n",
    "- Conditional (i.e., if statement)"
   ]
  },
  {
   "cell_type": "markdown",
   "id": "bc2e712f",
   "metadata": {},
   "source": [
    "### 3.1. For loop\n",
    "\n",
    "Loops are one of the fundamental structures in programming. Loops allow you to iterate over each element in a sequence, one at a time, and do something with those elements.\n",
    "\n",
    "*Loop syntax*: Loops have a very particular syntax in Python; this syntax is one of the most notable features to Python newcomers. The format looks like\n",
    "\n",
    "```python\n",
    "    for *element* in *sequence*:                # NOTE the colon at the end\n",
    "        <some code that uses the *element*>     # the block of code that is looped over for each element\n",
    "        <more code that uses the *element*>     # is indented four spaces (yes four! yes spaces!)\n",
    "    \n",
    "    <the code after the loop continues>         # the end of the loop is marked simply by unindented code\n",
    "```\n",
    "Thus, INDENTATION IS SIGNIFICNAT TO THE CODE. This was done because good coding practice (in almost all languages, C, FORTRAN, MATLAB) typically indents loops, functions, etc. Having indentation be significant saves the end of loop syntax for more compact code.\n",
    "\n",
    "*Some important notes on indentation*  Indentation in python is typically *4 spaces*. Most programming text editors will be smart about indentation, and will also convert TABs to four spaces. Jupyter notebooks are smart about indentation, and will do the right thing, i.e., autoindent a line below a line with a trailing colon, and convert TABs to spaces. \n"
   ]
  },
  {
   "cell_type": "code",
   "execution_count": null,
   "id": "e303f235-b750-4c05-9ba4-003cb73c346d",
   "metadata": {},
   "outputs": [],
   "source": [
    "for n in range(0, 11, 1):\n",
    "    print(n)"
   ]
  },
  {
   "cell_type": "code",
   "execution_count": null,
   "id": "55042f88",
   "metadata": {},
   "outputs": [],
   "source": [
    "# A simple example is to find the sum of the sequence 0 through 10,\n",
    "sum_result = 0\n",
    "\n",
    "for n in range(0, 11, 1):\n",
    "    # sum_result += n\n",
    "    sum_result = sum_result + n\n",
    "    print(f'sum result from 0 to {n}: {sum_result}')\n",
    "    \n",
    "print(sum_result)"
   ]
  },
  {
   "cell_type": "code",
   "execution_count": null,
   "id": "47b7b797",
   "metadata": {},
   "outputs": [],
   "source": [
    "names = ['Patrick', 'Chris', 'Daniel']\n",
    "for name in names:\n",
    "    print(f'Welcome to the programming class, {name}!')"
   ]
  },
  {
   "cell_type": "code",
   "execution_count": null,
   "id": "300d501d",
   "metadata": {},
   "outputs": [],
   "source": [
    "# This for loop will spit out every alphabet in the string. \n",
    "for s in 'Patrick':\n",
    "    print(s)"
   ]
  },
  {
   "cell_type": "markdown",
   "id": "849871dc",
   "metadata": {
    "tags": []
   },
   "source": [
    "### 3.2. If statement\n",
    "Conditionals have a similar syntax to `for` statements. Generally, conditionals look like\n",
    "```python\n",
    "    if <test>:\n",
    "        <Code run if...>\n",
    "        <...test is valid>\n",
    "```\n",
    "or\n",
    "```python\n",
    "    if <first test>:\n",
    "        <Code run if...>\n",
    "        <...the first test is valid>\n",
    "    elif <second test>:\n",
    "        <Code run if...>\n",
    "        <...the second test is valid>\n",
    "    else:\n",
    "        <Code run if...>\n",
    "        <...neither test is valid>\n",
    "```\n",
    "\n",
    "In both cases the test statements are code segments that return a boolean value, often a test for equality or inequality. The `elif` and `else` statements are always optional; both, either, or none can be included."
   ]
  },
  {
   "cell_type": "code",
   "execution_count": null,
   "id": "880ae57e",
   "metadata": {},
   "outputs": [],
   "source": [
    "x = 2\n",
    "    \n",
    "if x < 20: \n",
    "    print('x is less than 20')\n",
    "elif x == 20:\n",
    "    print('x is equal to 20')\n",
    "else:\n",
    "    print('x is more than 20')\n"
   ]
  },
  {
   "cell_type": "markdown",
   "id": "35ce340a",
   "metadata": {
    "tags": []
   },
   "source": [
    "---\n",
    "### *Exercise*\n",
    "\n",
    "6. By utilizing `for loop` and `if statements`, append the values from 0 to 9 into `list_odd` and `list_even`. <br>\n",
    "Hint: You can use % operator to check the remainder. For example, 2 % 2 = 0, because 2 / 2 = 1 with no remainder. <br>\n",
    "\n",
    "```python\n",
    "list_odd = []\n",
    "list_even = []\n",
    "\n",
    "for value in range(0, 10, 1):\n",
    "    print(value) # Check the current value in the loop\n",
    "\n",
    "    if `DO SOMETHING`: # If the value is even\n",
    "        \n",
    "        # Add the current value in the loop to `list_even`\n",
    "        `DO SOMETHING (ONE LINE OF CODE)`\n",
    "        \n",
    "    else: # Other cases, i.e., if the value is odd\n",
    "        \n",
    "        # Add the current value in the loop to `list_odd`\n",
    "        `DO SOMETHING (ONE LINE OF CODE)`\n",
    "        \n",
    "print(f'Even Numbers: {list_even}')\n",
    "print(f'Odd Numbers: {list_odd}')\n",
    "```\n",
    "---"
   ]
  },
  {
   "cell_type": "code",
   "execution_count": null,
   "id": "71cf617b",
   "metadata": {},
   "outputs": [],
   "source": [
    "# Your code here\n",
    "\n",
    "list_odd = []\n",
    "list_even = []\n",
    "\n",
    "for value in range(0, 10, 1):\n",
    "    print(value) # Check the current value in the loop\n",
    "\n",
    "    if `DO SOMETHING`: # If the value is even\n",
    "        \n",
    "        # Add the current value in the loop to `list_even`\n",
    "        `DO SOMETHING (ONE LINE OF CODE)`\n",
    "        \n",
    "    else: # Other cases, i.e., if the value is odd\n",
    "        \n",
    "        # Add the current value in the loop to `list_odd`\n",
    "        `DO SOMETHING (ONE LINE OF CODE)`\n",
    "        \n",
    "print(f'Even Numbers: {list_even}')\n",
    "print(f'Odd Numbers: {list_odd}')\n"
   ]
  },
  {
   "cell_type": "code",
   "execution_count": null,
   "id": "49a11b20",
   "metadata": {},
   "outputs": [],
   "source": [
    "\"\"\" Test code for the previous function. \n",
    "This cell should NOT give any errors when it is run.\"\"\"\n",
    "\n",
    "# Check your result here. \n",
    "assert list_even == [0, 2, 4, 6, 8]\n",
    "assert list_odd == [1, 3, 5, 7, 9]\n",
    "\n",
    "print(\"Success!\")"
   ]
  },
  {
   "cell_type": "markdown",
   "id": "0b6e2fc9-c3d8-445b-9a1a-ff1dfc2cbaee",
   "metadata": {},
   "source": [
    "# Done"
   ]
  }
 ],
 "metadata": {
  "kernelspec": {
   "display_name": "Python 3",
   "language": "python",
   "name": "python3"
  },
  "language_info": {
   "codemirror_mode": {
    "name": "ipython",
    "version": 3
   },
   "file_extension": ".py",
   "mimetype": "text/x-python",
   "name": "python",
   "nbconvert_exporter": "python",
   "pygments_lexer": "ipython3",
   "version": "3.11.5"
  }
 },
 "nbformat": 4,
 "nbformat_minor": 5
}
